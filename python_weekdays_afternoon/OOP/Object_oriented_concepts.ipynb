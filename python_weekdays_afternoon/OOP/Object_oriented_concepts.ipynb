{
 "cells": [
  {
   "cell_type": "code",
   "execution_count": 14,
   "metadata": {},
   "outputs": [
    {
     "name": "stdout",
     "output_type": "stream",
     "text": [
      "Value of x is python\n",
      "Value of y is programming\n",
      "This is a class method\n"
     ]
    }
   ],
   "source": [
    "class sample:\n",
    "    x='python'                   # class member :x \n",
    "    y='programming'              # class member: y\n",
    "    def show(a):                  # class method\n",
    "        print('This is a class method')                 #in class we compulsary give argument to definition\n",
    "    \n",
    "#object creation\n",
    "\n",
    "s1=sample()                      # s1: object\n",
    "#to access class members outside a class using object\n",
    "print(\"Value of x is\",s1.x)\n",
    "print(\"Value of y is\",s1.y)\n",
    "s1.show()                        #call show function\n"
   ]
  },
  {
   "cell_type": "code",
   "execution_count": 20,
   "metadata": {},
   "outputs": [
    {
     "name": "stdout",
     "output_type": "stream",
     "text": [
      "This is a class method\n",
      "Inside a class access class members\n",
      "Value of x is python\n",
      "Value of y is programming\n"
     ]
    }
   ],
   "source": [
    "class sample:\n",
    "    x='python'                   # class member :x \n",
    "    y='programming'              # class member: y\n",
    "    def show(a):                  # class method\n",
    "        print('This is a class method')                 #in class we compulsary give argument to definition\n",
    "        print('Inside a class access class members')\n",
    "        print(\"Value of x is\",a.x)\n",
    "        print(\"Value of y is\",a.y)\n",
    "#object creation\n",
    "s1=sample()                      # s1: object\n",
    "s1.show()                        #call show function\n",
    "\n"
   ]
  },
  {
   "cell_type": "code",
   "execution_count": 36,
   "metadata": {},
   "outputs": [
    {
     "name": "stdout",
     "output_type": "stream",
     "text": [
      "Value of a is 55\n",
      "Value of b is 66\n",
      "Addition of two numbers 121\n",
      "Substraction of two numbers -11\n",
      "Multiplication of two numbers 3630\n",
      "Division of two numbers 0.83\n"
     ]
    }
   ],
   "source": [
    "class calculator:\n",
    "    a=eval(input('Enter the number')) #class member: a,b\n",
    "    b=eval(input('Enter the number'))\n",
    "    #class methods: add,substract,multiply,division\n",
    "    def show(self):\n",
    "        print('Value of a is',self.a)\n",
    "        print('Value of b is',self.b)\n",
    "    def add(self):\n",
    "        print('Addition of two numbers',self.a+self.b)\n",
    "    def substract(self):\n",
    "        print('Substraction of two numbers',self.a-self.b)\n",
    "    def multiply(self):\n",
    "        print('Multiplication of two numbers',self.a*self.b)\n",
    "    def div(self):\n",
    "        print('Division of two numbers %.2f'%(self.a/self.b))\n",
    "\n",
    "#object creation\n",
    "c1=calculator()\n",
    "c1.show()\n",
    "c1.add()\n",
    "c1.substract()\n",
    "c1.multiply()\n",
    "c1.div()\n",
    "\n"
   ]
  },
  {
   "cell_type": "code",
   "execution_count": 61,
   "metadata": {},
   "outputs": [
    {
     "name": "stdout",
     "output_type": "stream",
     "text": [
      "Addition of two numbers(function parameters) 9\n",
      "Addition of two numbers(class members) 300\n"
     ]
    }
   ],
   "source": [
    "#class definition\n",
    "class numbers:\n",
    "    x=100           #class members: x,y\n",
    "    y=200\n",
    "    def addition(self,a,b):                         #function parameters:a,b\n",
    "        print('Addition of two numbers(function parameters)',a+b)  \n",
    "        print('Addition of two numbers(class members)',self.x+self.y)      \n",
    "\n",
    "n1=numbers() #object creation=>n1\n",
    "n1.addition(4,5)\n"
   ]
  },
  {
   "cell_type": "code",
   "execution_count": 42,
   "metadata": {},
   "outputs": [
    {
     "name": "stdout",
     "output_type": "stream",
     "text": [
      "Hello\n"
     ]
    }
   ],
   "source": [
    "class A:\n",
    "    def display(self):\n",
    "        print('Hello')\n",
    "a1=A()\n",
    "a1.display()"
   ]
  },
  {
   "cell_type": "code",
   "execution_count": 45,
   "metadata": {},
   "outputs": [
    {
     "name": "stdout",
     "output_type": "stream",
     "text": [
      "Hello\n"
     ]
    }
   ],
   "source": [
    "#class with constructor\n",
    "class A:\n",
    "    def __init__(self):\n",
    "        print('Hello')\n",
    "a1=A()           #object creation+method call(constructor call)            \n",
    "#construct+actor\n"
   ]
  },
  {
   "cell_type": "code",
   "execution_count": 46,
   "metadata": {},
   "outputs": [
    {
     "name": "stdout",
     "output_type": "stream",
     "text": [
      "Second constructor called\n"
     ]
    }
   ],
   "source": [
    "#constructor overloading\n",
    "class A:\n",
    "    def __init__(self):\n",
    "        print('First constructor called')\n",
    "    def __init__(self):\n",
    "        print('Second constructor called')\n",
    "a1=A()                  #object creation"
   ]
  },
  {
   "cell_type": "code",
   "execution_count": 58,
   "metadata": {},
   "outputs": [
    {
     "name": "stdout",
     "output_type": "stream",
     "text": [
      "Second constructor called\n",
      "Second constructor called\n"
     ]
    }
   ],
   "source": [
    "class A:\n",
    "    def __init__(self,x):\n",
    "        print('First constructor called')\n",
    "    def __init__(self):\n",
    "        print('Second constructor called')\n",
    "a1=A()\n",
    "a2=A()             #constructor overloading is not possible  "
   ]
  },
  {
   "cell_type": "markdown",
   "metadata": {},
   "source": [
    "## Non parameterized constructor"
   ]
  },
  {
   "cell_type": "markdown",
   "metadata": {},
   "source": [
    "#Types of constructor\n",
    "1.default\n",
    "2.parameterized \n"
   ]
  },
  {
   "cell_type": "code",
   "execution_count": null,
   "metadata": {},
   "outputs": [],
   "source": [
    "\n"
   ]
  },
  {
   "cell_type": "code",
   "execution_count": 60,
   "metadata": {},
   "outputs": [
    {
     "name": "stdout",
     "output_type": "stream",
     "text": [
      "Value of x is None\n",
      "Value of x is 50\n"
     ]
    }
   ],
   "source": [
    "class B:\n",
    "    def __init__(self,x=None):\n",
    "        print('Value of x is',x)\n",
    "b1=B()          #non parameterized constructor\n",
    "b2=B(50)        #parameterized constructor"
   ]
  },
  {
   "cell_type": "code",
   "execution_count": 64,
   "metadata": {},
   "outputs": [
    {
     "name": "stdout",
     "output_type": "stream",
     "text": [
      "Hello\n",
      "Hello\n"
     ]
    }
   ],
   "source": [
    "#static method\n",
    "class C:\n",
    "    @staticmethod               #one function add functionality into another function \n",
    "    def show():\n",
    "        print('Hello')\n",
    "c1=C()\n",
    "c1.show()\n",
    "\n",
    "C.show()   #we can call directly using class name \n",
    "#we use static when it have multiple users\n",
    "#salary calculation shivajinagar pimpri chinchwad"
   ]
  },
  {
   "cell_type": "code",
   "execution_count": null,
   "metadata": {},
   "outputs": [],
   "source": [
    "#decorators: 1) multiple dispatch decorator ,\n",
    "#            2) staticmethod"
   ]
  },
  {
   "cell_type": "code",
   "execution_count": null,
   "metadata": {},
   "outputs": [],
   "source": []
  },
  {
   "cell_type": "code",
   "execution_count": null,
   "metadata": {},
   "outputs": [],
   "source": []
  }
 ],
 "metadata": {
  "kernelspec": {
   "display_name": "Python 3 (ipykernel)",
   "language": "python",
   "name": "python3"
  },
  "language_info": {
   "codemirror_mode": {
    "name": "ipython",
    "version": 3
   },
   "file_extension": ".py",
   "mimetype": "text/x-python",
   "name": "python",
   "nbconvert_exporter": "python",
   "pygments_lexer": "ipython3",
   "version": "3.12.3"
  }
 },
 "nbformat": 4,
 "nbformat_minor": 2
}
