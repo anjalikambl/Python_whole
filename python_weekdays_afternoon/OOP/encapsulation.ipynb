{
 "cells": [
  {
   "cell_type": "markdown",
   "metadata": {},
   "source": [
    "## Encapsulation"
   ]
  },
  {
   "cell_type": "code",
   "execution_count": 8,
   "metadata": {},
   "outputs": [
    {
     "name": "stdout",
     "output_type": "stream",
     "text": [
      "Inside a class method\n",
      "Public member x=Satyajeet \n",
      "protected member y=Piyush\n",
      "private member z=Nilam\n",
      "Outside class\n",
      "Public member x=Satyajeet\n",
      "protected member y=Piyush\n"
     ]
    }
   ],
   "source": [
    "class A:\n",
    "    x='Satyajeet'            #public class member  x\n",
    "    _y='Piyush'               #protected class member  y\n",
    "    __z='Nilam'               #private class member  z\n",
    "    def show(self):\n",
    "        print('Inside a class method')\n",
    "        print(f'Public member x={self.x} \\nprotected member y={self._y}\\nprivate member z={self.__z}')\n",
    "#object creation\n",
    "a1=A()\n",
    "#call class method\n",
    "a1.show()\n",
    "print('Outside class')\n",
    "print(f'Public member x={a1.x}')            #we can access public and protected class member outside the function\n",
    "print(f'protected member y={a1._y}')\n",
    "#print(f'private member z={a1.__z}')                    #private members cannot access outside the class"
   ]
  },
  {
   "cell_type": "code",
   "execution_count": 5,
   "metadata": {},
   "outputs": [
    {
     "name": "stdout",
     "output_type": "stream",
     "text": [
      "Employee name Anushka\n",
      "Employee education Diploma in CS\n",
      "Employee phone no 1232435325\n"
     ]
    },
    {
     "data": {
      "text/plain": [
       "1232435325"
      ]
     },
     "execution_count": 5,
     "metadata": {},
     "output_type": "execute_result"
    }
   ],
   "source": [
    "class HR:\n",
    "    emp_name='Anushka'                     #public class\n",
    "    _emp_education='Diploma in CS'          #protected class\n",
    "    ___emp_salary='10lakh per annum'        #private class member\n",
    "    _emp_phone_no=1232435325                #protected class member\n",
    "class department(HR):\n",
    "    def show(self):\n",
    "        print('Employee name',self.emp_name)\n",
    "        print('Employee education',self._emp_education)\n",
    "        print('Employee phone no',self._emp_phone_no)\n",
    "        \n",
    "d1=department()\n",
    "d1.show()\n",
    "d1.emp_name\n",
    "d1._emp_education\n",
    "d1._emp_phone_no\n",
    "\n"
   ]
  },
  {
   "cell_type": "code",
   "execution_count": 24,
   "metadata": {},
   "outputs": [
    {
     "name": "stdout",
     "output_type": "stream",
     "text": [
      "Employee name Anushka\n",
      "Employee education Diploma in CS\n",
      "Employee phone no 1232435325\n"
     ]
    }
   ],
   "source": [
    "class HR:\n",
    "    emp_name='Anushka'                     #public class\n",
    "    _emp_education='Diploma in CS'          #protected class\n",
    "    ___emp_salary='10lakh per annum'        #private class member\n",
    "    _emp_phone_no=1232435325                #protected class member\n",
    "    def __show(self):\n",
    "        print('Employee salary',self.___emp_salary)\n",
    "class department(HR):\n",
    "    def show(self):\n",
    "        \n",
    "        print('Employee name',self.emp_name) \n",
    "        print('Employee education',self._emp_education)\n",
    "        print('Employee phone no',self._emp_phone_no)\n",
    "d1=department()\n",
    "d1.show()\n",
    "##d1.__show()\n",
    "                                             #we cannot access private methods from base class\n"
   ]
  },
  {
   "cell_type": "code",
   "execution_count": 42,
   "metadata": {},
   "outputs": [
    {
     "name": "stdout",
     "output_type": "stream",
     "text": [
      "Please choose payment option\n",
      "      1-googlepay\n",
      "      2-phonepay\n",
      "      3-paytm\n",
      "Payment 5000 done by paytm pay\n"
     ]
    }
   ],
   "source": [
    "#abstraction base class\n",
    "from abc import abstractmethod,ABC\n",
    "#base class definition\n",
    "class bank_server(ABC):              #ABC is built in base class\n",
    "    @abstractmethod                  #decorator\n",
    "    def payment(self):\n",
    "            pass\n",
    "#derived class definition\n",
    "class googlepay(bank_server):\n",
    "      def payment(self,amount):\n",
    "            print(f'Payment {amount}  done by google pay')\n",
    "#derived class definition\n",
    "class phonepay(bank_server):\n",
    "      def payment(self,amount):\n",
    "            print(f'Payment {amount} done by phone pay')\n",
    "\n",
    "class paytm(bank_server):\n",
    "      def payment(self,amount):\n",
    "            print(f'Payment {amount} done by paytm pay')\n",
    "print('''Please choose payment option\n",
    "      1-googlepay\n",
    "      2-phonepay\n",
    "      3-paytm''')\n",
    "\n",
    "choice=int(input('Enter the choice'))\n",
    "if(choice==1):\n",
    "    amount=int(input('Enter the amount'))\n",
    "    g1=googlepay()\n",
    "    g1.payment(amount)\n",
    "elif(choice==2):\n",
    "    amount=int(input('Enter the amount'))\n",
    "    p1=phonepay()\n",
    "    p1.payment(amount)\n",
    "elif(choice==3):\n",
    "    amount=int(input('Enter the amount'))\n",
    "    p2=paytm()\n",
    "    p2.payment(amount)\n",
    "else:\n",
    "     print('Please enter valid option')\n",
    "\n"
   ]
  },
  {
   "cell_type": "code",
   "execution_count": 41,
   "metadata": {},
   "outputs": [
    {
     "name": "stdout",
     "output_type": "stream",
     "text": [
      "Help on function abstractmethod in module abc:\n",
      "\n",
      "abstractmethod(funcobj)\n",
      "    A decorator indicating abstract methods.\n",
      "\n",
      "    Requires that the metaclass is ABCMeta or derived from it.  A\n",
      "    class that has a metaclass derived from ABCMeta cannot be\n",
      "    instantiated unless all of its abstract methods are overridden.\n",
      "    The abstract methods can be called using any of the normal\n",
      "    'super' call mechanisms.  abstractmethod() may be used to declare\n",
      "    abstract methods for properties and descriptors.\n",
      "\n",
      "    Usage:\n",
      "\n",
      "        class C(metaclass=ABCMeta):\n",
      "            @abstractmethod\n",
      "            def my_abstract_method(self, arg1, arg2, argN):\n",
      "                ...\n",
      "\n"
     ]
    }
   ],
   "source": [
    "help(abstractmethod)"
   ]
  },
  {
   "cell_type": "code",
   "execution_count": null,
   "metadata": {},
   "outputs": [],
   "source": []
  }
 ],
 "metadata": {
  "kernelspec": {
   "display_name": "Python 3",
   "language": "python",
   "name": "python3"
  },
  "language_info": {
   "codemirror_mode": {
    "name": "ipython",
    "version": 3
   },
   "file_extension": ".py",
   "mimetype": "text/x-python",
   "name": "python",
   "nbconvert_exporter": "python",
   "pygments_lexer": "ipython3",
   "version": "3.12.3"
  }
 },
 "nbformat": 4,
 "nbformat_minor": 2
}
