{
 "cells": [
  {
   "cell_type": "code",
   "execution_count": 12,
   "metadata": {},
   "outputs": [
    {
     "name": "stdout",
     "output_type": "stream",
     "text": [
      "Company name Infosys\n",
      "Location Pune\n",
      "Employee name Anjali\n",
      "Employee education M.Sc\n",
      "Employee education Python\n",
      "Company name Infosys\n",
      "Location Pune\n",
      "Employee name Piyush\n",
      "Employee education B.C.A\n",
      "Employee education SQL\n"
     ]
    }
   ],
   "source": [
    "#to create a database of employee using class \n",
    "\n",
    "class HR:\n",
    "    company_name='Infosys'         #company_name and location are class members\n",
    "    location='Pune'\n",
    "    #emp_name,emp_education, emp_skill are function parameters\n",
    "    def emp_info(self,emp_name,emp_education,emp_skill): \n",
    "        print('Company name',self.company_name)\n",
    "        print('Location',self.location)\n",
    "        print('Employee name',emp_name)\n",
    "        print('Employee education',emp_education)\n",
    "        print('Employee education',emp_skill)\n",
    "#object creation \n",
    "h1=HR()\n",
    "h1.emp_info('Anjali','M.Sc','Python')           #function called\n",
    "h1.emp_info('Piyush','B.C.A','SQL')             #function called static"
   ]
  },
  {
   "cell_type": "code",
   "execution_count": 1,
   "metadata": {},
   "outputs": [
    {
     "name": "stdout",
     "output_type": "stream",
     "text": [
      "Company name Infosys\n",
      "Location Pune\n",
      "Employee name anjali\n",
      "Employee education msc\n",
      "Employee education python\n"
     ]
    }
   ],
   "source": [
    "#to create a database of employee using class \n",
    "#single record we can insert in database\n",
    "\n",
    "class HR:\n",
    "    company_name='Infosys'         #company_name and location are class members\n",
    "    location='Pune'\n",
    "    #emp_name,emp_education, emp_skill are function parameters\n",
    "    def emp_info(self,emp_name,emp_education,emp_skill): \n",
    "        print('Company name',self.company_name)\n",
    "        print('Location',self.location)\n",
    "        print('Employee name',emp_name)\n",
    "        print('Employee education',emp_education)\n",
    "        print('Employee education',emp_skill)\n",
    "#object creation \n",
    "h1=HR()\n",
    "en=input('Enter the employee name')            #function called dynamic\n",
    "ee=input('Enter employee education')\n",
    "es=input('Enter the employee skills')\n",
    "h1.emp_info(en,ee,es)                          #method called with parameter variable"
   ]
  },
  {
   "cell_type": "code",
   "execution_count": 2,
   "metadata": {},
   "outputs": [
    {
     "name": "stdout",
     "output_type": "stream",
     "text": [
      "Company name Infosys\n",
      "Location Pune\n",
      "Employee name Harshali\n",
      "Employee education Msc\n",
      "Employee education Python\n",
      "Company name Infosys\n",
      "Location Pune\n",
      "Employee name Anisha\n",
      "Employee education Btech\n",
      "Employee education Sql\n"
     ]
    }
   ],
   "source": [
    "#to create a database of employee using class \n",
    "#multiple records add in database\n",
    "class HR:\n",
    "    company_name='Infosys'         #company_name and location are class members\n",
    "    location='Pune'\n",
    "    #emp_name,emp_education, emp_skill are function parameters\n",
    "    def emp_info(self,emp_name,emp_education,emp_skill): \n",
    "        print('Company name',self.company_name)\n",
    "        print('Location',self.location)\n",
    "        print('Employee name',emp_name)\n",
    "        print('Employee education',emp_education)\n",
    "        print('Employee education',emp_skill)\n",
    "#object creation \n",
    "h1=HR()\n",
    "n=int(input('How many employee information do you want to enter'))\n",
    "for i in range(n):                   #0,1,2,..........\n",
    "    en=input('Enter the employee name')            #function called dynamic\n",
    "    ee=input('Enter employee education')\n",
    "    es=input('Enter the employee skills')\n",
    "    h1.emp_info(en,ee,es)                          #method called with parameter variable"
   ]
  },
  {
   "cell_type": "code",
   "execution_count": 19,
   "metadata": {},
   "outputs": [
    {
     "name": "stdout",
     "output_type": "stream",
     "text": [
      "  Company name Location Employee name Employee education Employee Skill\n",
      "0      Infosys     Pune            gg                 aa             gh\n",
      "1      Infosys     Pune            aa                ggh             aa\n"
     ]
    }
   ],
   "source": [
    "#to create a database of employee using class \n",
    "#multiple records add in database\n",
    "import pandas as pd\n",
    "cn=[]\n",
    "lc=[]\n",
    "employee_name=[]\n",
    "employee_education=[]\n",
    "employee_skill=[]\n",
    "class HR:\n",
    "    company_name='Infosys'         #company_name and location are class members\n",
    "    location='Pune'\n",
    "    #emp_name,emp_education, emp_skill are function parameters\n",
    "    def emp_info(self,emp_name,emp_education,emp_skill): \n",
    "        cn.append(self.company_name)\n",
    "        lc.append(self.location)\n",
    "        employee_name.append(emp_name)\n",
    "        employee_education.append(emp_education)\n",
    "        employee_skill.append(emp_skill)\n",
    "#object creation \n",
    "h1=HR()\n",
    "n=int(input('How many employee information do you want to enter'))\n",
    "for i in range(n):                   #0,1,2,..........\n",
    "    en=input('Enter the employee name')            #function called dynamic\n",
    "    ee=input('Enter employee education')\n",
    "    es=input('Enter the employee skills')\n",
    "    h1.emp_info(en,ee,es)                          #method called with parameter variable\n",
    "\n",
    "d1={'Company name':cn,\n",
    "    'Location':lc,\n",
    "    'Employee name':employee_name,\n",
    "    'Employee education':employee_education,\n",
    "    'Employee Skill':employee_skill}\n",
    "emp_data=pd.DataFrame(d1)\n",
    "print(emp_data)\n",
    "#convert dataframe intp excelsheet/csv\n",
    "emp_data.to_csv('employee_data.csv')"
   ]
  },
  {
   "cell_type": "code",
   "execution_count": 22,
   "metadata": {},
   "outputs": [],
   "source": [
    "#pip install openpyxl"
   ]
  },
  {
   "cell_type": "code",
   "execution_count": null,
   "metadata": {},
   "outputs": [],
   "source": []
  },
  {
   "cell_type": "markdown",
   "metadata": {},
   "source": [
    "### Inheritance"
   ]
  },
  {
   "cell_type": "code",
   "execution_count": null,
   "metadata": {},
   "outputs": [],
   "source": [
    "# more than one classes suppose we have two classes \n",
    "# one class consider :a base class and second class:derived class"
   ]
  },
  {
   "cell_type": "code",
   "execution_count": null,
   "metadata": {},
   "outputs": [],
   "source": [
    "Types\n",
    "1. Single inheritance: Base class and derived class\n",
    "2. Multiple inheritance"
   ]
  },
  {
   "cell_type": "code",
   "execution_count": null,
   "metadata": {},
   "outputs": [],
   "source": [
    "class bc:                     #base class          #super class   parent\n",
    "    class members                  |\n",
    "    class methods                  v\n",
    "class dc(bc):                  #derived class       sub class      child\n",
    "    class members\n",
    "    class methods\n",
    "derived_class_object=dc()             #derived class access derived class members and bc class members"
   ]
  },
  {
   "cell_type": "code",
   "execution_count": 30,
   "metadata": {},
   "outputs": [
    {
     "name": "stdout",
     "output_type": "stream",
     "text": [
      "base class members x=100 and y=200\n",
      "derived class members p=300 and q=400\n",
      "This is a base class method\n",
      "This is a derived class\n"
     ]
    }
   ],
   "source": [
    "# single inheritance\n",
    "#Bass class: A\n",
    "class A:\n",
    "    x=100\n",
    "    y=200\n",
    "    def show(self):\n",
    "        print('This is a base class method')\n",
    "#Derived class: B\n",
    "class B(A):\n",
    "    p=300\n",
    "    q=400\n",
    "    def display(self):\n",
    "        print('This is a derived class')\n",
    "#object creation of derived class\n",
    "\n",
    "b1=B()\n",
    "print(f'base class members x={b1.x} and y={b1.y}')\n",
    "print(f'derived class members p={b1.p} and q={b1.q}')\n",
    "#method call\n",
    "b1.show()             #base class method\n",
    "b1.display()          #derived class method\n",
    "\n",
    "#derived class members can access base class"
   ]
  },
  {
   "cell_type": "code",
   "execution_count": 32,
   "metadata": {},
   "outputs": [
    {
     "name": "stdout",
     "output_type": "stream",
     "text": [
      "This is a derived class\n",
      "base class members x=100 and y=200\n",
      "derived class members p=300 and q=400\n"
     ]
    }
   ],
   "source": [
    "# single inheritance\n",
    "#Bass class: A\n",
    "class A:\n",
    "    x=100\n",
    "    y=200\n",
    "    def show(self):\n",
    "        print('This is a base class method')\n",
    "#Derived class: B\n",
    "class B(A):\n",
    "    p=300\n",
    "    q=400\n",
    "    def display(self):\n",
    "        print('This is a derived class')\n",
    "        print(f'base class members x={self.x} and y={self.y}')\n",
    "        print(f'derived class members p={self.p} and q={self.q}')\n",
    "#object creation of derived class\n",
    "\n",
    "b1=B()\n",
    "b1.display()                 #publically available class members are public"
   ]
  },
  {
   "cell_type": "code",
   "execution_count": 3,
   "metadata": {},
   "outputs": [
    {
     "name": "stdout",
     "output_type": "stream",
     "text": [
      "Welcome to Amity university\n",
      "Student name Anjali\n",
      "Student education M.Sc\n"
     ]
    }
   ],
   "source": [
    "#base class college\n",
    "class college:\n",
    "    college_name='AMITY'\n",
    "    def __init__(self):\n",
    "        print('Welcome to Amity university')\n",
    "#derived class=>student\n",
    "class student(college):\n",
    "    #stud_name, stud_edu are functional parameters\n",
    "    def stud_info(self,stud_name,stud_edu):\n",
    "        print('Student name',stud_name)\n",
    "        print('Student education',stud_edu)\n",
    "#object creation\n",
    "s1=student()       #constructor call\n",
    "s1.stud_info('Anjali','M.Sc')#derived class method class\n",
    "#accept function parameters outside a class\n"
   ]
  },
  {
   "cell_type": "code",
   "execution_count": 6,
   "metadata": {},
   "outputs": [
    {
     "name": "stdout",
     "output_type": "stream",
     "text": [
      "Welcome to Amity university\n",
      "Student name Anjali\n",
      "Student education M.Sc\n"
     ]
    }
   ],
   "source": [
    "#base class college\n",
    "class college:\n",
    "    college_name='AMITY'\n",
    "    def __init__(self):\n",
    "        print('Welcome to Amity university')\n",
    "#derived class=>student\n",
    "class student(college):\n",
    "    #stud_name, stud_edu are functional parameters\n",
    "    def stud_info(self,stud_name,stud_edu):\n",
    "        #convert function parameters into class members\n",
    "        self.name=stud_name\n",
    "        self.education=stud_edu\n",
    "#object creation\n",
    "s1=student()       #constructor call\n",
    "s1.stud_info('Anjali','M.Sc')#derived class method class\n",
    "#accept function parameters outside a class\n",
    "print('Student name',s1.name)\n",
    "print('Student education',s1.education)\n",
    "    "
   ]
  },
  {
   "cell_type": "code",
   "execution_count": 3,
   "metadata": {},
   "outputs": [
    {
     "name": "stdout",
     "output_type": "stream",
     "text": [
      "Numbers x=55 and y=69\n",
      "Addition of two Numbers x=55 and y=69 is 124\n",
      "Numbers x=55 and y=69\n",
      "Multiplication of two Numbers x=55 and y=69 is 3795\n"
     ]
    }
   ],
   "source": [
    "#multilevel inheritance\n",
    "#base class A\n",
    "class A:\n",
    "    #base class members\n",
    "    x=int(input('Enter the number'))\n",
    "    y=int(input('Enter the 2nd number'))\n",
    "#derived class 1=>B\n",
    "class B(A):\n",
    "    def addition(self):\n",
    "        print(f'Numbers x={self.x} and y={self.y}')\n",
    "        print(f'Addition of two Numbers x={self.x} and y={self.y} is',(self.x+self.y))\n",
    "#derived class 2 =>C\n",
    "class C(B):\n",
    "    def Multiplication(self):\n",
    "        print(f'Numbers x={self.x} and y={self.y}')\n",
    "        print(f'Multiplication of two Numbers x={self.x} and y={self.y} is',(self.x*self.y))\n",
    "#object class creation derived class 2\n",
    "c1=C()\n",
    "c1.addition()\n",
    "c1.Multiplication()"
   ]
  },
  {
   "cell_type": "code",
   "execution_count": 10,
   "metadata": {},
   "outputs": [
    {
     "name": "stdout",
     "output_type": "stream",
     "text": [
      "Book language Marathi\n",
      "Book name musafir\n",
      "Book auther Achyut godbole\n",
      "Book price 400\n",
      "Book language Hindi\n",
      "Book name Geetanjali\n",
      "Book auther ravindranath tagor\n",
      "Book price 500\n"
     ]
    }
   ],
   "source": [
    "#multiple inheritance\n",
    "#base class marathi\n",
    "class Marathi:\n",
    "    #language is class member\n",
    "    \n",
    "    def marathi_books(self,language,book_name,book_author_name,book_price):\n",
    "        self.language=language\n",
    "        self.name=book_name                              #to convert function parameter to class members\n",
    "        self.book_author=book_author_name\n",
    "        self.price=book_price\n",
    "#base class hindi \n",
    "class Hindi:\n",
    "    #language is class member\n",
    "    def hindi_books(self,language,book_name,book_author_name,book_price):\n",
    "        self.language=language\n",
    "        self.name=book_name                              #to convert function parameter to class members\n",
    "        self.book_author=book_author_name\n",
    "        self.price=book_price\n",
    "#derived class\n",
    "class books(Marathi,Hindi):\n",
    "    def book_info(self):\n",
    "        print('Book language',self.language)\n",
    "        print('Book name',self.name)\n",
    "        print('Book auther',self.book_author)\n",
    "        print('Book price',self.price)\n",
    "#derived class objects\n",
    "b1=books()\n",
    "b1.marathi_books('Marathi','musafir','Achyut godbole',400)         #base class marathi function called\n",
    "b1.book_info()\n",
    "b1.hindi_books('Hindi','Geetanjali','ravindranath tagor',500)      #base class hindi function called\n",
    "b1.book_info()"
   ]
  },
  {
   "cell_type": "code",
   "execution_count": 4,
   "metadata": {},
   "outputs": [],
   "source": [
    "import pandas as pd\n",
    "lang=[]\n",
    "bn=[]\n",
    "ban=[]\n",
    "bp=[]\n",
    "\n",
    "#base class marathi\n",
    "class Marathi:\n",
    "    #language is class member\n",
    "    \n",
    "    def marathi_books(self,language,book_name,book_author_name,book_price):\n",
    "        self.language=language\n",
    "        self.name=book_name                              #to convert function parameter to class members\n",
    "        self.book_author=book_author_name\n",
    "        self.price=book_price\n",
    "#base class hindi \n",
    "class Hindi:\n",
    "    #language is class member\n",
    "    def hindi_books(self,language,book_name,book_author_name,book_price):\n",
    "        self.language=language\n",
    "        self.name=book_name                              #to convert function parameter to class members\n",
    "        self.book_author=book_author_name\n",
    "        self.price=book_price\n",
    "#derived class\n",
    "class books(Marathi,Hindi):\n",
    "    def book_info(self):\n",
    "        lang.append(self.language)\n",
    "        bn.append(self.name)\n",
    "        ban.append(self.book_author)\n",
    "        bp.append(self.price)\n",
    "        \n",
    "        \n",
    "#derived class objects\n",
    "b1=books()\n",
    "n=int(input('How many books you want to enter'))\n",
    "for i in range(n):\n",
    "    ln=input('Enter language')\n",
    "    b_name=input('Enter book name')\n",
    "    b_auther=input('Enter book auther name')\n",
    "    b_price=input('Enter book price')\n",
    "    b1.marathi_books(ln,b_name,b_auther,b_price)\n",
    "    b1.book_info()\n",
    "\n",
    "\n",
    "d1={'language':lang,'book_name':bn,'book_auther_name':ban,'book price':bp}\n",
    "b=pd.DataFrame(d1)\n",
    "b.to_csv('Books.csv')"
   ]
  },
  {
   "cell_type": "code",
   "execution_count": 15,
   "metadata": {},
   "outputs": [
    {
     "name": "stdout",
     "output_type": "stream",
     "text": [
      "Welcome to SBI Loan Department\n",
      "Home loan interest rate is 8.75\n",
      "Welcome to SBI Loan Department\n",
      "Car loan interest rate is 11.5\n",
      "Welcome to SBI Loan Department\n",
      "Car loan interest rate is 13\n"
     ]
    }
   ],
   "source": [
    "#hierarchical inheritance\n",
    "#base class=>bank\n",
    "class bank:\n",
    "    bank_name='SBI bank'\n",
    "    def __init__(self):\n",
    "        print('Welcome to SBI Loan Department')\n",
    "#derived class=> home loan\n",
    "class home_loan(bank):\n",
    "    def show_ir(self,interest_rate):\n",
    "        print('Home loan interest rate is',interest_rate)\n",
    "#derived class=> car loan\n",
    "class car_loan(bank):\n",
    "    def show_ir(self,interest_rate):\n",
    "        print('Car loan interest rate is',interest_rate)\n",
    "#derived class=> personal loan\n",
    "class personal_loan(bank):\n",
    "    def show_ir(self,interest_rate):\n",
    "        print('Personal loan interest rate is',interest_rate)\n",
    "#object creation=>home loan\n",
    "h1=home_loan()    #base class constructor                       #19-20 line numbers executed first\n",
    "h1.show_ir(8.75) #home_loan class method\n",
    "#object creation=>car loan\n",
    "c1=car_loan()\n",
    "c1.show_ir(11.50) #car_loan class method\n",
    "#object creation=>personal loan\n",
    "p1=personal_loan()\n",
    "p1.show_ir(13)     #personal loan class method"
   ]
  },
  {
   "cell_type": "code",
   "execution_count": 21,
   "metadata": {},
   "outputs": [
    {
     "name": "stdout",
     "output_type": "stream",
     "text": [
      "This is library\n",
      "Book language Marathi\n",
      "Book name musafir\n",
      "Book auther Achyut godbole\n",
      "Book price 400\n",
      "Book language Hindi\n",
      "Book name Geetanjali\n",
      "Book auther ravindranath tagor\n",
      "Book price 500\n"
     ]
    }
   ],
   "source": [
    "\n",
    "#hybrid inheritance\n",
    "class library:\n",
    "    def __init__(self):\n",
    "        print('This is library')\n",
    "#base class marathi\n",
    "class Marathi(library):\n",
    "    #language is class member\n",
    "    \n",
    "    def marathi_books(self,language,book_name,book_author_name,book_price):\n",
    "        self.language=language\n",
    "        self.name=book_name                              #to convert function parameter to class members\n",
    "        self.book_author=book_author_name\n",
    "        self.price=book_price\n",
    "#base class hindi \n",
    "class Hindi(library):\n",
    "    #language is class member\n",
    "    def hindi_books(self,language,book_name,book_author_name,book_price):\n",
    "        self.language=language\n",
    "        self.name=book_name                              #to convert function parameter to class members\n",
    "        self.book_author=book_author_name\n",
    "        self.price=book_price\n",
    "#derived class\n",
    "class books(Marathi,Hindi):\n",
    "    def book_info(self):\n",
    "        \n",
    "        print('Book language',self.language)\n",
    "        print('Book name',self.name)\n",
    "        print('Book auther',self.book_author)\n",
    "        print('Book price',self.price)\n",
    "#derived class objects\n",
    "b1=books()\n",
    "b1.marathi_books('Marathi','musafir','Achyut godbole',400)         #base class marathi function called\n",
    "b1.book_info()\n",
    "b1.hindi_books('Hindi','Geetanjali','ravindranath tagor',500)      #base class hindi function called\n",
    "b1.book_info()"
   ]
  },
  {
   "cell_type": "code",
   "execution_count": 27,
   "metadata": {},
   "outputs": [
    {
     "name": "stdout",
     "output_type": "stream",
     "text": [
      "Base class constructor\n",
      "Derived class constructor\n"
     ]
    }
   ],
   "source": [
    "class A:\n",
    "    def __init__(self):\n",
    "        print('Base class constructor')\n",
    "\n",
    "class B(A):\n",
    "    def __init__(self):\n",
    "        super().__init__()\n",
    "        print('Derived class constructor')\n",
    "b1=B()        #object created of derived class\n",
    "\n"
   ]
  },
  {
   "cell_type": "code",
   "execution_count": 15,
   "metadata": {},
   "outputs": [
    {
     "name": "stdout",
     "output_type": "stream",
     "text": [
      "Base A class constructor\n",
      "Base B class constructor\n",
      "Derived class constructor\n",
      "Method resolution order [<class '__main__.C'>, <class '__main__.B'>, <class '__main__.A'>, <class 'object'>]\n"
     ]
    }
   ],
   "source": [
    "#multiple level\n",
    "class A:\n",
    "    def __init__(self):\n",
    "        print('Base A class constructor')\n",
    "\n",
    "class B:\n",
    "    def __init__(self):\n",
    "        super().__init__()\n",
    "        print('Base B class constructor')\n",
    "\n",
    "class C(B,A):                                       #method resolution power\n",
    "    def __init__(self):                             #first it inherit from B then from A\n",
    "        super().__init__()\n",
    "        print('Derived class constructor')\n",
    "b1=C()        #object created of derived class\n",
    "print('Method resolution order',C.mro())          #IMP    mro() is used \n",
    "#what is mro()          how method is called            it just returns the method order sequence\n"
   ]
  },
  {
   "cell_type": "code",
   "execution_count": 50,
   "metadata": {},
   "outputs": [
    {
     "name": "stdout",
     "output_type": "stream",
     "text": [
      "Base class A method\n",
      "Derived class method\n",
      "Method resolution order [<class '__main__.B'>, <class '__main__.A'>, <class 'object'>]\n"
     ]
    }
   ],
   "source": [
    "class A:\n",
    "    def show(self):\n",
    "        print('Base class A method')\n",
    "class B(A):\n",
    "    def show(self):\n",
    "        super().show()\n",
    "        print('Derived class method')\n",
    "\n",
    "b1=B()\n",
    "b1.show()\n",
    "print('Method resolution order',B.mro()) "
   ]
  },
  {
   "cell_type": "code",
   "execution_count": 53,
   "metadata": {},
   "outputs": [
    {
     "name": "stdout",
     "output_type": "stream",
     "text": [
      "Base class A method\n",
      "Value of x is Python\n",
      "Value of y is  Programming\n",
      "Derived class method\n",
      "Method resolution order [<class '__main__.B'>, <class '__main__.A'>, <class 'object'>]\n"
     ]
    }
   ],
   "source": [
    "class A:\n",
    "    x='Python'\n",
    "    def show(self):\n",
    "        print('Base class A method')\n",
    "class B(A):\n",
    "    y='Programming'\n",
    "    def show(self):\n",
    "        super().show()\n",
    "        print('Value of x is',super().x)\n",
    "        print('Value of y is ',self.y)\n",
    "        print('Derived class method')\n",
    "\n",
    "b1=B()\n",
    "b1.show()\n",
    "print('Method resolution order',B.mro()) "
   ]
  },
  {
   "cell_type": "code",
   "execution_count": null,
   "metadata": {},
   "outputs": [],
   "source": [
    "#method overriding\n",
    "#function overloading"
   ]
  },
  {
   "cell_type": "code",
   "execution_count": null,
   "metadata": {},
   "outputs": [],
   "source": [
    "Types of inheritance \n",
    "1. Single inheritance        1-b 1-d\n",
    "2. multiple                  2-b 1-d\n",
    "3. multilevel                1-b 2-d         grandparent-parent-child\n",
    "4. hierarchical              1-b 2-d         parent-brother sister\n",
    "5. hybrid                    1-b 2-d1 1-d2   grandparent-parents-child"
   ]
  },
  {
   "cell_type": "code",
   "execution_count": null,
   "metadata": {},
   "outputs": [],
   "source": []
  }
 ],
 "metadata": {
  "kernelspec": {
   "display_name": "Python 3",
   "language": "python",
   "name": "python3"
  },
  "language_info": {
   "codemirror_mode": {
    "name": "ipython",
    "version": 3
   },
   "file_extension": ".py",
   "mimetype": "text/x-python",
   "name": "python",
   "nbconvert_exporter": "python",
   "pygments_lexer": "ipython3",
   "version": "3.12.3"
  }
 },
 "nbformat": 4,
 "nbformat_minor": 2
}
