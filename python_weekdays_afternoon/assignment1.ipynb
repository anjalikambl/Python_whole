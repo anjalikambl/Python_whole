{
 "cells": [
  {
   "cell_type": "code",
   "execution_count": 4,
   "metadata": {},
   "outputs": [
    {
     "name": "stdout",
     "output_type": "stream",
     "text": [
      "it is a vowel\n"
     ]
    }
   ],
   "source": [
    "character=input(\"Enter any alphabet\")\n",
    "\n",
    "if [character=='a' or character=='e' or character=='i' or character=='o' or character=='u']:\n",
    "        print('it is a vowel')\n",
    "else:\n",
    "    print('consonent')"
   ]
  },
  {
   "cell_type": "code",
   "execution_count": 10,
   "metadata": {},
   "outputs": [
    {
     "name": "stdout",
     "output_type": "stream",
     "text": [
      "It is a traingle\n"
     ]
    }
   ],
   "source": [
    "a=int(input(\"Enter the length of first side of a traingle\"))\n",
    "b=int(input(\"Enter the length of second side of a traingle\"))\n",
    "c=int(input(\"Enter the length of third side of a traingle\"))\n",
    "\n",
    "if ((a+b)>c) and ((a+c)>b) and ((b+c)>a):\n",
    "    print('It is a traingle')\n",
    "else:\n",
    "    print('It is not a traingle')"
   ]
  },
  {
   "cell_type": "code",
   "execution_count": 8,
   "metadata": {},
   "outputs": [
    {
     "name": "stdout",
     "output_type": "stream",
     "text": [
      "equilaterale triangle\n"
     ]
    }
   ],
   "source": [
    "a=int(input(\"Enter the length of first side of a triangle\"))\n",
    "b=int(input(\"Enter the length of second side of a triangle\"))\n",
    "c=int(input(\"Enter the length of third side of a triangle\"))\n",
    "\n",
    "if a==b!=c or a!=b==c or a==c!=b:\n",
    "    print('Isosceles triangle')\n",
    "elif a!=b!=c:\n",
    "    print('scalene triangle')\n",
    "elif a==b==c:\n",
    "    print('equilaterale triangle')\n",
    "else:\n",
    "    print('Not a traingle')"
   ]
  },
  {
   "cell_type": "code",
   "execution_count": null,
   "metadata": {},
   "outputs": [],
   "source": []
  },
  {
   "cell_type": "code",
   "execution_count": null,
   "metadata": {},
   "outputs": [],
   "source": []
  },
  {
   "cell_type": "code",
   "execution_count": null,
   "metadata": {},
   "outputs": [],
   "source": []
  },
  {
   "cell_type": "code",
   "execution_count": null,
   "metadata": {},
   "outputs": [],
   "source": []
  }
 ],
 "metadata": {
  "kernelspec": {
   "display_name": "Python 3",
   "language": "python",
   "name": "python3"
  },
  "language_info": {
   "codemirror_mode": {
    "name": "ipython",
    "version": 3
   },
   "file_extension": ".py",
   "mimetype": "text/x-python",
   "name": "python",
   "nbconvert_exporter": "python",
   "pygments_lexer": "ipython3",
   "version": "3.12.3"
  }
 },
 "nbformat": 4,
 "nbformat_minor": 2
}
