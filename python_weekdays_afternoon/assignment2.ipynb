{
 "cells": [
  {
   "cell_type": "code",
   "execution_count": 3,
   "metadata": {},
   "outputs": [
    {
     "name": "stdout",
     "output_type": "stream",
     "text": [
      "1\n",
      "2\n",
      "3\n",
      "4\n"
     ]
    }
   ],
   "source": [
    "#1 to n natural number\n",
    "n=int(input('Enter an Integer'))\n",
    "for i in range(1,n):\n",
    "    print(i)"
   ]
  },
  {
   "cell_type": "code",
   "execution_count": 8,
   "metadata": {},
   "outputs": [
    {
     "name": "stdout",
     "output_type": "stream",
     "text": [
      "0\n",
      "1\n",
      "2\n",
      "3\n",
      "4\n"
     ]
    }
   ],
   "source": [
    "for i in range(5):\n",
    "    print(i)\n",
    "    i-=1\n"
   ]
  },
  {
   "cell_type": "code",
   "execution_count": 23,
   "metadata": {},
   "outputs": [
    {
     "name": "stdout",
     "output_type": "stream",
     "text": [
      "['a', 'b', 'c', 'd', 'e', 'f', 'g', 'h', 'i', 'j', 'k', 'l', 'm', 'n', 'o', 'p', 'q', 'r', 's', 't', 'u', 'v', 'w', 'x', 'y', 'z']\n"
     ]
    }
   ],
   "source": [
    "alphabets=[]\n",
    "for i in range(97,123):\n",
    "   alphabets.append(chr(i))\n",
    "print(alphabets)\n"
   ]
  },
  {
   "cell_type": "code",
   "execution_count": 24,
   "metadata": {},
   "outputs": [
    {
     "name": "stdout",
     "output_type": "stream",
     "text": [
      "4950\n"
     ]
    }
   ],
   "source": [
    "sum=0\n",
    "for i in range(100):\n",
    "    sum=sum+i\n",
    "print(sum)\n",
    "    "
   ]
  },
  {
   "cell_type": "code",
   "execution_count": 32,
   "metadata": {},
   "outputs": [
    {
     "name": "stdout",
     "output_type": "stream",
     "text": [
      "2500\n"
     ]
    }
   ],
   "source": [
    "#sum of odd number\n",
    "sum=0\n",
    "for i in range(1,101,2):\n",
    "    sum=sum+i\n",
    "print(sum)\n",
    "    "
   ]
  },
  {
   "cell_type": "code",
   "execution_count": 34,
   "metadata": {},
   "outputs": [
    {
     "name": "stdout",
     "output_type": "stream",
     "text": [
      "2550\n"
     ]
    }
   ],
   "source": [
    "sum=0\n",
    "for i in range(0,101,2):\n",
    "    sum=sum+i\n",
    "print(sum)\n",
    "    "
   ]
  },
  {
   "cell_type": "code",
   "execution_count": 46,
   "metadata": {},
   "outputs": [
    {
     "name": "stdout",
     "output_type": "stream",
     "text": [
      "10\n",
      "20\n",
      "30\n",
      "40\n",
      "50\n",
      "60\n",
      "70\n",
      "80\n",
      "90\n",
      "100\n"
     ]
    }
   ],
   "source": [
    "#multiplication table\n",
    "n=int(input('Enter any number'))\n",
    "\n",
    "for i in range(1,11):   #0,1,2,3,4\n",
    "    i=i*n\n",
    "    print(i)\n"
   ]
  },
  {
   "cell_type": "code",
   "execution_count": 53,
   "metadata": {},
   "outputs": [
    {
     "name": "stdout",
     "output_type": "stream",
     "text": [
      "8\n"
     ]
    }
   ],
   "source": [
    "#numb of digit in a number\n",
    "s=input()\n",
    "for i in range(len(s)):\n",
    "    i=i+1\n",
    "print(i)\n",
    "\n"
   ]
  },
  {
   "cell_type": "code",
   "execution_count": 63,
   "metadata": {},
   "outputs": [
    {
     "name": "stdout",
     "output_type": "stream",
     "text": [
      "1\n",
      "9\n"
     ]
    }
   ],
   "source": [
    "#first and last digit\n",
    "s=input()\n",
    "for i in range(len(s)):\n",
    "    print(s[0])\n",
    "    print(s[i-1])\n",
    "    break\n",
    "\n"
   ]
  },
  {
   "cell_type": "code",
   "execution_count": 73,
   "metadata": {},
   "outputs": [
    {
     "name": "stdout",
     "output_type": "stream",
     "text": [
      "623451\n"
     ]
    }
   ],
   "source": [
    "s=input()\n",
    "\n",
    "s=list(s)\n",
    "temp=s[0]\n",
    "s[0]=s[-1]\n",
    "s[-1]=temp\n",
    "s=''.join(s)\n",
    "print(s)"
   ]
  },
  {
   "cell_type": "code",
   "execution_count": 115,
   "metadata": {},
   "outputs": [
    {
     "name": "stdout",
     "output_type": "stream",
     "text": [
      "4 4\n",
      "5 9\n",
      "6 15\n",
      "SUM= 15\n"
     ]
    }
   ],
   "source": [
    "n=input('Enter a number')\n",
    "sum=0\n",
    "for i in range(len(n)):\n",
    "    sum=sum+int(n[i])\n",
    "    print(n[i],sum)\n",
    "print('SUM=',sum)"
   ]
  },
  {
   "cell_type": "code",
   "execution_count": 116,
   "metadata": {},
   "outputs": [
    {
     "name": "stdout",
     "output_type": "stream",
     "text": [
      "4 4\n",
      "5 20\n",
      "6 120\n",
      "Multiplication= 120\n"
     ]
    }
   ],
   "source": [
    "n=input('Enter a number')\n",
    "mult=1\n",
    "for i in range(len(n)):   \n",
    "    mult=mult*int(n[i])\n",
    "    print(int(n[i]),mult)            \n",
    "    \n",
    "print('Multiplication=',mult)"
   ]
  },
  {
   "cell_type": "code",
   "execution_count": 130,
   "metadata": {},
   "outputs": [
    {
     "name": "stdout",
     "output_type": "stream",
     "text": [
      "65645\n",
      "65645\n"
     ]
    }
   ],
   "source": [
    "n=input('Enter a number')\n",
    "print(n[::-1])\n",
    "l=list(n)\n",
    "l.reverse()\n",
    "print(''.join(l))\n"
   ]
  },
  {
   "cell_type": "code",
   "execution_count": 132,
   "metadata": {},
   "outputs": [
    {
     "name": "stdout",
     "output_type": "stream",
     "text": [
      "palindrome\n"
     ]
    }
   ],
   "source": [
    "n=input('Enter a number')\n",
    "r=n[::-1]\n",
    "if r==n:\n",
    "    print('palindrome')\n",
    "else:\n",
    "    print('not palindrome')"
   ]
  },
  {
   "cell_type": "code",
   "execution_count": 158,
   "metadata": {},
   "outputs": [
    {
     "name": "stdout",
     "output_type": "stream",
     "text": [
      "[44, 55, 66]\n",
      "44 and its count is1\n",
      "55 and its count is1\n",
      "66 and its count is1\n"
     ]
    }
   ],
   "source": [
    "n=int(input('Enter a number'))\n",
    "num=[]\n",
    "for i in range(n):\n",
    "    num.append(int(input(i)))\n",
    "\n",
    "print(num)\n",
    "\n",
    "for i in range(len(num)):\n",
    "    print(f'{num[i]} and its count is {num.count(num[i])}')\n",
    "    \n",
    "    "
   ]
  },
  {
   "cell_type": "code",
   "execution_count": 6,
   "metadata": {},
   "outputs": [
    {
     "name": "stdout",
     "output_type": "stream",
     "text": [
      "['1', '2', '3', '3', '3', '4'] [1, 1, 3, 3, 3, 1]\n"
     ]
    }
   ],
   "source": [
    "n=input('Enter a number')\n",
    "n=list(n.split())\n",
    "count=[]\n",
    "sum=0\n",
    "for i in range(len(n)):\n",
    "    if (n.count(n[i])>1):\n",
    "      count.append(n.count(n[i]))  \n",
    "    else:\n",
    "        count.append(1)\n",
    "print(n,count)\n",
    " "
   ]
  },
  {
   "cell_type": "code",
   "execution_count": 205,
   "metadata": {},
   "outputs": [
    {
     "name": "stdout",
     "output_type": "stream",
     "text": [
      "3\n"
     ]
    }
   ],
   "source": [
    "n=int(input('number'))\n",
    "count=0\n",
    "while n!=0:\n",
    "    n//=10\n",
    "    count+=1\n",
    "print(count)"
   ]
  },
  {
   "cell_type": "code",
   "execution_count": 209,
   "metadata": {},
   "outputs": [
    {
     "data": {
      "text/plain": [
       "3"
      ]
     },
     "execution_count": 209,
     "metadata": {},
     "output_type": "execute_result"
    }
   ],
   "source": [
    "len('134')"
   ]
  },
  {
   "cell_type": "code",
   "execution_count": 8,
   "metadata": {},
   "outputs": [
    {
     "ename": "IndexError",
     "evalue": "list index out of range",
     "output_type": "error",
     "traceback": [
      "\u001b[1;31m---------------------------------------------------------------------------\u001b[0m",
      "\u001b[1;31mIndexError\u001b[0m                                Traceback (most recent call last)",
      "\u001b[1;32m~\\AppData\\Local\\Temp\\ipykernel_16192\\1347467269.py\u001b[0m in \u001b[0;36m<module>\u001b[1;34m\u001b[0m\n\u001b[0;32m      4\u001b[0m \u001b[0msum\u001b[0m\u001b[1;33m=\u001b[0m\u001b[1;36m0\u001b[0m\u001b[1;33m\u001b[0m\u001b[1;33m\u001b[0m\u001b[0m\n\u001b[0;32m      5\u001b[0m \u001b[1;32mfor\u001b[0m \u001b[0mi\u001b[0m \u001b[1;32min\u001b[0m \u001b[0mrange\u001b[0m\u001b[1;33m(\u001b[0m\u001b[0mlen\u001b[0m\u001b[1;33m(\u001b[0m\u001b[0mn\u001b[0m\u001b[1;33m)\u001b[0m\u001b[1;33m)\u001b[0m\u001b[1;33m:\u001b[0m\u001b[1;33m\u001b[0m\u001b[1;33m\u001b[0m\u001b[0m\n\u001b[1;32m----> 6\u001b[1;33m     \u001b[1;32mif\u001b[0m \u001b[1;33m(\u001b[0m\u001b[0mn\u001b[0m\u001b[1;33m.\u001b[0m\u001b[0mcount\u001b[0m\u001b[1;33m(\u001b[0m\u001b[0mn\u001b[0m\u001b[1;33m[\u001b[0m\u001b[0mi\u001b[0m\u001b[1;33m]\u001b[0m\u001b[1;33m)\u001b[0m\u001b[1;33m>=\u001b[0m\u001b[1;36m1\u001b[0m\u001b[1;33m)\u001b[0m\u001b[1;33m:\u001b[0m\u001b[1;33m\u001b[0m\u001b[1;33m\u001b[0m\u001b[0m\n\u001b[0m\u001b[0;32m      7\u001b[0m          \u001b[0mn\u001b[0m\u001b[1;33m.\u001b[0m\u001b[0mremove\u001b[0m\u001b[1;33m(\u001b[0m\u001b[0mn\u001b[0m\u001b[1;33m[\u001b[0m\u001b[0mi\u001b[0m\u001b[1;33m]\u001b[0m\u001b[1;33m)\u001b[0m\u001b[1;33m\u001b[0m\u001b[1;33m\u001b[0m\u001b[0m\n\u001b[0;32m      8\u001b[0m \u001b[1;33m\u001b[0m\u001b[0m\n",
      "\u001b[1;31mIndexError\u001b[0m: list index out of range"
     ]
    }
   ],
   "source": [
    "n=['4','6','4']\n",
    "\n",
    "count=[]\n",
    "sum=0\n",
    "for i in range(len(n)):\n",
    "    if (n.count(n[i])>1):\n",
    "         n.remove(n[i]) \n",
    "        \n",
    "print(n,sum)"
   ]
  }
 ],
 "metadata": {
  "kernelspec": {
   "display_name": "Python 3 (ipykernel)",
   "language": "python",
   "name": "python3"
  },
  "language_info": {
   "codemirror_mode": {
    "name": "ipython",
    "version": 3
   },
   "file_extension": ".py",
   "mimetype": "text/x-python",
   "name": "python",
   "nbconvert_exporter": "python",
   "pygments_lexer": "ipython3",
   "version": "3.12.3"
  }
 },
 "nbformat": 4,
 "nbformat_minor": 2
}
