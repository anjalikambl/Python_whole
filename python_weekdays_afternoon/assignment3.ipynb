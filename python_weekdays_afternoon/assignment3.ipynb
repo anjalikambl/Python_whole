{
 "cells": [
  {
   "cell_type": "code",
   "execution_count": 1,
   "metadata": {},
   "outputs": [
    {
     "name": "stdout",
     "output_type": "stream",
     "text": [
      "0 1 1 2 3 5 8 13 21 34 "
     ]
    }
   ],
   "source": [
    "n=int(input('Enter the number you want to print: '))\n",
    "a=0\n",
    "b=1\n",
    "for i in range(0,n):\n",
    "    print(a,end=\" \")\n",
    "    c=a+b\n",
    "    a=b\n",
    "    b=c"
   ]
  },
  {
   "cell_type": "code",
   "execution_count": null,
   "metadata": {},
   "outputs": [],
   "source": [
    "'''Fibonacci series\n",
    "c=a+b\n",
    "a=b\n",
    "b=c\n",
    "\n",
    "\n",
    "a=0\n",
    "b=1\n",
    "for i in range(0,10):        #0,1,1\n",
    "print(a)\n",
    "c=0+1\n",
    "a=1\n",
    "b=1\n",
    "print(a=1)\n",
    "c=1+1\n",
    "a=1\n",
    "b=2\n",
    "print(a=1)\n",
    "c=1+2\n",
    "a=2\n",
    "b=3\n",
    "print(a=2)\n",
    "c=2+3\n",
    "a=3\n",
    "b=5\n",
    "print(a=3)\n",
    "c=3+5\n",
    "a=5\n",
    "b=8\n",
    "print(5)\n",
    "c=5+8\n",
    "a=8\n",
    "b=13\n",
    "print(8)\n",
    "c=13+8\n",
    "a=13\n",
    "b=21\n",
    "print(13)\n",
    "c=21+13\n",
    "a=21\n",
    "b=34\n",
    "print(21)\n",
    "c=34+21\n",
    "a=34\n",
    "b=45\n",
    "print(34)\n",
    "0,1,1,2,3,5,8,13,21,34\n",
    "\n",
    "'''"
   ]
  },
  {
   "cell_type": "markdown",
   "metadata": {},
   "source": []
  },
  {
   "cell_type": "code",
   "execution_count": 2,
   "metadata": {},
   "outputs": [],
   "source": [
    "def fib(n):\n",
    "    a=0\n",
    "    b=1\n",
    "    for i in range(0,n):\n",
    "        print(a,end=\" \")\n",
    "        c=a+b\n",
    "        a=b\n",
    "        b=c"
   ]
  },
  {
   "cell_type": "code",
   "execution_count": 3,
   "metadata": {},
   "outputs": [
    {
     "name": "stdout",
     "output_type": "stream",
     "text": [
      "0 1 1 2 3 5 8 13 21 34 "
     ]
    }
   ],
   "source": [
    "fib(10)"
   ]
  },
  {
   "cell_type": "code",
   "execution_count": 1,
   "metadata": {},
   "outputs": [
    {
     "name": "stdout",
     "output_type": "stream",
     "text": [
      "[2, 3, 5, 7]\n"
     ]
    }
   ],
   "source": [
    "n=10\n",
    "prime=[]\n",
    "for i in range(1,n+1):   \n",
    "    if i==1:\n",
    "        pass\n",
    "    elif i>1:\n",
    "        for j in range(2,i):\n",
    "            if i%j==0:\n",
    "                break\n",
    "        else:\n",
    "            prime.append(i)\n",
    "print(prime)"
   ]
  },
  {
   "cell_type": "code",
   "execution_count": 18,
   "metadata": {},
   "outputs": [
    {
     "data": {
      "text/plain": [
       "[2]"
      ]
     },
     "execution_count": 18,
     "metadata": {},
     "output_type": "execute_result"
    }
   ],
   "source": [
    "list(range(2,3))"
   ]
  },
  {
   "cell_type": "code",
   "execution_count": 19,
   "metadata": {},
   "outputs": [
    {
     "data": {
      "text/plain": [
       "'Prime numbers\\nn=10\\nprime=[]\\nfor i in range(1,n+1):   \\n    if i==1:\\n        pass\\n    elif i>1:\\n        for j in range(2,i):\\n            if i%j==0:\\n                break\\n        else:\\n            prime.append(i)\\nprint(prime)\\nn=10\\nI in range(1,11):           1,……10\\nI==1\\nPass\\ni>1\\ni    j       range(2,i)                              prime.append(i)\\n1\\n2   2          0                                              2\\n3   2           2                   3%2!=0                      3\\n4   2          2,3                  4%2==0 break \\n5   2          2,3,4                5%2!=0                      5\\n6   2          2,3,4,5              6%2==0  break\\n7   2           2,3,4,5,6           7%2!=0                      7\\n8   2           2,3,4,5,6,7         8%2==0 break\\n9   2            2,3,4,5,6,7,8      9%2!=0                       9\\n10 2             2,3,4,5,6,7,8,9    10%2==0 break\\n'"
      ]
     },
     "execution_count": 19,
     "metadata": {},
     "output_type": "execute_result"
    }
   ],
   "source": [
    "'''Prime numbers\n",
    "n=10\n",
    "prime=[]\n",
    "for i in range(1,n+1):   \n",
    "    if i==1:\n",
    "        pass\n",
    "    elif i>1:\n",
    "        for j in range(2,i):\n",
    "            if i%j==0:\n",
    "                break\n",
    "        else:\n",
    "            prime.append(i)\n",
    "print(prime)\n",
    "n=10\n",
    "I in range(1,11):           1,……10\n",
    "I==1\n",
    "Pass\n",
    "i>1\n",
    "i    j       range(2,i)                              prime.append(i)\n",
    "1\n",
    "2   2          0                                              2\n",
    "3   2           2                   3%2!=0                      3\n",
    "4   2          2,3                  4%2==0 break \n",
    "5   2          2,3,4                5%2!=0                      5\n",
    "6   2          2,3,4,5              6%2==0  break\n",
    "7   2           2,3,4,5,6           7%2!=0                      7\n",
    "8   2           2,3,4,5,6,7         8%2==0 break\n",
    "9   2            2,3,4,5,6,7,8      9%2!=0                       9\n",
    "10 2             2,3,4,5,6,7,8,9    10%2==0 break\n",
    "'''"
   ]
  },
  {
   "cell_type": "code",
   "execution_count": 2,
   "metadata": {},
   "outputs": [
    {
     "name": "stdout",
     "output_type": "stream",
     "text": [
      "prime\n",
      "prime\n",
      "Not prime\n",
      "prime\n",
      "prime\n",
      "Not prime\n",
      "Not prime\n",
      "prime\n",
      "prime\n",
      "Not prime\n",
      "Not prime\n",
      "prime\n",
      "Not prime\n",
      "prime\n",
      "Not prime\n",
      "Not prime\n",
      "prime\n",
      "[2, 3, 5, 7]\n"
     ]
    }
   ],
   "source": [
    "n=10\n",
    "\n",
    "for i in range(1,n+1):   \n",
    "    if i==1:\n",
    "        pass\n",
    "    elif i>1:\n",
    "        for j in range(2,i):\n",
    "            if i%j==0:\n",
    "               print('Not prime')\n",
    "        else:\n",
    "            print('prime')\n",
    "print(prime)"
   ]
  },
  {
   "cell_type": "code",
   "execution_count": 7,
   "metadata": {},
   "outputs": [],
   "source": [
    "def gcd_fun (x, y):  \n",
    "    if (y == 0): # it divide every number  \n",
    "        return x  # return x  \n",
    "    else:  \n",
    "        return gcd_fun (y, x % y) \n",
    "def lcm(x,y):\n",
    "    return (x*y)/gcd_fun(x,y)"
   ]
  },
  {
   "cell_type": "code",
   "execution_count": 8,
   "metadata": {},
   "outputs": [
    {
     "name": "stdout",
     "output_type": "stream",
     "text": [
      "3\n"
     ]
    },
    {
     "data": {
      "text/plain": [
       "60.0"
      ]
     },
     "execution_count": 8,
     "metadata": {},
     "output_type": "execute_result"
    }
   ],
   "source": [
    "print(gcd_fun(12,15))                          #(12 15)    15,12%15=12   12,15%12=3      3,12%3=0            \n",
    "lcm(12,15)                             "
   ]
  },
  {
   "cell_type": "code",
   "execution_count": 6,
   "metadata": {},
   "outputs": [],
   "source": [
    "def calculator(n1,n2):\n",
    "    calculation=int(input('enter what you gonna do: '))    #1=add,2=sub,3=div,4=mult,5=**\n",
    "\n",
    "    if calculation==1:\n",
    "        print(n1+n2)\n",
    "    elif calculation==2:\n",
    "        print(n1-n2)\n",
    "    elif calculation==3:\n",
    "        print(n1/n2)\n",
    "    elif calculation==4:\n",
    "        print(n1*n2)\n",
    "    elif calculation==5:\n",
    "        print(n1**n2)\n",
    "    else:\n",
    "        print('enter valid input')\n"
   ]
  },
  {
   "cell_type": "code",
   "execution_count": 7,
   "metadata": {},
   "outputs": [
    {
     "name": "stdout",
     "output_type": "stream",
     "text": [
      "-2\n"
     ]
    }
   ],
   "source": [
    "calculator(3,5)"
   ]
  },
  {
   "cell_type": "code",
   "execution_count": 25,
   "metadata": {},
   "outputs": [],
   "source": [
    "from multipledispatch import dispatch\n",
    "@dispatch(int,int)\n",
    "def area(l,b):\n",
    "    print('Area of rectangle is ',l*b)\n",
    "\n",
    "@dispatch(float)\n",
    "def area(a):\n",
    "    print('Area of circle is', round((22/7*a*a),2))\n",
    "@dispatch(int,float)   \n",
    "def area(a,b):\n",
    "    print('Area of traingle is ',0.5*a*b)\n",
    "@dispatch(int)  \n",
    "def area(a):\n",
    "    print('Area of square is', a*a)\n"
   ]
  },
  {
   "cell_type": "code",
   "execution_count": 26,
   "metadata": {},
   "outputs": [
    {
     "name": "stdout",
     "output_type": "stream",
     "text": [
      "Area of rectangle is  2\n",
      "Area of circle is 63.64\n",
      "Area of traingle is  1.15\n",
      "Area of square is 25\n"
     ]
    }
   ],
   "source": [
    "area(1,2)\n",
    "area(4.5)\n",
    "area(1,2.3)\n",
    "area(5)"
   ]
  },
  {
   "cell_type": "code",
   "execution_count": 9,
   "metadata": {},
   "outputs": [
    {
     "data": {
      "text/plain": [
       "12"
      ]
     },
     "execution_count": 9,
     "metadata": {},
     "output_type": "execute_result"
    }
   ],
   "source": [
    "12%15"
   ]
  },
  {
   "cell_type": "code",
   "execution_count": null,
   "metadata": {},
   "outputs": [],
   "source": []
  }
 ],
 "metadata": {
  "kernelspec": {
   "display_name": "Python 3",
   "language": "python",
   "name": "python3"
  },
  "language_info": {
   "codemirror_mode": {
    "name": "ipython",
    "version": 3
   },
   "file_extension": ".py",
   "mimetype": "text/x-python",
   "name": "python",
   "nbconvert_exporter": "python",
   "pygments_lexer": "ipython3",
   "version": "3.12.3"
  }
 },
 "nbformat": 4,
 "nbformat_minor": 2
}
