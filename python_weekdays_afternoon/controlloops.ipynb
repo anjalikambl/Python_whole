{
 "cells": [
  {
   "cell_type": "markdown",
   "metadata": {},
   "source": [
    "If statement : \n",
    "\n",
    "if(condn) :\n",
    "    statement\n",
    "\n",
    "process: to check age>18 \n",
    "\n",
    "msg: eligible to vote"
   ]
  },
  {
   "cell_type": "code",
   "execution_count": 5,
   "metadata": {},
   "outputs": [],
   "source": [
    "#static dynamic"
   ]
  },
  {
   "cell_type": "code",
   "execution_count": 6,
   "metadata": {},
   "outputs": [],
   "source": [
    "#to check the person is eligible for voting or not"
   ]
  },
  {
   "cell_type": "code",
   "execution_count": 7,
   "metadata": {},
   "outputs": [
    {
     "name": "stdout",
     "output_type": "stream",
     "text": [
      "Congrats! Eligible for voting\n"
     ]
    }
   ],
   "source": [
    "age=40\n",
    "if age>18:\n",
    "    print('Congrats! Eligible for voting')"
   ]
  },
  {
   "cell_type": "code",
   "execution_count": 8,
   "metadata": {},
   "outputs": [
    {
     "name": "stdout",
     "output_type": "stream",
     "text": [
      "Congrats! Eligible for voting\n"
     ]
    }
   ],
   "source": [
    "age=int(input(\"Enter the age of person\"))\n",
    "if(age>18):\n",
    "    print('Congrats! Eligible for voting')"
   ]
  },
  {
   "cell_type": "code",
   "execution_count": 9,
   "metadata": {},
   "outputs": [
    {
     "name": "stdout",
     "output_type": "stream",
     "text": [
      "55\n",
      "Congrats! Eligible for voting\n"
     ]
    }
   ],
   "source": [
    "age=int(input(\"Enter the age of person\"))\n",
    "print(age)\n",
    "if(age>18):\n",
    "    print('Congrats! Eligible for voting')\n",
    "else:\n",
    "    print('Sorry not eligible for voting')"
   ]
  },
  {
   "cell_type": "code",
   "execution_count": 10,
   "metadata": {},
   "outputs": [],
   "source": [
    "#write a program to check a given number is even or odd"
   ]
  },
  {
   "cell_type": "code",
   "execution_count": 11,
   "metadata": {},
   "outputs": [
    {
     "name": "stdout",
     "output_type": "stream",
     "text": [
      "Given number 45 is odd\n"
     ]
    }
   ],
   "source": [
    "#write a program to ckeck the given number is even or odd\n",
    "n=int(input(\"Enter a number:\"))\n",
    "\n",
    "if (n%2==0):\n",
    "    print(f\"Given number {n} is even\")\n",
    "else:\n",
    "    print(f\"Given number {n} is odd\")"
   ]
  },
  {
   "cell_type": "code",
   "execution_count": 12,
   "metadata": {},
   "outputs": [],
   "source": [
    "#Intput============>process=============>output"
   ]
  },
  {
   "cell_type": "code",
   "execution_count": 13,
   "metadata": {},
   "outputs": [
    {
     "name": "stdout",
     "output_type": "stream",
     "text": [
      "4 is palindrome \n"
     ]
    }
   ],
   "source": [
    "#write a program to check the given string is palindrome string or not \n",
    "\n",
    "s=input('Enter the string: ')\n",
    "\n",
    "if (s==s[::-1]):\n",
    "    print(f'{s} is palindrome ')\n",
    "else:\n",
    "    print(f' {s} is Not palindrome')"
   ]
  },
  {
   "cell_type": "code",
   "execution_count": 14,
   "metadata": {},
   "outputs": [
    {
     "name": "stdout",
     "output_type": "stream",
     "text": [
      "Print enter valid choice\n"
     ]
    }
   ],
   "source": [
    "\"\"\"print('''Options for languages\n",
    "    1. Marathi\n",
    "    2. Hindi\n",
    "    3. English\n",
    "    4. Back to menu bar''')\"\"\"\n",
    "\n",
    "choice=input(\"Enter the option\")\n",
    "\n",
    "if (choice=='1'):\n",
    "    print(\"Welcome to MARATHI section\")\n",
    "elif (choice=='2'):\n",
    "    print(\"Welcome to HINDI section\")\n",
    "elif (choice=='3'):\n",
    "    print(\"Welcome to ENGLISH section\")\n",
    "elif (choice=='4'):\n",
    "    print(\"Please go to back to menu bar\")\n",
    "else:\n",
    "    print(\"Print enter valid choice\")\n",
    "\n",
    "\n"
   ]
  },
  {
   "cell_type": "code",
   "execution_count": 16,
   "metadata": {},
   "outputs": [
    {
     "name": "stdout",
     "output_type": "stream",
     "text": [
      "Maximum number is 67\n"
     ]
    }
   ],
   "source": [
    "#to find greatest number among three numbers \n",
    "\n",
    "x,y,z=23,67,54\n",
    "\n",
    "if (x>y and x>z):\n",
    "    print(f\"Maximum number is {x} \")\n",
    "elif (y>x and y>z):\n",
    "    print(f\"Maximum number is {y}\")\n",
    "else:\n",
    "    print(f\"Maximum number is {z}\")\n"
   ]
  },
  {
   "cell_type": "code",
   "execution_count": 69,
   "metadata": {},
   "outputs": [
    {
     "name": "stdout",
     "output_type": "stream",
     "text": [
      "945 number is divisible by 3,5,7\n"
     ]
    }
   ],
   "source": [
    "#to check the given number is divisible by 3,5,7 number should be g t 0\n",
    "n=int(input(\"Enter the number: \"))\n",
    "if (n%3==0 and n%5==0 and n%7==0):\n",
    "    print(f\"{n} number is divisible by 3,5,7\")\n",
    "elif (n%3==0 and n%5==0):\n",
    "    print(f\"{n} number is divisible by 3,5\")\n",
    "elif (n%3==0 and n%7==0):\n",
    "    print(f\"{n} number is divisible by 3,7\")\n",
    "elif (n%5==0 and n%7==0):\n",
    "    print(f\"{n} number is divisible by 5,7\")\n",
    "elif (n%3==0):\n",
    "    print(f\"{n} number is divisible by 3\")\n",
    "elif (n%5==0):\n",
    "    print(f\"{n} number is divisible by 5\")\n",
    "elif (n%7==0):\n",
    "    print(f\"{n} number is divisible by 7\")\n",
    "else: \n",
    "    print(f\"{n} Not divisible by 3,5,7\")"
   ]
  },
  {
   "cell_type": "code",
   "execution_count": null,
   "metadata": {},
   "outputs": [],
   "source": [
    "#105, 315, 525\n",
    "#105,210,315,420,525,630,735,840,945"
   ]
  },
  {
   "cell_type": "code",
   "execution_count": 70,
   "metadata": {},
   "outputs": [
    {
     "name": "stdout",
     "output_type": "stream",
     "text": [
      "105\n",
      "210\n",
      "315\n",
      "420\n",
      "525\n",
      "630\n",
      "735\n",
      "840\n",
      "945\n"
     ]
    }
   ],
   "source": [
    "for i in range(1,1001):\n",
    "    if i%3==0 and i%5==0 and i%7==0:\n",
    "        print(i)"
   ]
  },
  {
   "cell_type": "code",
   "execution_count": 79,
   "metadata": {},
   "outputs": [
    {
     "name": "stdout",
     "output_type": "stream",
     "text": [
      "U r eligible for interview\n",
      "U r eligible for interview\n"
     ]
    }
   ],
   "source": [
    "#To apply for job position python developer\n",
    "edu_list=['B.E','B.TECH','B.C.A','M.C.A','M.TECH']\n",
    "education=input(\"Enter the education\")\n",
    "skill_list=('python','dsa','ds','django')\n",
    "skill=input(\"Enter the skills\")\n",
    "percentage=float(input(\"Enter the percentage\"))\n",
    "if (education in edu_list):\n",
    "    print(\"U r eligible for interview\")\n",
    "if (skill in skill_list):\n",
    "    print(\"U r eligible for interview\")\n",
    "if (percentage>=60):\n",
    "    print(\"U r eligible for interview\")\n"
   ]
  },
  {
   "cell_type": "code",
   "execution_count": null,
   "metadata": {},
   "outputs": [],
   "source": []
  },
  {
   "cell_type": "markdown",
   "metadata": {},
   "source": [
    "### Anagram string"
   ]
  },
  {
   "cell_type": "code",
   "execution_count": 1,
   "metadata": {},
   "outputs": [
    {
     "name": "stdout",
     "output_type": "stream",
     "text": [
      "sorted string ['i', 'n', 'p']\n",
      "sorted string ['i', 'n', 'p']\n",
      "Given strings are anagram strings\n"
     ]
    }
   ],
   "source": [
    "#to check the given string are anagram string or not\n",
    "\n",
    "str1=input('Enter first string')\n",
    "str2=input('Enter second string')\n",
    "\n",
    "s1=sorted(str1)\n",
    "s2=sorted(str2)\n",
    "print('sorted string',s1)\n",
    "print('sorted string',s2)\n",
    "\n",
    "if (s1==s2):\n",
    "    print('Given strings are anagram strings')\n",
    "else:\n",
    "    print('Given strings are not anagram strings')"
   ]
  },
  {
   "cell_type": "code",
   "execution_count": 12,
   "metadata": {},
   "outputs": [],
   "source": [
    "#licode website"
   ]
  },
  {
   "cell_type": "code",
   "execution_count": null,
   "metadata": {},
   "outputs": [],
   "source": []
  },
  {
   "cell_type": "markdown",
   "metadata": {},
   "source": [
    "## For Loops"
   ]
  },
  {
   "cell_type": "code",
   "execution_count": 18,
   "metadata": {},
   "outputs": [
    {
     "name": "stdout",
     "output_type": "stream",
     "text": [
      "1\n",
      "2\n",
      "3\n",
      "4\n"
     ]
    }
   ],
   "source": [
    "for i in [1,2,3,4]:\n",
    "    print(i)"
   ]
  },
  {
   "cell_type": "code",
   "execution_count": 22,
   "metadata": {},
   "outputs": [
    {
     "name": "stdout",
     "output_type": "stream",
     "text": [
      "1\n",
      "hello\n",
      "2\n",
      "hello\n",
      "3\n",
      "hello\n",
      "4\n",
      "hello\n"
     ]
    }
   ],
   "source": [
    "for i in (1,2,3,4):\n",
    "    print(i)\n",
    "    print('hello')"
   ]
  },
  {
   "cell_type": "code",
   "execution_count": 23,
   "metadata": {},
   "outputs": [
    {
     "name": "stdout",
     "output_type": "stream",
     "text": [
      "1\n",
      "bye\n",
      "2\n",
      "bye\n",
      "3\n",
      "bye\n",
      "4\n",
      "bye\n",
      "5\n",
      "bye\n"
     ]
    }
   ],
   "source": [
    "for i in {1,2,2,3,4,5,5}:\n",
    "    print(i)\n",
    "    print('bye')"
   ]
  },
  {
   "cell_type": "code",
   "execution_count": 24,
   "metadata": {},
   "outputs": [
    {
     "name": "stdout",
     "output_type": "stream",
     "text": [
      "p\n",
      "y\n",
      "t\n",
      "h\n",
      "o\n",
      "n\n"
     ]
    }
   ],
   "source": [
    "for i in 'python':\n",
    "    print(i)"
   ]
  },
  {
   "cell_type": "code",
   "execution_count": 26,
   "metadata": {},
   "outputs": [
    {
     "name": "stdout",
     "output_type": "stream",
     "text": [
      "0\n",
      "hello\n",
      "1\n",
      "hello\n",
      "2\n",
      "hello\n",
      "3\n",
      "hello\n",
      "4\n",
      "hello\n"
     ]
    }
   ],
   "source": [
    "for i in range(5):\n",
    "    print(i)\n",
    "    print('hello')"
   ]
  },
  {
   "cell_type": "code",
   "execution_count": null,
   "metadata": {},
   "outputs": [],
   "source": []
  },
  {
   "cell_type": "code",
   "execution_count": null,
   "metadata": {},
   "outputs": [],
   "source": []
  },
  {
   "cell_type": "code",
   "execution_count": null,
   "metadata": {},
   "outputs": [],
   "source": []
  },
  {
   "cell_type": "code",
   "execution_count": null,
   "metadata": {},
   "outputs": [],
   "source": []
  }
 ],
 "metadata": {
  "kernelspec": {
   "display_name": "Python 3",
   "language": "python",
   "name": "python3"
  },
  "language_info": {
   "codemirror_mode": {
    "name": "ipython",
    "version": 3
   },
   "file_extension": ".py",
   "mimetype": "text/x-python",
   "name": "python",
   "nbconvert_exporter": "python",
   "pygments_lexer": "ipython3",
   "version": "3.12.3"
  }
 },
 "nbformat": 4,
 "nbformat_minor": 2
}
