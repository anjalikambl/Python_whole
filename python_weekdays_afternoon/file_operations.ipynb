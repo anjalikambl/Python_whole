{
 "cells": [
  {
   "cell_type": "code",
   "execution_count": 5,
   "metadata": {},
   "outputs": [
    {
     "ename": "FileExistsError",
     "evalue": "[Errno 17] File exists: 'f1.txt'",
     "output_type": "error",
     "traceback": [
      "\u001b[1;31m---------------------------------------------------------------------------\u001b[0m",
      "\u001b[1;31mFileExistsError\u001b[0m                           Traceback (most recent call last)",
      "Cell \u001b[1;32mIn[5], line 1\u001b[0m\n\u001b[1;32m----> 1\u001b[0m file_object\u001b[38;5;241m=\u001b[39m\u001b[38;5;28;43mopen\u001b[39;49m\u001b[43m(\u001b[49m\u001b[38;5;124;43m'\u001b[39;49m\u001b[38;5;124;43mf1.txt\u001b[39;49m\u001b[38;5;124;43m'\u001b[39;49m\u001b[43m,\u001b[49m\u001b[38;5;124;43m'\u001b[39;49m\u001b[38;5;124;43mx\u001b[39;49m\u001b[38;5;124;43m'\u001b[39;49m\u001b[43m)\u001b[49m\n",
      "File \u001b[1;32m~\\AppData\\Roaming\\Python\\Python312\\site-packages\\IPython\\core\\interactiveshell.py:324\u001b[0m, in \u001b[0;36m_modified_open\u001b[1;34m(file, *args, **kwargs)\u001b[0m\n\u001b[0;32m    317\u001b[0m \u001b[38;5;28;01mif\u001b[39;00m file \u001b[38;5;129;01min\u001b[39;00m {\u001b[38;5;241m0\u001b[39m, \u001b[38;5;241m1\u001b[39m, \u001b[38;5;241m2\u001b[39m}:\n\u001b[0;32m    318\u001b[0m     \u001b[38;5;28;01mraise\u001b[39;00m \u001b[38;5;167;01mValueError\u001b[39;00m(\n\u001b[0;32m    319\u001b[0m         \u001b[38;5;124mf\u001b[39m\u001b[38;5;124m\"\u001b[39m\u001b[38;5;124mIPython won\u001b[39m\u001b[38;5;124m'\u001b[39m\u001b[38;5;124mt let you open fd=\u001b[39m\u001b[38;5;132;01m{\u001b[39;00mfile\u001b[38;5;132;01m}\u001b[39;00m\u001b[38;5;124m by default \u001b[39m\u001b[38;5;124m\"\u001b[39m\n\u001b[0;32m    320\u001b[0m         \u001b[38;5;124m\"\u001b[39m\u001b[38;5;124mas it is likely to crash IPython. If you know what you are doing, \u001b[39m\u001b[38;5;124m\"\u001b[39m\n\u001b[0;32m    321\u001b[0m         \u001b[38;5;124m\"\u001b[39m\u001b[38;5;124myou can use builtins\u001b[39m\u001b[38;5;124m'\u001b[39m\u001b[38;5;124m open.\u001b[39m\u001b[38;5;124m\"\u001b[39m\n\u001b[0;32m    322\u001b[0m     )\n\u001b[1;32m--> 324\u001b[0m \u001b[38;5;28;01mreturn\u001b[39;00m \u001b[43mio_open\u001b[49m\u001b[43m(\u001b[49m\u001b[43mfile\u001b[49m\u001b[43m,\u001b[49m\u001b[43m \u001b[49m\u001b[38;5;241;43m*\u001b[39;49m\u001b[43margs\u001b[49m\u001b[43m,\u001b[49m\u001b[43m \u001b[49m\u001b[38;5;241;43m*\u001b[39;49m\u001b[38;5;241;43m*\u001b[39;49m\u001b[43mkwargs\u001b[49m\u001b[43m)\u001b[49m\n",
      "\u001b[1;31mFileExistsError\u001b[0m: [Errno 17] File exists: 'f1.txt'"
     ]
    }
   ],
   "source": [
    "#create a file\n",
    "file_object=open('f1.txt','x')"
   ]
  },
  {
   "cell_type": "code",
   "execution_count": 6,
   "metadata": {},
   "outputs": [],
   "source": [
    "#open a file for writing \n",
    "file_object=open('f1.txt','w')\n",
    "file_object.write('Spyder Joke Sparkle Happy')\n",
    "file_object.close()"
   ]
  },
  {
   "cell_type": "code",
   "execution_count": 7,
   "metadata": {},
   "outputs": [],
   "source": [
    "#open a file for writing \n",
    "file_object=open('f1.txt','w')\n",
    "file_object.write('BeSt Poor leader medium')\n",
    "file_object.close()"
   ]
  },
  {
   "cell_type": "code",
   "execution_count": 9,
   "metadata": {},
   "outputs": [],
   "source": [
    "#open a file for writing \n",
    "file_object=open('f1.txt','a')\n",
    "file_object.write('\\n Spyder Joke Sparkle Happy')\n",
    "file_object.close()"
   ]
  },
  {
   "cell_type": "code",
   "execution_count": 1,
   "metadata": {},
   "outputs": [
    {
     "name": "stdout",
     "output_type": "stream",
     "text": [
      "BeSt Poor leader mediumSpyder Joke Sparkle Happy\n",
      " Spyder Joke Sparkle Happy\n",
      "12345678\n",
      "12345678\n",
      "12345678\n"
     ]
    }
   ],
   "source": [
    "#open a file for read \n",
    "file_object=open('f1.txt','r')\n",
    "print(file_object.read())\n"
   ]
  },
  {
   "cell_type": "code",
   "execution_count": 5,
   "metadata": {},
   "outputs": [
    {
     "name": "stdout",
     "output_type": "stream",
     "text": [
      "BeSt Poor leader mediumSpyder Joke Sparkle Happy\n",
      "\n",
      " Spyder Joke Sparkle Happy\n",
      "\n",
      "12345678\n",
      "\n",
      "12345678\n",
      "\n",
      "12345678\n"
     ]
    }
   ],
   "source": [
    "file_object=open('f1.txt','r')\n",
    "print(file_object.readline())\n",
    "print(file_object.readline())\n",
    "print(file_object.readline())\n",
    "print(file_object.readline())\n",
    "print(file_object.readline())"
   ]
  },
  {
   "cell_type": "code",
   "execution_count": 6,
   "metadata": {},
   "outputs": [
    {
     "name": "stdout",
     "output_type": "stream",
     "text": [
      "['BeSt Poor leader mediumSpyder Joke Sparkle Happy\\n', ' Spyder Joke Sparkle Happy\\n', '12345678\\n', '12345678\\n', '12345678']\n"
     ]
    }
   ],
   "source": [
    "file_object=open('f1.txt','r')\n",
    "print(file_object.readlines())\n",
    "#\\n-escape character"
   ]
  },
  {
   "cell_type": "code",
   "execution_count": 23,
   "metadata": {},
   "outputs": [],
   "source": [
    "a=open('f3.txt','a')\n",
    "a.write('ABCefghi')\n",
    "a.write('jklmn')\n",
    "a.close()"
   ]
  },
  {
   "cell_type": "code",
   "execution_count": 24,
   "metadata": {},
   "outputs": [],
   "source": [
    "a=open('f3.txt','a')\n",
    "a.write('123456\\n')\n",
    "a.write('7891011')\n",
    "a.close()"
   ]
  },
  {
   "cell_type": "code",
   "execution_count": 7,
   "metadata": {},
   "outputs": [
    {
     "name": "stdout",
     "output_type": "stream",
     "text": [
      "A\n",
      "BCefghijk\n",
      "lmn123456\n",
      "7\n",
      "891011\n"
     ]
    }
   ],
   "source": [
    "a=open('f3.txt','r')\n",
    "print(a.read(1))\n",
    "print(a.read(9))\n",
    "print(a.read(11))\n",
    "print(a.read())    #it will read all data remaining"
   ]
  },
  {
   "cell_type": "code",
   "execution_count": 48,
   "metadata": {},
   "outputs": [],
   "source": [
    "#we cannot read text file in reverse order only positive indexing"
   ]
  },
  {
   "cell_type": "code",
   "execution_count": 51,
   "metadata": {},
   "outputs": [
    {
     "name": "stdout",
     "output_type": "stream",
     "text": [
      "ABCefghijklmn123456\n",
      "7891011\n"
     ]
    }
   ],
   "source": [
    "a=open('f3.txt','r')\n",
    "print(a.read(-100))\n"
   ]
  },
  {
   "cell_type": "code",
   "execution_count": 54,
   "metadata": {},
   "outputs": [
    {
     "name": "stdout",
     "output_type": "stream",
     "text": [
      "ABCefghijk\n",
      "lmn123456\n",
      "7891011\n"
     ]
    }
   ],
   "source": [
    "a=open('f3.txt','r')\n",
    "print(a.read(10))\n",
    "print(a.read(-6))"
   ]
  },
  {
   "cell_type": "code",
   "execution_count": 1,
   "metadata": {},
   "outputs": [],
   "source": [
    "#binary mode=>to secure the data\n",
    "import pickle         #joblist    #pickle library convert original contect into binary form\n",
    "mobile_number=1232312414\n",
    "x=open('f4.txt','wb')\n",
    "pickle.dump(mobile_number,x)\n",
    "x.close()"
   ]
  },
  {
   "cell_type": "code",
   "execution_count": 8,
   "metadata": {},
   "outputs": [
    {
     "data": {
      "text/plain": [
       "b'\\x80\\x04\\x95\\x06\\x00\\x00\\x00\\x00\\x00\\x00\\x00J^\\x98sI.'"
      ]
     },
     "execution_count": 8,
     "metadata": {},
     "output_type": "execute_result"
    }
   ],
   "source": [
    "x=open('f4.txt','rb')\n",
    "x.read()   #data is in encryption"
   ]
  },
  {
   "cell_type": "code",
   "execution_count": 3,
   "metadata": {},
   "outputs": [
    {
     "data": {
      "text/plain": [
       "1232312414"
      ]
     },
     "execution_count": 3,
     "metadata": {},
     "output_type": "execute_result"
    }
   ],
   "source": [
    "import pickle\n",
    "x=open('f4.txt','rb')\n",
    "pickle.load(x)"
   ]
  },
  {
   "cell_type": "code",
   "execution_count": 87,
   "metadata": {},
   "outputs": [
    {
     "name": "stdout",
     "output_type": "stream",
     "text": [
      "BeSt Poor leader mediumSpyder Joke Sparkle Happy\n",
      " Spyder Joke Sparkle Happy\n",
      "12345678\n",
      "12345678\n",
      "BeSt Poor leader mediumSpyder Joke Sparkle Happy\n",
      " Spyder Joke Sparkle Happy\n",
      "12345678\n",
      "12345678\n",
      "12345678\n",
      "106\n"
     ]
    }
   ],
   "source": [
    "with open('f1.txt','a+') as file_obj:\n",
    "    file_obj.seek(0)\n",
    "    print(file_obj.read())\n",
    "    file_obj.write('\\n12345678')\n",
    "    file_obj.seek(0)        #set pointer at 0\n",
    "    print(file_obj.read())\n",
    "    print(file_obj.tell())  #current position \n",
    "\n"
   ]
  },
  {
   "cell_type": "code",
   "execution_count": null,
   "metadata": {},
   "outputs": [],
   "source": [
    "open('t','+')"
   ]
  },
  {
   "cell_type": "code",
   "execution_count": 15,
   "metadata": {},
   "outputs": [
    {
     "name": "stdout",
     "output_type": "stream",
     "text": [
      "ABCefghijklmn123456\n",
      "7891011\n",
      "1234567\n",
      "1234567\n",
      "1234567\n",
      "1234567\n",
      "\n",
      "\n"
     ]
    }
   ],
   "source": [
    "with open('f3.txt','a+') as file_obj:\n",
    "    file_obj.seek(0)\n",
    "    print(file_obj.read())\n",
    "    file_obj.seek(0)\n",
    "    file_obj.write('\\n1234567')\n",
    "    print(file_obj.read())\n",
    "    print(file_obj.read())\n",
    "    file_obj.close()"
   ]
  },
  {
   "cell_type": "code",
   "execution_count": null,
   "metadata": {},
   "outputs": [],
   "source": []
  }
 ],
 "metadata": {
  "kernelspec": {
   "display_name": "Python 3",
   "language": "python",
   "name": "python3"
  },
  "language_info": {
   "codemirror_mode": {
    "name": "ipython",
    "version": 3
   },
   "file_extension": ".py",
   "mimetype": "text/x-python",
   "name": "python",
   "nbconvert_exporter": "python",
   "pygments_lexer": "ipython3",
   "version": "3.12.3"
  }
 },
 "nbformat": 4,
 "nbformat_minor": 2
}
