{
 "cells": [
  {
   "cell_type": "code",
   "execution_count": 6,
   "metadata": {},
   "outputs": [
    {
     "name": "stdout",
     "output_type": "stream",
     "text": [
      "10\n",
      "Hello\n",
      "20\n",
      "Hello\n",
      "30\n",
      "Hello\n",
      "40\n",
      "Hello\n"
     ]
    }
   ],
   "source": [
    "#for loop: list data type\n",
    "\n",
    "for i in [10,20,30,40]:\n",
    "    print(i)\n",
    "    print('Hello')"
   ]
  },
  {
   "cell_type": "code",
   "execution_count": 7,
   "metadata": {},
   "outputs": [
    {
     "name": "stdout",
     "output_type": "stream",
     "text": [
      "10\n",
      "Hello\n",
      "20\n",
      "Hello\n",
      "30\n",
      "Hello\n",
      "40\n",
      "Hello\n"
     ]
    }
   ],
   "source": [
    "for i in (10,20,30,40):\n",
    "    print(i)\n",
    "    print('Hello')"
   ]
  },
  {
   "cell_type": "code",
   "execution_count": 1,
   "metadata": {},
   "outputs": [
    {
     "name": "stdout",
     "output_type": "stream",
     "text": [
      "40\n",
      "Hello\n",
      "10\n",
      "Hello\n",
      "20\n",
      "Hello\n",
      "30\n",
      "Hello\n"
     ]
    }
   ],
   "source": [
    "for i in {10,20,20,30,40,40,20,40}:\n",
    "    print(i)\n",
    "    print('Hello')"
   ]
  },
  {
   "cell_type": "code",
   "execution_count": 9,
   "metadata": {},
   "outputs": [
    {
     "name": "stdout",
     "output_type": "stream",
     "text": [
      "0\n",
      "hello\n",
      "1\n",
      "hello\n",
      "2\n",
      "hello\n",
      "3\n",
      "hello\n",
      "4\n",
      "hello\n"
     ]
    }
   ],
   "source": [
    "#for loop for range data type\n",
    "\n",
    "for i in range(5):\n",
    "    print(i)\n",
    "    print('hello')"
   ]
  },
  {
   "cell_type": "code",
   "execution_count": 10,
   "metadata": {},
   "outputs": [
    {
     "name": "stdout",
     "output_type": "stream",
     "text": [
      "['p', 'y', 't', 'h', 'o', 'n']\n"
     ]
    }
   ],
   "source": [
    "#for loop for string data type\n",
    "s=[]\n",
    "for i in 'python':\n",
    "    s.append(i)\n",
    "print(s)"
   ]
  },
  {
   "cell_type": "code",
   "execution_count": 11,
   "metadata": {},
   "outputs": [
    {
     "name": "stdout",
     "output_type": "stream",
     "text": [
      "hello\n",
      "numbers\n",
      "hello\n",
      "square\n"
     ]
    }
   ],
   "source": [
    "#for loop for dictionary data type\n",
    "\n",
    "d1={'numbers':[1,2,3,4,5],\n",
    "'square':[1,4,9,16,25]}\n",
    "for i in d1:\n",
    "    print('hello')\n",
    "    print(i)\n"
   ]
  },
  {
   "cell_type": "code",
   "execution_count": 12,
   "metadata": {},
   "outputs": [
    {
     "name": "stdout",
     "output_type": "stream",
     "text": [
      "[1, 2, 3, 4, 5]\n",
      "[1, 4, 9, 16, 25]\n"
     ]
    }
   ],
   "source": [
    "\n",
    "for i in d1.values():\n",
    "    print(i)\n"
   ]
  },
  {
   "cell_type": "code",
   "execution_count": 13,
   "metadata": {},
   "outputs": [
    {
     "name": "stdout",
     "output_type": "stream",
     "text": [
      "numbers [1, 2, 3, 4, 5]\n",
      "square [1, 4, 9, 16, 25]\n"
     ]
    }
   ],
   "source": [
    "for i, j in d1.items():\n",
    "    print(i,j)"
   ]
  },
  {
   "cell_type": "code",
   "execution_count": 14,
   "metadata": {},
   "outputs": [
    {
     "name": "stdout",
     "output_type": "stream",
     "text": [
      "12\n",
      "14\n",
      "16\n",
      "18\n",
      "20\n",
      "22\n",
      "24\n",
      "26\n",
      "28\n",
      "30\n",
      "32\n",
      "34\n",
      "36\n",
      "38\n",
      "40\n",
      "42\n",
      "44\n",
      "46\n",
      "48\n",
      "50\n"
     ]
    }
   ],
   "source": [
    "#to display the even numbers from 11 to 50\n",
    "\n",
    "for i in range(12,51,2):\n",
    "    print(i)"
   ]
  },
  {
   "cell_type": "code",
   "execution_count": 15,
   "metadata": {},
   "outputs": [
    {
     "name": "stdout",
     "output_type": "stream",
     "text": [
      "even number 12\n",
      "even number 14\n",
      "even number 16\n",
      "even number 18\n",
      "even number 20\n",
      "even number 22\n",
      "even number 24\n",
      "even number 26\n",
      "even number 28\n",
      "even number 30\n",
      "even number 32\n",
      "even number 34\n",
      "even number 36\n",
      "even number 38\n",
      "even number 40\n",
      "even number 42\n",
      "even number 44\n",
      "even number 46\n",
      "even number 48\n",
      "even number 50\n"
     ]
    }
   ],
   "source": [
    "for number in range(11,51):\n",
    "    if (number%2==0):\n",
    "        print('even number',number)\n",
    "    "
   ]
  },
  {
   "cell_type": "code",
   "execution_count": 16,
   "metadata": {},
   "outputs": [
    {
     "name": "stdout",
     "output_type": "stream",
     "text": [
      "odd number 11\n",
      "odd number 13\n",
      "odd number 15\n",
      "odd number 17\n",
      "odd number 19\n",
      "odd number 21\n",
      "odd number 23\n",
      "odd number 25\n",
      "odd number 27\n",
      "odd number 29\n",
      "odd number 31\n",
      "odd number 33\n",
      "odd number 35\n",
      "odd number 37\n",
      "odd number 39\n",
      "odd number 41\n",
      "odd number 43\n",
      "odd number 45\n",
      "odd number 47\n",
      "odd number 49\n"
     ]
    }
   ],
   "source": [
    "for number in range(11,51):\n",
    "    if (number%2!=0):\n",
    "        print('odd number',number)"
   ]
  },
  {
   "cell_type": "code",
   "execution_count": 17,
   "metadata": {},
   "outputs": [
    {
     "name": "stdout",
     "output_type": "stream",
     "text": [
      "odd number 11\n",
      "even number 12\n",
      "odd number 13\n",
      "even number 14\n",
      "odd number 15\n",
      "even number 16\n",
      "odd number 17\n",
      "even number 18\n",
      "odd number 19\n",
      "even number 20\n",
      "odd number 21\n",
      "even number 22\n",
      "odd number 23\n",
      "even number 24\n",
      "odd number 25\n",
      "even number 26\n",
      "odd number 27\n",
      "even number 28\n",
      "odd number 29\n",
      "even number 30\n",
      "odd number 31\n",
      "even number 32\n",
      "odd number 33\n",
      "even number 34\n",
      "odd number 35\n",
      "even number 36\n",
      "odd number 37\n",
      "even number 38\n",
      "odd number 39\n",
      "even number 40\n",
      "odd number 41\n",
      "even number 42\n",
      "odd number 43\n",
      "even number 44\n",
      "odd number 45\n",
      "even number 46\n",
      "odd number 47\n",
      "even number 48\n",
      "odd number 49\n",
      "even number 50\n"
     ]
    }
   ],
   "source": [
    "#to display odd and even\n",
    "for number in range(11,51):\n",
    "    if (number%2==0):\n",
    "        print('even number',number)\n",
    "    else: \n",
    "        print('odd number',number)"
   ]
  },
  {
   "cell_type": "code",
   "execution_count": 18,
   "metadata": {},
   "outputs": [
    {
     "name": "stdout",
     "output_type": "stream",
     "text": [
      "Even number: [12, 14, 16, 18, 20, 22, 24, 26, 28, 30, 32, 34, 36, 38, 40, 42, 44, 46, 48, 50]\n",
      "Odd number: [11, 13, 15, 17, 19, 21, 23, 25, 27, 29, 31, 33, 35, 37, 39, 41, 43, 45, 47, 49]\n"
     ]
    }
   ],
   "source": [
    "odd=[]\n",
    "even=[]\n",
    "for number in range(11,51):\n",
    "    if (number%2==0):\n",
    "        even.append(number)\n",
    "    else: \n",
    "        odd.append(number)\n",
    "print('Even number:',even)\n",
    "print('Odd number:',odd)"
   ]
  },
  {
   "cell_type": "code",
   "execution_count": 19,
   "metadata": {},
   "outputs": [
    {
     "name": "stdout",
     "output_type": "stream",
     "text": [
      "Positive numbers [23, 80, 7]\n",
      "Negative numbers [-67, -90, -6]\n"
     ]
    }
   ],
   "source": [
    "#to find positive and negative numbers from a given list \n",
    "\n",
    "num_list=[23,-67,80,-90,7,-6]\n",
    "positive=[]\n",
    "negative=[]\n",
    "for i in num_list:\n",
    "    if (i<0):\n",
    "        negative.append(i)\n",
    "    else:\n",
    "        positive.append(i)\n",
    "print('Positive numbers',positive)\n",
    "print('Negative numbers',negative)"
   ]
  },
  {
   "cell_type": "code",
   "execution_count": 20,
   "metadata": {},
   "outputs": [
    {
     "name": "stdout",
     "output_type": "stream",
     "text": [
      "Sum of numbers 1 to 10 is 55\n"
     ]
    }
   ],
   "source": [
    "#to display the sum of numbers from 1 to 10\n",
    "sum_of_num=0\n",
    "for i in range(1,11):\n",
    "  sum_of_num=sum_of_num+i\n",
    "print('Sum of numbers 1 to 10 is',sum_of_num)"
   ]
  },
  {
   "cell_type": "code",
   "execution_count": 21,
   "metadata": {},
   "outputs": [
    {
     "name": "stdout",
     "output_type": "stream",
     "text": [
      "17\n"
     ]
    }
   ],
   "source": [
    "today_date='22/05/2024'\n",
    "sum_of_digits=0\n",
    "for i in today_date:\n",
    "    if (i.isdigit()):\n",
    "       sum_of_digits=int(i)+sum_of_digits\n",
    "print(sum_of_digits)\n",
    "\n"
   ]
  },
  {
   "cell_type": "code",
   "execution_count": 22,
   "metadata": {},
   "outputs": [
    {
     "name": "stdout",
     "output_type": "stream",
     "text": [
      "value of a and b 10 30\n",
      "After execution\n",
      "Addition 40 30\n",
      "Multiplication 1200 30\n",
      "1200 30\n",
      "sub\n",
      "1170 30\n"
     ]
    }
   ],
   "source": [
    "#assignment operators =.+=,-=,*=,/=**=,//=,%=\n",
    "\n",
    "a=10\n",
    "b=30\n",
    "print('value of a and b',a,b)\n",
    "\n",
    "a+=b #a=a+b  b+=a b=b+a\n",
    "print('After execution')\n",
    "print('Addition',a,b)\n",
    "a*=b #a=a*b\n",
    "print('Multiplication',a,b)\n",
    "print(a,b)\n",
    "a-=b\n",
    "print('sub')\n",
    "print(a,b)\n",
    "\n"
   ]
  },
  {
   "cell_type": "code",
   "execution_count": 23,
   "metadata": {},
   "outputs": [
    {
     "name": "stdout",
     "output_type": "stream",
     "text": [
      "value of a and b 2 3\n",
      "After execution\n",
      "Exp a= 8 b= 3\n"
     ]
    }
   ],
   "source": [
    "#assignment operators =.+=,-=,*=,/=**=,//=,%=\n",
    "\n",
    "a=2\n",
    "b=3\n",
    "print('value of a and b',a,b)\n",
    "\n",
    "a**=b #a=a**b\n",
    "print('After execution')\n",
    "print('Exp a=',a,'b=',b)\n",
    "\n",
    "\n"
   ]
  },
  {
   "cell_type": "code",
   "execution_count": 24,
   "metadata": {},
   "outputs": [
    {
     "name": "stdout",
     "output_type": "stream",
     "text": [
      "value of a and b 2 3\n",
      "After execution\n",
      "Exp 2 b= 9\n"
     ]
    }
   ],
   "source": [
    "a=2\n",
    "b=3\n",
    "print('value of a and b',a,b)\n",
    "\n",
    "b**=a #a=a**b\n",
    "print('After execution')\n",
    "print('Exp',a,'b=',b)\n"
   ]
  },
  {
   "cell_type": "code",
   "execution_count": 25,
   "metadata": {},
   "outputs": [
    {
     "name": "stdout",
     "output_type": "stream",
     "text": [
      "Duplicate element 87\n",
      "Index number 2\n",
      "Duplicate element 87\n",
      "Index number 5\n"
     ]
    }
   ],
   "source": [
    "#To find duplicate elements from a given list with index number.\n",
    "\n",
    "num_list=[21,47,87,53,32,87,90,95]\n",
    "for i in range(len(num_list)):\n",
    "    if (num_list.count(num_list[i])>1):\n",
    "        print('Duplicate element',num_list[i])\n",
    "        print('Index number',i)"
   ]
  },
  {
   "cell_type": "code",
   "execution_count": 26,
   "metadata": {},
   "outputs": [
    {
     "data": {
      "text/plain": [
       "2"
      ]
     },
     "execution_count": 26,
     "metadata": {},
     "output_type": "execute_result"
    }
   ],
   "source": [
    "num_list=[21,47,87,53,32,87,90,95]\n",
    "num_list.count(87)"
   ]
  },
  {
   "cell_type": "code",
   "execution_count": 27,
   "metadata": {},
   "outputs": [
    {
     "name": "stdout",
     "output_type": "stream",
     "text": [
      "anjali is not present in a list\n"
     ]
    }
   ],
   "source": [
    "#To find a search element in a given list, if element is found then return element with index number\n",
    "names=['Satyajeet','Piyush','Hatim','Namrata','Nikhil','Anushka','Anjali']\n",
    "user_name=input('Enter the name')\n",
    "for i in range(len(names)): #0,1,.........6\n",
    "    if (names[i]==user_name):\n",
    "        print(f\"{user_name} is present in a list and index number is {i}\")\n",
    "        break                                                                                           #break is used to stop the execution\n",
    "else:   \n",
    "    print(f\"{user_name} is not present in a list\")             #for loop with else\n",
    "    "
   ]
  },
  {
   "cell_type": "code",
   "execution_count": 28,
   "metadata": {},
   "outputs": [
    {
     "name": "stdout",
     "output_type": "stream",
     "text": [
      "G\n",
      "o\n",
      "o\n",
      "d\n",
      " \n"
     ]
    }
   ],
   "source": [
    "x='Good Friday'\n",
    "for i in x:\n",
    "    if i==\"F\":\n",
    "        break\n",
    "    print(i)"
   ]
  },
  {
   "cell_type": "code",
   "execution_count": 29,
   "metadata": {},
   "outputs": [
    {
     "name": "stdout",
     "output_type": "stream",
     "text": [
      "G\n",
      "o\n",
      "o\n",
      "d\n",
      " \n",
      "r\n",
      "i\n",
      "d\n",
      "a\n",
      "y\n"
     ]
    }
   ],
   "source": [
    "x='Good Friday'\n",
    "for i in x:\n",
    "    if i==\"F\":\n",
    "        continue\n",
    "    print(i)"
   ]
  },
  {
   "cell_type": "code",
   "execution_count": 31,
   "metadata": {},
   "outputs": [
    {
     "name": "stdout",
     "output_type": "stream",
     "text": [
      "G\n",
      "o\n",
      "o\n",
      "d\n",
      " \n",
      "F\n",
      "r\n",
      "i\n",
      "d\n",
      "a\n",
      "y\n",
      "Outside in for loop\n"
     ]
    }
   ],
   "source": [
    "x='Good Friday'\n",
    "for i in x:\n",
    "    print(i)\n",
    "else:\n",
    "    print(\"Outside in for loop\")"
   ]
  },
  {
   "cell_type": "code",
   "execution_count": 34,
   "metadata": {},
   "outputs": [
    {
     "name": "stdout",
     "output_type": "stream",
     "text": [
      "*\n",
      "**\n",
      "***\n",
      "****\n",
      "*****\n"
     ]
    }
   ],
   "source": [
    "for i in range(1,6):\n",
    "    print(i*'*')"
   ]
  },
  {
   "cell_type": "code",
   "execution_count": 36,
   "metadata": {},
   "outputs": [
    {
     "name": "stdout",
     "output_type": "stream",
     "text": [
      "G\n",
      "B\n",
      "a\n",
      "d\n",
      "o\n",
      "B\n",
      "a\n",
      "d\n",
      "o\n",
      "B\n",
      "a\n",
      "d\n",
      "d\n",
      "B\n",
      "a\n",
      "d\n"
     ]
    }
   ],
   "source": [
    "for i in 'Good':\n",
    "    print(i)\n",
    "    for j in 'Bad':\n",
    "        print(j)"
   ]
  },
  {
   "cell_type": "code",
   "execution_count": 55,
   "metadata": {},
   "outputs": [
    {
     "name": "stdout",
     "output_type": "stream",
     "text": [
      "1\t\n",
      "\n",
      "1\t2\t\n",
      "\n",
      "1\t2\t3\t\n",
      "\n",
      "1\t2\t3\t4\t\n",
      "\n",
      "1\t2\t3\t4\t5\t\n",
      "\n"
     ]
    }
   ],
   "source": [
    "for i in range(1,6):\n",
    "    for j in range(1,i+1):\n",
    "        print(j,end='\\t')\n",
    "    print('\\n')\n",
    "    "
   ]
  },
  {
   "cell_type": "code",
   "execution_count": 58,
   "metadata": {},
   "outputs": [
    {
     "name": "stdout",
     "output_type": "stream",
     "text": [
      "1\t\n",
      "\n",
      "2\t2\t\n",
      "\n",
      "3\t3\t3\t\n",
      "\n",
      "4\t4\t4\t4\t\n",
      "\n",
      "5\t5\t5\t5\t5\t\n",
      "\n"
     ]
    }
   ],
   "source": [
    "for i in range(1,6):\n",
    "    for j in range(1,i+1):\n",
    "        print(i,end='\\t')\n",
    "    print('\\n')"
   ]
  },
  {
   "cell_type": "code",
   "execution_count": 59,
   "metadata": {},
   "outputs": [
    {
     "name": "stdout",
     "output_type": "stream",
     "text": [
      "1\t\n",
      "\n",
      "2\t4\t\n",
      "\n",
      "3\t6\t9\t\n",
      "\n",
      "4\t8\t12\t16\t\n",
      "\n",
      "5\t10\t15\t20\t25\t\n",
      "\n"
     ]
    }
   ],
   "source": [
    "for i in range(1,6):\n",
    "    for j in range(1,i+1):\n",
    "        print(i*j,end='\\t')\n",
    "    print('\\n')"
   ]
  },
  {
   "cell_type": "code",
   "execution_count": 60,
   "metadata": {},
   "outputs": [
    {
     "name": "stdout",
     "output_type": "stream",
     "text": [
      "2\t\n",
      "\n",
      "3\t4\t\n",
      "\n",
      "4\t5\t6\t\n",
      "\n",
      "5\t6\t7\t8\t\n",
      "\n",
      "6\t7\t8\t9\t10\t\n",
      "\n"
     ]
    }
   ],
   "source": [
    "for i in range(1,6):\n",
    "    for j in range(1,i+1):\n",
    "        print(i+j,end='\\t')\n",
    "    print('\\n')"
   ]
  },
  {
   "cell_type": "code",
   "execution_count": 67,
   "metadata": {},
   "outputs": [
    {
     "name": "stdout",
     "output_type": "stream",
     "text": [
      "1\t\n",
      "\n",
      "2\t3\t\n",
      "\n",
      "3\t4\t5\t\n",
      "\n",
      "4\t5\t6\t7\t\n",
      "\n",
      "5\t6\t7\t8\t9\t\n",
      "\n"
     ]
    }
   ],
   "source": [
    "for i in range(5):\n",
    "    for j in range(1,i+2):\n",
    "        print(i+j,end='\\t')\n",
    "    print('\\n')"
   ]
  },
  {
   "cell_type": "code",
   "execution_count": 104,
   "metadata": {},
   "outputs": [
    {
     "name": "stdout",
     "output_type": "stream",
     "text": [
      "1\t\n",
      "\n",
      "2\t3\t\n",
      "\n",
      "4\t5\t6\t\n",
      "\n",
      "7\t8\t9\t10\t\n",
      "\n"
     ]
    }
   ],
   "source": [
    "n=1\n",
    "for i in range(1,5):\n",
    "    for j in range(1,i+1):\n",
    "        print(n,end='\\t')\n",
    "        n=n+1\n",
    "    print('\\n')"
   ]
  },
  {
   "cell_type": "code",
   "execution_count": 2,
   "metadata": {},
   "outputs": [
    {
     "name": "stdout",
     "output_type": "stream",
     "text": [
      "A\t\n",
      "\n",
      "B\tC\t\n",
      "\n",
      "D\tE\tF\t\n",
      "\n",
      "G\tH\tI\tJ\t\n",
      "\n"
     ]
    }
   ],
   "source": [
    "ascii_value=ord('A')\n",
    "for i in range(1,5):\n",
    "    for j in range(1,i+1):\n",
    "        print(chr(ascii_value),end='\\t')\n",
    "        ascii_value+=1\n",
    "    print('\\n')"
   ]
  },
  {
   "cell_type": "code",
   "execution_count": 1,
   "metadata": {},
   "outputs": [
    {
     "name": "stdout",
     "output_type": "stream",
     "text": [
      "A\t\n",
      "\n",
      "B\tB\t\n",
      "\n",
      "C\tC\tC\t\n",
      "\n",
      "D\tD\tD\tD\t\n",
      "\n",
      "E\tE\tE\tE\tE\t\n",
      "\n",
      "F\tF\tF\tF\tF\tF\t\n",
      "\n",
      "G\tG\tG\tG\tG\tG\tG\t\n",
      "\n"
     ]
    }
   ],
   "source": [
    "ascii_value=ord('A')\n",
    "for i in range(1,8):\n",
    "    for j in range(1,i+1):\n",
    "        print(chr(ascii_value),end='\\t')\n",
    "    ascii_value+=1\n",
    "    print('\\n')"
   ]
  },
  {
   "cell_type": "code",
   "execution_count": 18,
   "metadata": {},
   "outputs": [
    {
     "name": "stdout",
     "output_type": "stream",
     "text": [
      "A\t\n",
      "\n",
      "B\tC\t\n",
      "\n",
      "D\tE\tF\t\n",
      "\n",
      "G\tH\tI\tJ\t\n",
      "\n"
     ]
    }
   ],
   "source": [
    "ascii_value=ord('A')\n",
    "for i in range(1,5):\n",
    "    for j in range(1,i+1):\n",
    "        print(chr(ascii_value),end='\\t')\n",
    "        ascii_value+=1\n",
    "    print('\\n')"
   ]
  },
  {
   "cell_type": "code",
   "execution_count": 16,
   "metadata": {},
   "outputs": [
    {
     "name": "stdout",
     "output_type": "stream",
     "text": [
      "A\t\n",
      "\n",
      "A\tB\t\n",
      "\n",
      "A\tB\tC\t\n",
      "\n",
      "A\tB\tC\tD\t\n",
      "\n",
      "A\tB\tC\tD\tE\t\n",
      "\n"
     ]
    }
   ],
   "source": [
    "\n",
    "for i in range(65,70):\n",
    "    for j in range(65,i+1):\n",
    "        print(chr(j),end='\\t')\n",
    "        \n",
    "    print('\\n')\n"
   ]
  },
  {
   "cell_type": "code",
   "execution_count": 13,
   "metadata": {},
   "outputs": [
    {
     "data": {
      "text/plain": [
       "'A'"
      ]
     },
     "execution_count": 13,
     "metadata": {},
     "output_type": "execute_result"
    }
   ],
   "source": [
    "chr(65)"
   ]
  }
 ],
 "metadata": {
  "kernelspec": {
   "display_name": "Python 3",
   "language": "python",
   "name": "python3"
  },
  "language_info": {
   "codemirror_mode": {
    "name": "ipython",
    "version": 3
   },
   "file_extension": ".py",
   "mimetype": "text/x-python",
   "name": "python",
   "nbconvert_exporter": "python",
   "pygments_lexer": "ipython3",
   "version": "3.12.3"
  }
 },
 "nbformat": 4,
 "nbformat_minor": 2
}
