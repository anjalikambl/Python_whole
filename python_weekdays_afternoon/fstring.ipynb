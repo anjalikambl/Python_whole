{
 "cells": [
  {
   "cell_type": "code",
   "execution_count": 1,
   "metadata": {},
   "outputs": [
    {
     "name": "stdout",
     "output_type": "stream",
     "text": [
      "My mobile price is 25000\n"
     ]
    }
   ],
   "source": [
    "price=25000\n",
    "print(f\"My mobile price is {price}\")"
   ]
  },
  {
   "cell_type": "code",
   "execution_count": 2,
   "metadata": {},
   "outputs": [
    {
     "name": "stdout",
     "output_type": "stream",
     "text": [
      "My mobile price is 25000.00\n"
     ]
    }
   ],
   "source": [
    "print(f\"My mobile price is {price:.2f}\")"
   ]
  },
  {
   "cell_type": "code",
   "execution_count": 3,
   "metadata": {},
   "outputs": [
    {
     "name": "stdout",
     "output_type": "stream",
     "text": [
      "Marks in percentage 79.00%\n"
     ]
    }
   ],
   "source": [
    "marks=0.79\n",
    "print(f\"Marks in percentage {marks:.2%}\")"
   ]
  },
  {
   "cell_type": "code",
   "execution_count": 4,
   "metadata": {},
   "outputs": [
    {
     "data": {
      "text/plain": [
       "'Marks in percentage 79%'"
      ]
     },
     "execution_count": 4,
     "metadata": {},
     "output_type": "execute_result"
    }
   ],
   "source": [
    "marks=0.79\n",
    "f\"Marks in percentage {marks:.0%}\""
   ]
  },
  {
   "cell_type": "code",
   "execution_count": 5,
   "metadata": {},
   "outputs": [
    {
     "data": {
      "text/plain": [
       "'Value of x is 22.00'"
      ]
     },
     "execution_count": 5,
     "metadata": {},
     "output_type": "execute_result"
    }
   ],
   "source": [
    "x=22\n",
    "f\"Value of x is {x:.2f}\""
   ]
  },
  {
   "cell_type": "code",
   "execution_count": 6,
   "metadata": {},
   "outputs": [
    {
     "data": {
      "text/plain": [
       "'Value of x is 22.79'"
      ]
     },
     "execution_count": 6,
     "metadata": {},
     "output_type": "execute_result"
    }
   ],
   "source": [
    "x=22.78665676\n",
    "f\"Value of x is {x:.2f}\""
   ]
  },
  {
   "cell_type": "code",
   "execution_count": 7,
   "metadata": {},
   "outputs": [
    {
     "name": "stdout",
     "output_type": "stream",
     "text": [
      "Value of x in binary number 11011\n",
      "Value of x in octal number 33\n",
      "Value of x in hexadecimal number 1b\n"
     ]
    }
   ],
   "source": [
    "x=27\n",
    "print(f\"Value of x in binary number {x:b}\") #2^4+2^3+2^1+2^0\n",
    "print(f\"Value of x in octal number {x:o}\")\n",
    "print(F\"Value of x in hexadecimal number {x:x}\")"
   ]
  },
  {
   "cell_type": "code",
   "execution_count": 12,
   "metadata": {},
   "outputs": [
    {
     "data": {
      "text/plain": [
       "'My friends name are Sanjana Anjali Kirti'"
      ]
     },
     "execution_count": 12,
     "metadata": {},
     "output_type": "execute_result"
    }
   ],
   "source": [
    "\"My friends name are {} {} {}\".format('Sanjana','Anjali','Kirti')"
   ]
  },
  {
   "cell_type": "code",
   "execution_count": 13,
   "metadata": {},
   "outputs": [
    {
     "data": {
      "text/plain": [
       "'My friends name are Sanjana Kirti Anjali'"
      ]
     },
     "execution_count": 13,
     "metadata": {},
     "output_type": "execute_result"
    }
   ],
   "source": [
    "\"My friends name are {0} {2} {1}\".format('Sanjana','Anjali','Kirti')\n"
   ]
  },
  {
   "cell_type": "code",
   "execution_count": 15,
   "metadata": {},
   "outputs": [
    {
     "data": {
      "text/plain": [
       "'I ordered pizza and burger'"
      ]
     },
     "execution_count": 15,
     "metadata": {},
     "output_type": "execute_result"
    }
   ],
   "source": [
    "x='pizza'\n",
    "y='burger'\n",
    "\"I ordered {} and {}\".format(x,y)"
   ]
  },
  {
   "cell_type": "code",
   "execution_count": 20,
   "metadata": {},
   "outputs": [
    {
     "data": {
      "text/plain": [
       "'I ordered burger and pizza'"
      ]
     },
     "execution_count": 20,
     "metadata": {},
     "output_type": "execute_result"
    }
   ],
   "source": [
    "x='pizza'\n",
    "y='burger'\n",
    "\"I ordered {1} and {0}\".format(x,y)"
   ]
  },
  {
   "cell_type": "code",
   "execution_count": 21,
   "metadata": {},
   "outputs": [
    {
     "data": {
      "text/plain": [
       "'I ordered pizza and burger'"
      ]
     },
     "execution_count": 21,
     "metadata": {},
     "output_type": "execute_result"
    }
   ],
   "source": [
    "\"I ordered {x} and {y}\".format(x='pizza',y='burger')"
   ]
  },
  {
   "cell_type": "code",
   "execution_count": 30,
   "metadata": {},
   "outputs": [
    {
     "name": "stdout",
     "output_type": "stream",
     "text": [
      "Student name is Anjali age is 24 and marks are 87.72\n"
     ]
    }
   ],
   "source": [
    "student_name='Anjali'\n",
    "age=24\n",
    "marks=87.72\n",
    "\n",
    "print(\"Student name is %s age is %d and marks are %.2f\"%(student_name,age,marks))"
   ]
  },
  {
   "cell_type": "markdown",
   "metadata": {},
   "source": [
    "Write a program to calculate area of circle"
   ]
  },
  {
   "cell_type": "code",
   "execution_count": 44,
   "metadata": {},
   "outputs": [
    {
     "name": "stdout",
     "output_type": "stream",
     "text": [
      "Radius of circle is 5.0 m and area of circle is 78.5 m^2\n"
     ]
    }
   ],
   "source": [
    "#input of program \n",
    "radius=float(input(\"Enter the radius: \"))\n",
    "pi=3.14\n",
    "area=pi*radius**2\n",
    "print(f\"Radius of circle is {radius} m and area of circle is {area} m^2\")"
   ]
  },
  {
   "cell_type": "code",
   "execution_count": 1,
   "metadata": {},
   "outputs": [
    {
     "name": "stdout",
     "output_type": "stream",
     "text": [
      "Debited amount is 500 and Current balance amount is 49500\n"
     ]
    }
   ],
   "source": [
    "balance_amount=50000\n",
    "#input debit amount\n",
    "debit_amount=int(input(\"Enter the amount\"))\n",
    "balance_amount=balance_amount-debit_amount\n",
    "print(f\"Debited amount is {debit_amount} and Current balance amount is {balance_amount}\")"
   ]
  },
  {
   "cell_type": "code",
   "execution_count": 49,
   "metadata": {},
   "outputs": [
    {
     "name": "stdout",
     "output_type": "stream",
     "text": [
      "Debited amount is 500 and Current balance amount is 49500\n"
     ]
    }
   ],
   "source": [
    "balance_amount=50000\n",
    "#input debit amount\n",
    "debit_amount=int(input(\"Enter the amount\"))\n",
    "balance_amount=balance_amount-debit_amount\n",
    "print(\"Debited amount is {} and Current balance amount is {}\".format(debit_amount,balance_amount))"
   ]
  },
  {
   "cell_type": "code",
   "execution_count": 50,
   "metadata": {},
   "outputs": [
    {
     "name": "stdout",
     "output_type": "stream",
     "text": [
      "Debited amount is 600 and Current balance amount is 49400\n"
     ]
    }
   ],
   "source": [
    "balance_amount=50000\n",
    "#input debit amount\n",
    "debit_amount=int(input(\"Enter the amount\"))\n",
    "#process\n",
    "balance_amount=balance_amount-debit_amount\n",
    "#output\n",
    "print(\"Debited amount is %d and Current balance amount is %d\"%(debit_amount,balance_amount))"
   ]
  },
  {
   "cell_type": "code",
   "execution_count": 1,
   "metadata": {},
   "outputs": [],
   "source": [
    "#print(f\"{a}\") print(\"{}\".format()) print(\"%d %d\"%())"
   ]
  },
  {
   "cell_type": "code",
   "execution_count": 4,
   "metadata": {},
   "outputs": [
    {
     "name": "stdout",
     "output_type": "stream",
     "text": [
      "100500\n",
      "101500\n"
     ]
    }
   ],
   "source": [
    "import bank_server\n",
    "print(bank_server.balance_amount)\n",
    "amount=int(input('Enter amount'))\n",
    "print(bank_server.credit(amount))"
   ]
  },
  {
   "cell_type": "code",
   "execution_count": null,
   "metadata": {},
   "outputs": [],
   "source": []
  },
  {
   "cell_type": "code",
   "execution_count": null,
   "metadata": {},
   "outputs": [],
   "source": []
  },
  {
   "cell_type": "code",
   "execution_count": null,
   "metadata": {},
   "outputs": [],
   "source": []
  },
  {
   "cell_type": "code",
   "execution_count": null,
   "metadata": {},
   "outputs": [],
   "source": []
  },
  {
   "cell_type": "code",
   "execution_count": null,
   "metadata": {},
   "outputs": [],
   "source": []
  },
  {
   "cell_type": "code",
   "execution_count": null,
   "metadata": {},
   "outputs": [],
   "source": []
  }
 ],
 "metadata": {
  "kernelspec": {
   "display_name": "Python 3",
   "language": "python",
   "name": "python3"
  },
  "language_info": {
   "codemirror_mode": {
    "name": "ipython",
    "version": 3
   },
   "file_extension": ".py",
   "mimetype": "text/x-python",
   "name": "python",
   "nbconvert_exporter": "python",
   "pygments_lexer": "ipython3",
   "version": "3.12.3"
  }
 },
 "nbformat": 4,
 "nbformat_minor": 2
}
