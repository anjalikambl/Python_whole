{
 "cells": [
  {
   "cell_type": "code",
   "execution_count": 13,
   "metadata": {},
   "outputs": [
    {
     "name": "stdout",
     "output_type": "stream",
     "text": [
      "First time called 10\n",
      "Second time called 10\n",
      "Third time called 10\n"
     ]
    }
   ],
   "source": [
    "#generators\n",
    "def fun1():\n",
    "    x=10\n",
    "    return x\n",
    "    x+=30\n",
    "    return x\n",
    "    x=20\n",
    "    return x\n",
    "print('First time called',fun1())\n",
    "print('Second time called',fun1())            #we can yse return only once\n",
    "print('Third time called',fun1())"
   ]
  },
  {
   "cell_type": "code",
   "execution_count": 18,
   "metadata": {},
   "outputs": [
    {
     "name": "stdout",
     "output_type": "stream",
     "text": [
      "<class 'generator'>\n",
      "First time called 10\n",
      "Second time called 40\n",
      "Third time called 20\n"
     ]
    }
   ],
   "source": [
    "def fun1():\n",
    "    x=10\n",
    "    yield x\n",
    "    x+=30\n",
    "    yield x\n",
    "    x=20\n",
    "    yield x\n",
    "g1=fun1()\n",
    "print(type(g1))\n",
    "print('First time called',next(g1))\n",
    "print('Second time called',next(g1))            #we can yse return only once\n",
    "print('Third time called',next(g1))"
   ]
  },
  {
   "cell_type": "markdown",
   "metadata": {},
   "source": [
    "Second time called <generator object fun1 at 0x0000020C3597F280>\n",
    "Third time called <generator object fun1 at 0x0000020C3597F280> memory address"
   ]
  },
  {
   "cell_type": "code",
   "execution_count": 22,
   "metadata": {},
   "outputs": [
    {
     "name": "stdout",
     "output_type": "stream",
     "text": [
      "welcome\n"
     ]
    }
   ],
   "source": [
    "def sample():\n",
    "    print('welcome')\n",
    "sample()\n",
    " "
   ]
  },
  {
   "cell_type": "code",
   "execution_count": 24,
   "metadata": {},
   "outputs": [
    {
     "data": {
      "text/plain": [
       "'welcome'"
      ]
     },
     "execution_count": 24,
     "metadata": {},
     "output_type": "execute_result"
    }
   ],
   "source": [
    "(lambda  : 'welcome')()"
   ]
  },
  {
   "cell_type": "code",
   "execution_count": 27,
   "metadata": {},
   "outputs": [
    {
     "data": {
      "text/plain": [
       "'Welcome'"
      ]
     },
     "execution_count": 27,
     "metadata": {},
     "output_type": "execute_result"
    }
   ],
   "source": [
    "(lambda x: 'Welcome')(100)"
   ]
  },
  {
   "cell_type": "code",
   "execution_count": 30,
   "metadata": {},
   "outputs": [
    {
     "data": {
      "text/plain": [
       "6"
      ]
     },
     "execution_count": 30,
     "metadata": {},
     "output_type": "execute_result"
    }
   ],
   "source": [
    "(lambda x,y: x*y)(2,3)"
   ]
  },
  {
   "cell_type": "code",
   "execution_count": 3,
   "metadata": {},
   "outputs": [
    {
     "name": "stdout",
     "output_type": "stream",
     "text": [
      "welcome\n",
      "Hello\n",
      "Hi\n"
     ]
    }
   ],
   "source": [
    "from multipledispatch import dispatch\n",
    "@dispatch()\n",
    "def show():\n",
    "    print('welcome')\n",
    "@dispatch(int)\n",
    "def show(x):\n",
    "    print('Hello')\n",
    "@dispatch(float)\n",
    "def show(x):\n",
    "    print('Hi')\n",
    "show()\n",
    "show(3)\n",
    "show(4.5)"
   ]
  },
  {
   "cell_type": "code",
   "execution_count": null,
   "metadata": {},
   "outputs": [],
   "source": []
  },
  {
   "cell_type": "code",
   "execution_count": null,
   "metadata": {},
   "outputs": [],
   "source": []
  },
  {
   "cell_type": "code",
   "execution_count": null,
   "metadata": {},
   "outputs": [],
   "source": []
  }
 ],
 "metadata": {
  "kernelspec": {
   "display_name": "Python 3",
   "language": "python",
   "name": "python3"
  },
  "language_info": {
   "codemirror_mode": {
    "name": "ipython",
    "version": 3
   },
   "file_extension": ".py",
   "mimetype": "text/x-python",
   "name": "python",
   "nbconvert_exporter": "python",
   "pygments_lexer": "ipython3",
   "version": "3.12.3"
  }
 },
 "nbformat": 4,
 "nbformat_minor": 2
}
