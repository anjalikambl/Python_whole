{
 "cells": [
  {
   "cell_type": "code",
   "execution_count": 8,
   "metadata": {},
   "outputs": [
    {
     "name": "stdout",
     "output_type": "stream",
     "text": [
      "Welcome to Python jupyter environment\n"
     ]
    }
   ],
   "source": [
    "print(\"Welcome to Python jupyter environment\") #cell\n"
   ]
  },
  {
   "cell_type": "markdown",
   "metadata": {},
   "source": [
    "Input Function"
   ]
  },
  {
   "cell_type": "code",
   "execution_count": 10,
   "metadata": {},
   "outputs": [
    {
     "data": {
      "text/plain": [
       "'45'"
      ]
     },
     "execution_count": 10,
     "metadata": {},
     "output_type": "execute_result"
    }
   ],
   "source": [
    "x=input(\"Enter the number\")\n",
    "x"
   ]
  },
  {
   "cell_type": "code",
   "execution_count": 11,
   "metadata": {},
   "outputs": [
    {
     "name": "stdout",
     "output_type": "stream",
     "text": [
      "25\n"
     ]
    }
   ],
   "source": [
    "y=input(\"Enter the second number\")\n",
    "print(y)"
   ]
  },
  {
   "cell_type": "code",
   "execution_count": 12,
   "metadata": {},
   "outputs": [
    {
     "name": "stdout",
     "output_type": "stream",
     "text": [
      "4525\n"
     ]
    }
   ],
   "source": [
    "print(x+y)"
   ]
  },
  {
   "cell_type": "code",
   "execution_count": 13,
   "metadata": {},
   "outputs": [
    {
     "name": "stdout",
     "output_type": "stream",
     "text": [
      "45 25\n"
     ]
    }
   ],
   "source": [
    "print(x,y)"
   ]
  },
  {
   "cell_type": "code",
   "execution_count": 19,
   "metadata": {},
   "outputs": [
    {
     "name": "stdout",
     "output_type": "stream",
     "text": [
      "Data Type of x is <class 'str'>\n",
      "Data Type of y is <class 'str'>\n",
      "Value of x is  56\n",
      "Value of y is  45\n",
      "Addition of x and y 5645\n",
      "Addition of x and y 101\n"
     ]
    }
   ],
   "source": [
    "x=input(\"Enter the number\")\n",
    "print(\"Data Type of x is\",type(x))\n",
    "y=input(\"Enter the second number\")\n",
    "print(\"Data Type of y is\",type(y))\n",
    "print(\"Value of x is \",x)\n",
    "print(\"Value of y is \",y)\n",
    "print(\"Addition of x and y\",x+y)   #concatenation of two numbers\n",
    "print(\"Addition of x and y\",int(x)+int(y))"
   ]
  },
  {
   "cell_type": "code",
   "execution_count": 17,
   "metadata": {},
   "outputs": [
    {
     "name": "stdout",
     "output_type": "stream",
     "text": [
      "Data Type of x is <class 'int'>\n",
      "Data Type of y is <class 'int'>\n",
      "Value of x is  25\n",
      "Value of y is  46\n",
      "Addition of x and y 71\n"
     ]
    }
   ],
   "source": [
    "#Type conversion: convert string data type into integer\n",
    "x=int(input(\"Enter the number\"))\n",
    "print(\"Data Type of x is\",type(x))\n",
    "y=int(input(\"Enter the second number\"))\n",
    "print(\"Data Type of y is\",type(y))\n",
    "print(\"Value of x is \",x)\n",
    "print(\"Value of y is \",y)\n",
    "print(\"Addition of x and y\",x+y)"
   ]
  },
  {
   "cell_type": "code",
   "execution_count": 18,
   "metadata": {},
   "outputs": [
    {
     "name": "stdout",
     "output_type": "stream",
     "text": [
      "Data Type of x is <class 'float'>\n",
      "Data Type of y is <class 'float'>\n",
      "Value of x is  56.58\n",
      "Value of y is  67.79\n",
      "Addition of x and y 124.37\n"
     ]
    }
   ],
   "source": [
    "#Type conversion: convert string data type into float\n",
    "x=float(input(\"Enter the number\"))\n",
    "print(\"Data Type of x is\",type(x))\n",
    "y=float(input(\"Enter the second number\"))\n",
    "print(\"Data Type of y is\",type(y))\n",
    "print(\"Value of x is \",x)\n",
    "print(\"Value of y is \",y)\n",
    "print(\"Addition of x and y\",x+y)"
   ]
  },
  {
   "cell_type": "code",
   "execution_count": 25,
   "metadata": {},
   "outputs": [
    {
     "name": "stdout",
     "output_type": "stream",
     "text": [
      "Data Type of x is <class 'complex'>\n",
      "Data Type of y is <class 'complex'>\n",
      "Value of x is  (45+7j)\n",
      "Value of y is  (8+7j)\n",
      "Addition of x and y (53+14j)\n"
     ]
    }
   ],
   "source": [
    "#Type conversion: convert string data type into complex\n",
    "x=complex(input(\"Enter the number\"))\n",
    "print(\"Data Type of x is\",type(x))\n",
    "y=complex(input(\"Enter the second number\"))\n",
    "print(\"Data Type of y is\",type(y))\n",
    "print(\"Value of x is \",x)\n",
    "print(\"Value of y is \",y)\n",
    "print(\"Addition of x and y\",x+y)"
   ]
  },
  {
   "cell_type": "code",
   "execution_count": 33,
   "metadata": {},
   "outputs": [
    {
     "name": "stdout",
     "output_type": "stream",
     "text": [
      "Data Type of x is <class 'int'>\n",
      "Data Type of y is <class 'complex'>\n",
      "Value of x is  5\n",
      "Value of y is  (1+7j)\n",
      "Addition of x and y (6+7j)\n"
     ]
    }
   ],
   "source": [
    "#convert string data type into eval\n",
    "x=eval(input(\"Enter the number\"))\n",
    "print(\"Data Type of x is\",type(x))\n",
    "y=eval(input(\"Enter the second number\"))\n",
    "print(\"Data Type of y is\",type(y))\n",
    "print(\"Value of x is \",x)\n",
    "print(\"Value of y is \",y)\n",
    "print(\"Addition of x and y\",x+y)    #string should be write in single or double quote"
   ]
  },
  {
   "cell_type": "code",
   "execution_count": 42,
   "metadata": {},
   "outputs": [
    {
     "name": "stdout",
     "output_type": "stream",
     "text": [
      "I like mango don't like banana but sometimes I like both banana and mango\n"
     ]
    }
   ],
   "source": [
    "a=\"banana\"\n",
    "b=\"mango\"\n",
    "print(f\"I like {b} don't like {a} but sometimes I like  {a+' and '+b}\")"
   ]
  },
  {
   "cell_type": "code",
   "execution_count": 43,
   "metadata": {},
   "outputs": [
    {
     "name": "stdout",
     "output_type": "stream",
     "text": [
      "We are learning {r} version {q} in {p}\n",
      "We are learning python version 3.12 in 2024\n"
     ]
    }
   ],
   "source": [
    "p=2024\n",
    "q=3.12\n",
    "r='python'\n",
    "print(\"We are learning {r} version {q} in {p}\")\n",
    "print(f\"We are learning {r} version {q} in {p}\")"
   ]
  },
  {
   "cell_type": "code",
   "execution_count": null,
   "metadata": {},
   "outputs": [],
   "source": []
  },
  {
   "cell_type": "code",
   "execution_count": null,
   "metadata": {},
   "outputs": [],
   "source": []
  }
 ],
 "metadata": {
  "kernelspec": {
   "display_name": "Python 3",
   "language": "python",
   "name": "python3"
  },
  "language_info": {
   "codemirror_mode": {
    "name": "ipython",
    "version": 3
   },
   "file_extension": ".py",
   "mimetype": "text/x-python",
   "name": "python",
   "nbconvert_exporter": "python",
   "pygments_lexer": "ipython3",
   "version": "3.12.3"
  }
 },
 "nbformat": 4,
 "nbformat_minor": 2
}
