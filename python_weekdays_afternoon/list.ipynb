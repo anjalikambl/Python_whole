{
 "cells": [
  {
   "cell_type": "code",
   "execution_count": 141,
   "metadata": {},
   "outputs": [
    {
     "name": "stdout",
     "output_type": "stream",
     "text": [
      "<class 'list'>\n"
     ]
    }
   ],
   "source": [
    "student=list()\n",
    "print(type(student))"
   ]
  },
  {
   "cell_type": "code",
   "execution_count": 142,
   "metadata": {},
   "outputs": [
    {
     "name": "stdout",
     "output_type": "stream",
     "text": [
      "<class 'list'>\n"
     ]
    }
   ],
   "source": [
    "student_name=[]\n",
    "print(type(student_name))"
   ]
  },
  {
   "cell_type": "code",
   "execution_count": 143,
   "metadata": {},
   "outputs": [
    {
     "data": {
      "text/plain": [
       "['Nilam']"
      ]
     },
     "execution_count": 143,
     "metadata": {},
     "output_type": "execute_result"
    }
   ],
   "source": [
    "student_name=[]\n",
    "#add elements into a list\n",
    "student_name.append('Nilam') # append add only single value \n",
    "student_name\n"
   ]
  },
  {
   "cell_type": "code",
   "execution_count": 144,
   "metadata": {},
   "outputs": [
    {
     "data": {
      "text/plain": [
       "['Nilam', 'Kartika', 'Anjali']"
      ]
     },
     "execution_count": 144,
     "metadata": {},
     "output_type": "execute_result"
    }
   ],
   "source": [
    "student_name=['Nilam']\n",
    "#mutable allow duplicate value\n",
    "student_name.extend(['Kartika','Anjali']) #it will add at the end of the list\n",
    "student_name"
   ]
  },
  {
   "cell_type": "code",
   "execution_count": 145,
   "metadata": {},
   "outputs": [
    {
     "data": {
      "text/plain": [
       "['Nilam', 'Kartika', 'Anjali', 'Aniket', 'Nikhil', 'Satyajeet']"
      ]
     },
     "execution_count": 145,
     "metadata": {},
     "output_type": "execute_result"
    }
   ],
   "source": [
    "student_name.extend(['Aniket','Nikhil','Satyajeet'])\n",
    "student_name"
   ]
  },
  {
   "cell_type": "code",
   "execution_count": 146,
   "metadata": {},
   "outputs": [],
   "source": [
    "student_name.insert(3,'Pragati') #to insert Pragati at 3rd position"
   ]
  },
  {
   "cell_type": "code",
   "execution_count": 147,
   "metadata": {},
   "outputs": [
    {
     "data": {
      "text/plain": [
       "['Nilam', 'Kartika', 'Anjali', 'Pragati', 'Aniket', 'Nikhil', 'Satyajeet']"
      ]
     },
     "execution_count": 147,
     "metadata": {},
     "output_type": "execute_result"
    }
   ],
   "source": [
    "student_name"
   ]
  },
  {
   "cell_type": "code",
   "execution_count": 148,
   "metadata": {},
   "outputs": [
    {
     "name": "stdout",
     "output_type": "stream",
     "text": [
      "7\n"
     ]
    }
   ],
   "source": [
    "print(len(student_name))"
   ]
  },
  {
   "cell_type": "code",
   "execution_count": 149,
   "metadata": {},
   "outputs": [],
   "source": [
    "#extend append insert + operator"
   ]
  },
  {
   "cell_type": "code",
   "execution_count": 150,
   "metadata": {},
   "outputs": [
    {
     "data": {
      "text/plain": [
       "['Nilam',\n",
       " 'Kartika',\n",
       " 'Anjali',\n",
       " 'Pragati',\n",
       " 'Aniket',\n",
       " 'Nikhil',\n",
       " 'Satyajeet',\n",
       " 'Piyush',\n",
       " 'Prathmesh',\n",
       " 'Pranoti']"
      ]
     },
     "execution_count": 150,
     "metadata": {},
     "output_type": "execute_result"
    }
   ],
   "source": [
    "student_name=student_name+['Piyush','Prathmesh','Pranoti'] #list concatenation \n",
    "student_name"
   ]
  },
  {
   "cell_type": "code",
   "execution_count": 151,
   "metadata": {},
   "outputs": [
    {
     "data": {
      "text/plain": [
       "10"
      ]
     },
     "execution_count": 151,
     "metadata": {},
     "output_type": "execute_result"
    }
   ],
   "source": [
    "len(student_name)"
   ]
  },
  {
   "cell_type": "code",
   "execution_count": 152,
   "metadata": {},
   "outputs": [
    {
     "data": {
      "text/plain": [
       "['Nilam',\n",
       " 'Kartika',\n",
       " 'Anjali',\n",
       " 'Pragati',\n",
       " 'Aniket',\n",
       " 'Nikhil',\n",
       " 'Satyajeet',\n",
       " 'Piyush',\n",
       " 'Nilesh',\n",
       " 'Pranoti']"
      ]
     },
     "execution_count": 152,
     "metadata": {},
     "output_type": "execute_result"
    }
   ],
   "source": [
    "#change element values or update an element edit list element using update function\n",
    "\n",
    "student_name[-2]='Nilesh' #we assign nilesh to 8th position of list\n",
    "student_name"
   ]
  },
  {
   "cell_type": "code",
   "execution_count": 153,
   "metadata": {},
   "outputs": [
    {
     "data": {
      "text/plain": [
       "8"
      ]
     },
     "execution_count": 153,
     "metadata": {},
     "output_type": "execute_result"
    }
   ],
   "source": [
    "student_name.index('Nilesh')#to find out index value"
   ]
  },
  {
   "cell_type": "code",
   "execution_count": 154,
   "metadata": {},
   "outputs": [
    {
     "name": "stdout",
     "output_type": "stream",
     "text": [
      "['Nilam', 'Kartika', 'Anjali', 'Pragati', 'Aniket', 'Nikhil', 'Satyajeet', 'Piyush', 'Nilesh', 'Pranoti']\n"
     ]
    }
   ],
   "source": [
    "print(student_name)"
   ]
  },
  {
   "cell_type": "code",
   "execution_count": 155,
   "metadata": {},
   "outputs": [
    {
     "data": {
      "text/plain": [
       "5"
      ]
     },
     "execution_count": 155,
     "metadata": {},
     "output_type": "execute_result"
    }
   ],
   "source": [
    "student_name.index('Nikhil')"
   ]
  },
  {
   "cell_type": "code",
   "execution_count": 156,
   "metadata": {},
   "outputs": [],
   "source": [
    "student_name[5]='Anushka'"
   ]
  },
  {
   "cell_type": "code",
   "execution_count": 157,
   "metadata": {},
   "outputs": [
    {
     "name": "stdout",
     "output_type": "stream",
     "text": [
      "['Nilam', 'Kartika', 'Anjali', 'Pragati', 'Aniket', 'Anushka', 'Satyajeet', 'Piyush', 'Nilesh', 'Pranoti']\n"
     ]
    }
   ],
   "source": [
    "print(student_name)"
   ]
  },
  {
   "cell_type": "code",
   "execution_count": 158,
   "metadata": {},
   "outputs": [
    {
     "name": "stdout",
     "output_type": "stream",
     "text": [
      "['Nilam', 'Kartika', 'Anjali', 'Pragati', 'Aniket', 'Anushka', 'Ganesh', 'Vijay', 'Khan', 'Pranoti']\n"
     ]
    }
   ],
   "source": [
    "student_name[6:9]=['Ganesh','Vijay','Khan']\n",
    "print(student_name)"
   ]
  },
  {
   "cell_type": "code",
   "execution_count": null,
   "metadata": {},
   "outputs": [],
   "source": []
  },
  {
   "cell_type": "code",
   "execution_count": null,
   "metadata": {},
   "outputs": [],
   "source": []
  },
  {
   "cell_type": "code",
   "execution_count": 159,
   "metadata": {},
   "outputs": [
    {
     "data": {
      "text/plain": [
       "['Nilam',\n",
       " 'Kartika',\n",
       " 'Anjali',\n",
       " 'Pragati',\n",
       " 'Aniket',\n",
       " 'Anushka',\n",
       " 'Ganesh',\n",
       " 'Vijay',\n",
       " 'Khan',\n",
       " 'Pranoti']"
      ]
     },
     "execution_count": 159,
     "metadata": {},
     "output_type": "execute_result"
    }
   ],
   "source": [
    "student_name"
   ]
  },
  {
   "cell_type": "code",
   "execution_count": 160,
   "metadata": {},
   "outputs": [
    {
     "data": {
      "text/plain": [
       "<function list.reverse()>"
      ]
     },
     "execution_count": 160,
     "metadata": {},
     "output_type": "execute_result"
    }
   ],
   "source": [
    "student_name.reverse"
   ]
  },
  {
   "cell_type": "code",
   "execution_count": 161,
   "metadata": {},
   "outputs": [],
   "source": [
    "temp=student_name[0]\n",
    "student_name[0]=student_name[-1]          #swapping\n",
    "student_name[-1]=temp"
   ]
  },
  {
   "cell_type": "code",
   "execution_count": 162,
   "metadata": {},
   "outputs": [
    {
     "data": {
      "text/plain": [
       "['Pranoti',\n",
       " 'Kartika',\n",
       " 'Anjali',\n",
       " 'Pragati',\n",
       " 'Aniket',\n",
       " 'Anushka',\n",
       " 'Ganesh',\n",
       " 'Vijay',\n",
       " 'Khan',\n",
       " 'Nilam']"
      ]
     },
     "execution_count": 162,
     "metadata": {},
     "output_type": "execute_result"
    }
   ],
   "source": [
    "student_name"
   ]
  },
  {
   "cell_type": "code",
   "execution_count": 163,
   "metadata": {},
   "outputs": [
    {
     "data": {
      "text/plain": [
       "['Pranoti',\n",
       " 'Kartika',\n",
       " 'Anjali',\n",
       " 'Pragati',\n",
       " 'Aniket',\n",
       " 'Anushka',\n",
       " 'Ganesh',\n",
       " 'Vijay',\n",
       " 'Khan',\n",
       " 'Nilam']"
      ]
     },
     "execution_count": 163,
     "metadata": {},
     "output_type": "execute_result"
    }
   ],
   "source": [
    "student_name[::]"
   ]
  },
  {
   "cell_type": "code",
   "execution_count": 164,
   "metadata": {},
   "outputs": [
    {
     "data": {
      "text/plain": [
       "['Nilam',\n",
       " 'Khan',\n",
       " 'Vijay',\n",
       " 'Ganesh',\n",
       " 'Anushka',\n",
       " 'Aniket',\n",
       " 'Pragati',\n",
       " 'Anjali',\n",
       " 'Kartika',\n",
       " 'Pranoti']"
      ]
     },
     "execution_count": 164,
     "metadata": {},
     "output_type": "execute_result"
    }
   ],
   "source": [
    "#list reversing\n",
    "student_name[::-1]"
   ]
  },
  {
   "cell_type": "code",
   "execution_count": 165,
   "metadata": {},
   "outputs": [
    {
     "name": "stdout",
     "output_type": "stream",
     "text": [
      "['Pranoti', 'Kartika', 'Anjali', 'Pragati', 'Aniket', 'Anushka', 'Ganesh', 'Vijay', 'Khan', 'Nilam']\n",
      "['Pranoti', 'Anjali', 'Aniket', 'Ganesh', 'Khan']\n"
     ]
    }
   ],
   "source": [
    "print(student_name)\n",
    "print(student_name[::2])"
   ]
  },
  {
   "cell_type": "code",
   "execution_count": 166,
   "metadata": {},
   "outputs": [
    {
     "name": "stdout",
     "output_type": "stream",
     "text": [
      "['Kartika', 'Pragati', 'Anushka', 'Vijay', 'Nilam']\n"
     ]
    }
   ],
   "source": [
    "print(student_name[1::2])"
   ]
  },
  {
   "cell_type": "code",
   "execution_count": 167,
   "metadata": {},
   "outputs": [
    {
     "name": "stdout",
     "output_type": "stream",
     "text": [
      "['Nilam', 'Khan', 'Vijay', 'Ganesh', 'Anushka', 'Aniket', 'Pragati', 'Anjali', 'Kartika', 'Pranoti']\n"
     ]
    }
   ],
   "source": [
    "student_name.reverse() #[::-1]\n",
    "print(student_name)"
   ]
  },
  {
   "cell_type": "code",
   "execution_count": 168,
   "metadata": {},
   "outputs": [
    {
     "data": {
      "text/plain": [
       "['Nilam',\n",
       " 'Khan',\n",
       " 'Vijay',\n",
       " 'Ganesh',\n",
       " 'Anushka',\n",
       " 'Aniket',\n",
       " 'Pragati',\n",
       " 'Anjali',\n",
       " 'Kartika',\n",
       " 'Pranoti']"
      ]
     },
     "execution_count": 168,
     "metadata": {},
     "output_type": "execute_result"
    }
   ],
   "source": [
    "student_name"
   ]
  },
  {
   "cell_type": "markdown",
   "metadata": {},
   "source": [
    "### [ : : -1] is equivalent to reverse()"
   ]
  },
  {
   "cell_type": "code",
   "execution_count": 169,
   "metadata": {},
   "outputs": [
    {
     "data": {
      "text/plain": [
       "['Nilam',\n",
       " 'Khan',\n",
       " 'Vijay',\n",
       " 'Ganesh',\n",
       " 'Anushka',\n",
       " 'Aniket',\n",
       " 'Pragati',\n",
       " 'Anjali',\n",
       " 'Kartika',\n",
       " 'Pranoti']"
      ]
     },
     "execution_count": 169,
     "metadata": {},
     "output_type": "execute_result"
    }
   ],
   "source": [
    "student_name"
   ]
  },
  {
   "cell_type": "code",
   "execution_count": 170,
   "metadata": {},
   "outputs": [
    {
     "data": {
      "text/plain": [
       "'Pranoti'"
      ]
     },
     "execution_count": 170,
     "metadata": {},
     "output_type": "execute_result"
    }
   ],
   "source": [
    "#Delete element from a given list\n",
    "\n",
    "student_name.pop()"
   ]
  },
  {
   "cell_type": "code",
   "execution_count": 171,
   "metadata": {},
   "outputs": [
    {
     "data": {
      "text/plain": [
       "['Nilam',\n",
       " 'Khan',\n",
       " 'Vijay',\n",
       " 'Ganesh',\n",
       " 'Anushka',\n",
       " 'Aniket',\n",
       " 'Pragati',\n",
       " 'Anjali',\n",
       " 'Kartika']"
      ]
     },
     "execution_count": 171,
     "metadata": {},
     "output_type": "execute_result"
    }
   ],
   "source": [
    "student_name"
   ]
  },
  {
   "cell_type": "code",
   "execution_count": 172,
   "metadata": {},
   "outputs": [
    {
     "data": {
      "text/plain": [
       "['Nilam', 'Khan', 'Vijay', 'Anushka', 'Aniket', 'Pragati', 'Anjali', 'Kartika']"
      ]
     },
     "execution_count": 172,
     "metadata": {},
     "output_type": "execute_result"
    }
   ],
   "source": [
    "student_name.remove('Ganesh')\n",
    "student_name"
   ]
  },
  {
   "cell_type": "code",
   "execution_count": 173,
   "metadata": {},
   "outputs": [
    {
     "name": "stdout",
     "output_type": "stream",
     "text": [
      "140711416571416\n"
     ]
    }
   ],
   "source": [
    "x=100\n",
    "print(id(x))"
   ]
  },
  {
   "cell_type": "code",
   "execution_count": 174,
   "metadata": {},
   "outputs": [
    {
     "name": "stdout",
     "output_type": "stream",
     "text": [
      "140711416571416\n"
     ]
    }
   ],
   "source": [
    "y=100\n",
    "print(id(y))"
   ]
  },
  {
   "cell_type": "code",
   "execution_count": 175,
   "metadata": {},
   "outputs": [
    {
     "name": "stdout",
     "output_type": "stream",
     "text": [
      "x= 140711416571416 y= 140711416571416\n",
      "x= 100 y= 100\n",
      "200 100\n",
      "140711416574616 140711416571416\n"
     ]
    }
   ],
   "source": [
    "x=100\n",
    "y=x #assignment operator both variables having same memory address\n",
    "print('x=',id(x),'y=',id(y))\n",
    "print('x=',x,'y=',y)\n",
    "x=x+y\n",
    "x\n",
    "print(x,y)\n",
    "print(id(x),id(y))"
   ]
  },
  {
   "cell_type": "code",
   "execution_count": 176,
   "metadata": {},
   "outputs": [
    {
     "name": "stdout",
     "output_type": "stream",
     "text": [
      "original list [11, 22, 33, 44, 55]\n",
      "copied_list [11, 22, 33, 44, 55]\n",
      "Id of original list 1907938375936\n",
      "Id of copied list 1907938375936\n",
      "After list updation\n",
      "1907938375936\n",
      "[11, 22, 33, 44, 55, '66']\n",
      "[11, 22, 33, 44, 55, '66']\n"
     ]
    }
   ],
   "source": [
    "original_list=[11,22,33,44,55]\n",
    "copied_list=original_list\n",
    "print(\"original list\",original_list)\n",
    "print(\"copied_list\",copied_list)\n",
    "print(\"Id of original list\",id(original_list))\n",
    "print(\"Id of copied list\",id(copied_list))\n",
    "original_list.append('66')\n",
    "print('After list updation')\n",
    "print(id(original_list))\n",
    "print(original_list)\n",
    "print(copied_list)"
   ]
  },
  {
   "cell_type": "code",
   "execution_count": 177,
   "metadata": {},
   "outputs": [
    {
     "name": "stdout",
     "output_type": "stream",
     "text": [
      "original list [11, 22, 33, 44, 55]\n",
      "copied_list [11, 22, 33, 44, 55]\n",
      "Id of original list 1907938134784\n",
      "Id of copied list 1907932027520\n",
      "After list updation\n",
      "1907938134784\n",
      "[11, 22, 33, 44, 55, '66']\n",
      "[11, 22, 33, 44, 55]\n"
     ]
    }
   ],
   "source": [
    "original_list=[11,22,33,44,55]\n",
    "copied_list=original_list.copy() #deep copy has different memory address\n",
    "print(\"original list\",original_list)\n",
    "print(\"copied_list\",copied_list)\n",
    "print(\"Id of original list\",id(original_list))\n",
    "print(\"Id of copied list\",id(copied_list))\n",
    "original_list.append('66')\n",
    "print('After list updation')\n",
    "print(id(original_list))\n",
    "print(original_list)\n",
    "print(copied_list)"
   ]
  },
  {
   "cell_type": "code",
   "execution_count": 178,
   "metadata": {},
   "outputs": [
    {
     "data": {
      "text/plain": [
       "1"
      ]
     },
     "execution_count": 178,
     "metadata": {},
     "output_type": "execute_result"
    }
   ],
   "source": [
    "student_name.count('Nilam')"
   ]
  },
  {
   "cell_type": "code",
   "execution_count": 179,
   "metadata": {},
   "outputs": [
    {
     "data": {
      "text/plain": [
       "Counter({'Nilam': 1,\n",
       "         'Khan': 1,\n",
       "         'Vijay': 1,\n",
       "         'Anushka': 1,\n",
       "         'Aniket': 1,\n",
       "         'Pragati': 1,\n",
       "         'Anjali': 1,\n",
       "         'Kartika': 1})"
      ]
     },
     "execution_count": 179,
     "metadata": {},
     "output_type": "execute_result"
    }
   ],
   "source": [
    "from collections import Counter\n",
    "\n",
    "Counter(student_name)"
   ]
  },
  {
   "cell_type": "code",
   "execution_count": 180,
   "metadata": {},
   "outputs": [
    {
     "data": {
      "text/plain": [
       "['Aniket', 'Anjali', 'Anushka', 'Kartika', 'Khan', 'Nilam', 'Pragati', 'Vijay']"
      ]
     },
     "execution_count": 180,
     "metadata": {},
     "output_type": "execute_result"
    }
   ],
   "source": [
    "student_name.sort()\n",
    "student_name"
   ]
  },
  {
   "cell_type": "code",
   "execution_count": 181,
   "metadata": {},
   "outputs": [
    {
     "data": {
      "text/plain": [
       "['Aniket',\n",
       " 'Anjali',\n",
       " 'Anushka',\n",
       " 'Kartika',\n",
       " 'Khan',\n",
       " 'Nilam',\n",
       " 'Pragati',\n",
       " 'Vijay',\n",
       " 'gaurav',\n",
       " 'nilesh']"
      ]
     },
     "execution_count": 181,
     "metadata": {},
     "output_type": "execute_result"
    }
   ],
   "source": [
    "student_name.extend(['gaurav','nilesh'])\n",
    "student_name"
   ]
  },
  {
   "cell_type": "code",
   "execution_count": 182,
   "metadata": {},
   "outputs": [
    {
     "data": {
      "text/plain": [
       "['Aniket',\n",
       " 'Anjali',\n",
       " 'Anushka',\n",
       " 'Kartika',\n",
       " 'Khan',\n",
       " 'Nilam',\n",
       " 'Pragati',\n",
       " 'Vijay',\n",
       " 'gaurav',\n",
       " 'nilesh',\n",
       " 'Nikhil']"
      ]
     },
     "execution_count": 182,
     "metadata": {},
     "output_type": "execute_result"
    }
   ],
   "source": [
    "student_name.append('Nikhil')\n",
    "student_name"
   ]
  },
  {
   "cell_type": "code",
   "execution_count": 183,
   "metadata": {},
   "outputs": [
    {
     "data": {
      "text/plain": [
       "['Aniket',\n",
       " 'Anjali',\n",
       " 'Anushka',\n",
       " 'Kartika',\n",
       " 'Khan',\n",
       " 'Nikhil',\n",
       " 'Nilam',\n",
       " 'Pragati',\n",
       " 'Vijay',\n",
       " 'gaurav',\n",
       " 'nilesh']"
      ]
     },
     "execution_count": 183,
     "metadata": {},
     "output_type": "execute_result"
    }
   ],
   "source": [
    "student_name.sort() #ascending order sorting\n",
    "student_name"
   ]
  },
  {
   "cell_type": "markdown",
   "metadata": {},
   "source": [
    "##### ASCII American standard code information interchange  int numbers "
   ]
  },
  {
   "cell_type": "code",
   "execution_count": 186,
   "metadata": {},
   "outputs": [
    {
     "data": {
      "text/plain": [
       "65"
      ]
     },
     "execution_count": 186,
     "metadata": {},
     "output_type": "execute_result"
    }
   ],
   "source": [
    "ord('A') #ord function is used to check ASCII value of any character"
   ]
  },
  {
   "cell_type": "code",
   "execution_count": 187,
   "metadata": {},
   "outputs": [
    {
     "data": {
      "text/plain": [
       "90"
      ]
     },
     "execution_count": 187,
     "metadata": {},
     "output_type": "execute_result"
    }
   ],
   "source": [
    "ord('Z')"
   ]
  },
  {
   "cell_type": "code",
   "execution_count": 189,
   "metadata": {},
   "outputs": [
    {
     "data": {
      "text/plain": [
       "97"
      ]
     },
     "execution_count": 189,
     "metadata": {},
     "output_type": "execute_result"
    }
   ],
   "source": [
    "ord('a')"
   ]
  },
  {
   "cell_type": "code",
   "execution_count": 190,
   "metadata": {},
   "outputs": [
    {
     "data": {
      "text/plain": [
       "122"
      ]
     },
     "execution_count": 190,
     "metadata": {},
     "output_type": "execute_result"
    }
   ],
   "source": [
    "ord('z')"
   ]
  },
  {
   "cell_type": "code",
   "execution_count": 195,
   "metadata": {},
   "outputs": [
    {
     "data": {
      "text/plain": [
       "(48, 57)"
      ]
     },
     "execution_count": 195,
     "metadata": {},
     "output_type": "execute_result"
    }
   ],
   "source": [
    "ord('0'),ord('9')"
   ]
  },
  {
   "cell_type": "code",
   "execution_count": 197,
   "metadata": {},
   "outputs": [
    {
     "data": {
      "text/plain": [
       "123"
      ]
     },
     "execution_count": 197,
     "metadata": {},
     "output_type": "execute_result"
    }
   ],
   "source": [
    "ord('{')"
   ]
  },
  {
   "cell_type": "code",
   "execution_count": 201,
   "metadata": {},
   "outputs": [
    {
     "data": {
      "text/plain": [
       "'\\x00'"
      ]
     },
     "execution_count": 201,
     "metadata": {},
     "output_type": "execute_result"
    }
   ],
   "source": [
    "#chr() is used to check the character ascii value\n",
    "chr(0)"
   ]
  },
  {
   "cell_type": "code",
   "execution_count": 204,
   "metadata": {},
   "outputs": [
    {
     "name": "stdout",
     "output_type": "stream",
     "text": [
      "None\n",
      "[89, 69, 67, 54, 23, 1]\n"
     ]
    }
   ],
   "source": [
    "value=[1,67,23,89,54,69]\n",
    "print(value.sort(reverse=True))\n",
    "print(value)"
   ]
  },
  {
   "cell_type": "code",
   "execution_count": 207,
   "metadata": {},
   "outputs": [],
   "source": [
    "#append extend insert copy sort reverse count remove pop clear index "
   ]
  },
  {
   "cell_type": "code",
   "execution_count": null,
   "metadata": {},
   "outputs": [],
   "source": []
  }
 ],
 "metadata": {
  "kernelspec": {
   "display_name": "Python 3 (ipykernel)",
   "language": "python",
   "name": "python3"
  },
  "language_info": {
   "codemirror_mode": {
    "name": "ipython",
    "version": 3
   },
   "file_extension": ".py",
   "mimetype": "text/x-python",
   "name": "python",
   "nbconvert_exporter": "python",
   "pygments_lexer": "ipython3",
   "version": "3.12.3"
  }
 },
 "nbformat": 4,
 "nbformat_minor": 2
}
