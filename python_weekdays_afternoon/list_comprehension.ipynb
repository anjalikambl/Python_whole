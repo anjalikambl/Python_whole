{
 "cells": [
  {
   "cell_type": "code",
   "execution_count": 1,
   "metadata": {},
   "outputs": [
    {
     "data": {
      "text/plain": [
       "['w', 'e', 'l', 'c', 'o', 'm', 'e']"
      ]
     },
     "execution_count": 1,
     "metadata": {},
     "output_type": "execute_result"
    }
   ],
   "source": [
    "[i for i in 'welcome']"
   ]
  },
  {
   "cell_type": "code",
   "execution_count": 2,
   "metadata": {},
   "outputs": [
    {
     "data": {
      "text/plain": [
       "[34, 56, 78, 34, 78, 21]"
      ]
     },
     "execution_count": 2,
     "metadata": {},
     "output_type": "execute_result"
    }
   ],
   "source": [
    "nums=[34,56,78,-90,34,-20,78,21]\n",
    "[i for i in nums if i>0]"
   ]
  },
  {
   "cell_type": "code",
   "execution_count": 3,
   "metadata": {},
   "outputs": [
    {
     "data": {
      "text/plain": [
       "[-90, -20]"
      ]
     },
     "execution_count": 3,
     "metadata": {},
     "output_type": "execute_result"
    }
   ],
   "source": [
    "nums=[34,56,78,-90,34,-20,78,21]\n",
    "[i for i in nums if i<0]"
   ]
  },
  {
   "cell_type": "code",
   "execution_count": 5,
   "metadata": {},
   "outputs": [
    {
     "data": {
      "text/plain": [
       "['Anjali', 'Pooja', 'Bhakti', 'Susmita']"
      ]
     },
     "execution_count": 5,
     "metadata": {},
     "output_type": "execute_result"
    }
   ],
   "source": [
    "names=['Anjali','pooja','bhakti','susmita']\n",
    "[i.title() for i in names]"
   ]
  },
  {
   "cell_type": "code",
   "execution_count": 8,
   "metadata": {},
   "outputs": [
    {
     "data": {
      "text/plain": [
       "['apple', 'banana', 'mango', 'grapes']"
      ]
     },
     "execution_count": 8,
     "metadata": {},
     "output_type": "execute_result"
    }
   ],
   "source": [
    "fruits=['apple','banana','pineapple','grapes']\n",
    "[i.replace('pineapple','mango') for i in fruits ]"
   ]
  },
  {
   "cell_type": "code",
   "execution_count": 16,
   "metadata": {},
   "outputs": [
    {
     "name": "stdout",
     "output_type": "stream",
     "text": [
      "22\n"
     ]
    }
   ],
   "source": [
    "#addition of digits 5+6+4+7\n",
    "\n",
    "sample=['nil5esh','ani6ket','gaur4av','satya7jit']\n",
    "s=0\n",
    "for i in sample:\n",
    "    for j in i:\n",
    "        if(j.isdigit()):\n",
    "            s=s+int(j)\n",
    "print(s)"
   ]
  },
  {
   "cell_type": "code",
   "execution_count": 2,
   "metadata": {},
   "outputs": [
    {
     "data": {
      "text/plain": [
       "22"
      ]
     },
     "execution_count": 2,
     "metadata": {},
     "output_type": "execute_result"
    }
   ],
   "source": [
    "sample=['nil5esh','ani6ket','gaur4av','satya7jit']\n",
    "sum_of_digits=[int(j) for i in sample for j in i if(j.isdigit())]\n",
    "sum(sum_of_digits)"
   ]
  },
  {
   "cell_type": "code",
   "execution_count": 21,
   "metadata": {},
   "outputs": [
    {
     "data": {
      "text/plain": [
       "'hello'"
      ]
     },
     "execution_count": 21,
     "metadata": {},
     "output_type": "execute_result"
    }
   ],
   "source": [
    "x=20\n",
    "'hello' if x%2==0 else 'bye'"
   ]
  },
  {
   "cell_type": "code",
   "execution_count": 23,
   "metadata": {},
   "outputs": [
    {
     "data": {
      "text/plain": [
       "['odd:27', 'odd:65', 'even:44', 'even:34', 'odd:41', 'odd:51', 'odd:37']"
      ]
     },
     "execution_count": 23,
     "metadata": {},
     "output_type": "execute_result"
    }
   ],
   "source": [
    "#to sort even and odd numbers from list\n",
    "num=[27,65,44,34,41,51,37]\n",
    "[f'even:{i}' if(i%2==0) else f'odd:{i}' for i in num]"
   ]
  },
  {
   "cell_type": "code",
   "execution_count": 3,
   "metadata": {},
   "outputs": [
    {
     "data": {
      "text/plain": [
       "[60, 80, 100, 120]"
      ]
     },
     "execution_count": 3,
     "metadata": {},
     "output_type": "execute_result"
    }
   ],
   "source": [
    "x=[10,20,30,40]\n",
    "y=[50,60,70,80]\n",
    "[i+j for i,j in zip(x,y)]"
   ]
  },
  {
   "cell_type": "code",
   "execution_count": 27,
   "metadata": {},
   "outputs": [
    {
     "name": "stdout",
     "output_type": "stream",
     "text": [
      "<str_ascii_iterator object at 0x000001AADCA0F970>\n",
      "<class 'str_ascii_iterator'>\n",
      "h\n",
      "a\n",
      "p\n",
      "p\n",
      "y\n"
     ]
    },
    {
     "ename": "StopIteration",
     "evalue": "",
     "output_type": "error",
     "traceback": [
      "\u001b[1;31m---------------------------------------------------------------------------\u001b[0m",
      "\u001b[1;31mStopIteration\u001b[0m                             Traceback (most recent call last)",
      "Cell \u001b[1;32mIn[27], line 11\u001b[0m\n\u001b[0;32m      9\u001b[0m \u001b[38;5;28mprint\u001b[39m(\u001b[38;5;28mnext\u001b[39m(i1))\n\u001b[0;32m     10\u001b[0m \u001b[38;5;28mprint\u001b[39m(\u001b[38;5;28mnext\u001b[39m(i1))\n\u001b[1;32m---> 11\u001b[0m \u001b[38;5;28mprint\u001b[39m(\u001b[38;5;28;43mnext\u001b[39;49m\u001b[43m(\u001b[49m\u001b[43mi1\u001b[49m\u001b[43m)\u001b[49m)\n",
      "\u001b[1;31mStopIteration\u001b[0m: "
     ]
    }
   ],
   "source": [
    "#iterator=>to access single element at a time\n",
    "x='happy'\n",
    "i1=iter(x)\n",
    "print(i1)\n",
    "print(type(i1))\n",
    "print(next(i1))\n",
    "print(next(i1))\n",
    "print(next(i1))\n",
    "print(next(i1))\n",
    "print(next(i1))\n",
    "print(next(i1))"
   ]
  },
  {
   "cell_type": "code",
   "execution_count": 28,
   "metadata": {},
   "outputs": [
    {
     "name": "stdout",
     "output_type": "stream",
     "text": [
      "<enumerate object at 0x000001AADC91AC00>\n",
      "<class 'enumerate'>\n",
      "(0, 'H')\n",
      "(1, 'a')\n",
      "(2, 'p')\n",
      "(3, 'p')\n",
      "(4, 'y')\n"
     ]
    }
   ],
   "source": [
    "x='Happy'\n",
    "e1=enumerate(x)\n",
    "print(e1)\n",
    "print(type(e1))\n",
    "print(next(e1))\n",
    "print(next(e1))\n",
    "print(next(e1))\n",
    "print(next(e1))\n",
    "print(next(e1))"
   ]
  },
  {
   "cell_type": "code",
   "execution_count": 29,
   "metadata": {},
   "outputs": [
    {
     "name": "stdout",
     "output_type": "stream",
     "text": [
      "0 H\n",
      "1 a\n",
      "2 p\n",
      "3 p\n",
      "4 y\n"
     ]
    }
   ],
   "source": [
    "for i,j in enumerate(x):\n",
    "    print(i,j)"
   ]
  },
  {
   "cell_type": "code",
   "execution_count": null,
   "metadata": {},
   "outputs": [],
   "source": [
    "#yashvant kanetkar "
   ]
  },
  {
   "cell_type": "code",
   "execution_count": 32,
   "metadata": {},
   "outputs": [
    {
     "name": "stdout",
     "output_type": "stream",
     "text": [
      "<reversed object at 0x000001AADC832AD0>\n",
      "<class 'reversed'>\n",
      "y\n",
      "p\n",
      "p\n",
      "a\n",
      "H\n"
     ]
    }
   ],
   "source": [
    "x='Happy'\n",
    "e1=reversed(x)\n",
    "print(e1)\n",
    "print(type(e1))\n",
    "print(next(e1))\n",
    "print(next(e1))\n",
    "print(next(e1))\n",
    "print(next(e1))\n",
    "print(next(e1))"
   ]
  },
  {
   "cell_type": "code",
   "execution_count": null,
   "metadata": {},
   "outputs": [],
   "source": [
    "#next enumerate iter reversed"
   ]
  },
  {
   "cell_type": "code",
   "execution_count": 6,
   "metadata": {},
   "outputs": [
    {
     "name": "stdout",
     "output_type": "stream",
     "text": [
      "lucky number is 6\n"
     ]
    }
   ],
   "source": [
    "#to find lucky number of birthdate\n",
    "bd='31/10/1999'\n",
    "s=0\n",
    "total=sum(int(i) for i in bd if (i.isdigit()))\n",
    "total\n",
    "while total>9:\n",
    "    total=sum(int(i) for i in str(total))\n",
    "print(f'lucky number is {total}')"
   ]
  },
  {
   "cell_type": "code",
   "execution_count": 6,
   "metadata": {},
   "outputs": [
    {
     "name": "stdout",
     "output_type": "stream",
     "text": [
      "33\n",
      "6\n"
     ]
    }
   ],
   "source": [
    "s=0\n",
    "for i in '31/10/1999':\n",
    "    if i.isdigit():\n",
    "        s=s+int(i)\n",
    "t=0\n",
    "for i in str(s):\n",
    "    t=t+int(i)\n",
    "print(s)\n",
    "print(t)"
   ]
  },
  {
   "cell_type": "code",
   "execution_count": 8,
   "metadata": {},
   "outputs": [
    {
     "name": "stdout",
     "output_type": "stream",
     "text": [
      "lucky number 6\n",
      "lucky number 5\n",
      "you are in danger zone\n"
     ]
    }
   ],
   "source": [
    "birthdate='31/10/1999'\n",
    "\n",
    "total=sum(int(i) for i in birthdate if i.isdigit())\n",
    "while total>9:\n",
    "    total=sum(int(i) for i in str(total))\n",
    "print('lucky number',total)\n",
    "vehicalno='MH1233455'\n",
    "\n",
    "total1=sum(int(i) for i in vehicalno if i.isdigit())\n",
    "while total1>9:\n",
    "    total1=sum(int(i) for i in str(total1))\n",
    "print('lucky number',total1)\n",
    "if total==total1:\n",
    "    print('You are in safe zone')\n",
    "else:\n",
    "    print('you are in danger zone')"
   ]
  }
 ],
 "metadata": {
  "kernelspec": {
   "display_name": "Python 3 (ipykernel)",
   "language": "python",
   "name": "python3"
  },
  "language_info": {
   "codemirror_mode": {
    "name": "ipython",
    "version": 3
   },
   "file_extension": ".py",
   "mimetype": "text/x-python",
   "name": "python",
   "nbconvert_exporter": "python",
   "pygments_lexer": "ipython3",
   "version": "3.12.3"
  }
 },
 "nbformat": 4,
 "nbformat_minor": 2
}
