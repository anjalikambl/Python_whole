{
 "cells": [
  {
   "cell_type": "code",
   "execution_count": 20,
   "metadata": {},
   "outputs": [],
   "source": [
    "#to display the square of numbers of a given list"
   ]
  },
  {
   "cell_type": "code",
   "execution_count": 32,
   "metadata": {},
   "outputs": [
    {
     "name": "stdout",
     "output_type": "stream",
     "text": [
      "List numbers are [36, 2, 27, 30, 0]\n",
      "Final result [1296, 4, 729, 900, 0]\n"
     ]
    }
   ],
   "source": [
    "import random\n",
    "random.seed(10)\n",
    "numbers=random.sample(range(50),k=5)\n",
    "print('List numbers are',numbers)\n",
    "square_numbers=[]\n",
    "def squares(x):\n",
    "    for i in x:\n",
    "        square_numbers.append(i*i)\n",
    "squares(numbers)\n",
    "print('Final result',square_numbers)\n"
   ]
  },
  {
   "cell_type": "code",
   "execution_count": 39,
   "metadata": {},
   "outputs": [
    {
     "name": "stdout",
     "output_type": "stream",
     "text": [
      "List numbers are [26, 18, 43, 16, 29]\n"
     ]
    },
    {
     "data": {
      "text/plain": [
       "[676, 324, 1849, 256, 841]"
      ]
     },
     "execution_count": 39,
     "metadata": {},
     "output_type": "execute_result"
    }
   ],
   "source": [
    "import random\n",
    "numbers=random.sample(range(50),k=5)\n",
    "print('List numbers are',numbers)\n",
    "def square(x):\n",
    "    return x*x\n",
    "list(map(square,numbers))\n"
   ]
  },
  {
   "cell_type": "code",
   "execution_count": 40,
   "metadata": {},
   "outputs": [
    {
     "name": "stdout",
     "output_type": "stream",
     "text": [
      "List numbers are [11, 43, 19, 42, 23]\n"
     ]
    },
    {
     "data": {
      "text/plain": [
       "[121, 1849, 361, 1764, 529]"
      ]
     },
     "execution_count": 40,
     "metadata": {},
     "output_type": "execute_result"
    }
   ],
   "source": [
    "import random\n",
    "numbers=random.sample(range(50),k=5)\n",
    "print('List numbers are',numbers)\n",
    "\n",
    "list(map(lambda x: x*x,numbers))\n"
   ]
  },
  {
   "cell_type": "code",
   "execution_count": 41,
   "metadata": {},
   "outputs": [
    {
     "data": {
      "text/plain": [
       "['A', 'n', 'j', 'a', 'l', 'i']"
      ]
     },
     "execution_count": 41,
     "metadata": {},
     "output_type": "execute_result"
    }
   ],
   "source": [
    "name='Anjali'\n",
    "list(map(lambda x:x, name))"
   ]
  },
  {
   "cell_type": "code",
   "execution_count": 45,
   "metadata": {},
   "outputs": [
    {
     "data": {
      "text/plain": [
       "['i', 'l', 'a', 'j', 'n', 'A']"
      ]
     },
     "execution_count": 45,
     "metadata": {},
     "output_type": "execute_result"
    }
   ],
   "source": [
    "name='Anjali'\n",
    "list(map(lambda x:x, name))[::-1]"
   ]
  },
  {
   "cell_type": "code",
   "execution_count": 48,
   "metadata": {},
   "outputs": [
    {
     "data": {
      "text/plain": [
       "['i', 'l', 'a', 'j', 'n', 'A']"
      ]
     },
     "execution_count": 48,
     "metadata": {},
     "output_type": "execute_result"
    }
   ],
   "source": [
    "name='Anjali'\n",
    "list(map(lambda x:x, name[::-1]))"
   ]
  },
  {
   "cell_type": "code",
   "execution_count": 51,
   "metadata": {},
   "outputs": [
    {
     "data": {
      "text/plain": [
       "['A', 'a', 'i', 'j', 'l', 'n']"
      ]
     },
     "execution_count": 51,
     "metadata": {},
     "output_type": "execute_result"
    }
   ],
   "source": [
    "name='Anjali'\n",
    "list(map(lambda x:x, sorted(name)))"
   ]
  },
  {
   "cell_type": "code",
   "execution_count": 55,
   "metadata": {},
   "outputs": [
    {
     "data": {
      "text/plain": [
       "['kehsihbA', 'akitraK', 'akhsunA', 'hseliN']"
      ]
     },
     "execution_count": 55,
     "metadata": {},
     "output_type": "execute_result"
    }
   ],
   "source": [
    "name_list=['Abhishek','Kartika','Anushka','Nilesh']\n",
    "list(map(lambda x: x[::-1],name_list))"
   ]
  },
  {
   "cell_type": "code",
   "execution_count": 58,
   "metadata": {},
   "outputs": [
    {
     "data": {
      "text/plain": [
       "['ABHISHEK', 'KARTIKA', 'ANUSHKA', 'NILESH']"
      ]
     },
     "execution_count": 58,
     "metadata": {},
     "output_type": "execute_result"
    }
   ],
   "source": [
    "name_list=['Abhishek','Kartika','Anushka','Nilesh']\n",
    "list(map(lambda x: x.upper(),name_list))"
   ]
  },
  {
   "cell_type": "code",
   "execution_count": 87,
   "metadata": {},
   "outputs": [
    {
     "data": {
      "text/plain": [
       "['s', 'i', 'h', 'e']"
      ]
     },
     "execution_count": 87,
     "metadata": {},
     "output_type": "execute_result"
    }
   ],
   "source": [
    "#name_list=['Abhishek','Kartika','Anushka','Nilesh']\n",
    "#list(map(lambda x: x[round(len(x)/2)],name_list))"
   ]
  },
  {
   "cell_type": "code",
   "execution_count": 88,
   "metadata": {},
   "outputs": [
    {
     "data": {
      "text/plain": [
       "['s', 't', 's', 'e']"
      ]
     },
     "execution_count": 88,
     "metadata": {},
     "output_type": "execute_result"
    }
   ],
   "source": [
    "#to find middle value\n",
    "name_list=['Abhishek','Kartika','Anushka','Nilesh']\n",
    "list(map(lambda x: x[len(x)//2],name_list))\n"
   ]
  },
  {
   "cell_type": "code",
   "execution_count": 92,
   "metadata": {},
   "outputs": [
    {
     "data": {
      "text/plain": [
       "['Abhishek', 'Kartika', 'Anushka', 'Nilesh']"
      ]
     },
     "execution_count": 92,
     "metadata": {},
     "output_type": "execute_result"
    }
   ],
   "source": [
    "name_list=['Abhishek','Kartika','Anushka','Nilesh']\n",
    "list(map(lambda x:x ,name_list))\n"
   ]
  },
  {
   "cell_type": "code",
   "execution_count": 81,
   "metadata": {},
   "outputs": [
    {
     "data": {
      "text/plain": [
       "'a'"
      ]
     },
     "execution_count": 81,
     "metadata": {},
     "output_type": "execute_result"
    }
   ],
   "source": [
    "name='Anjaliv'\n",
    "name[int(len(name)/2)]\n"
   ]
  },
  {
   "cell_type": "code",
   "execution_count": 73,
   "metadata": {},
   "outputs": [
    {
     "data": {
      "text/plain": [
       "6"
      ]
     },
     "execution_count": 73,
     "metadata": {},
     "output_type": "execute_result"
    }
   ],
   "source": [
    "import math\n",
    "math.ceil(5.4)"
   ]
  },
  {
   "cell_type": "code",
   "execution_count": 93,
   "metadata": {},
   "outputs": [
    {
     "data": {
      "text/plain": [
       "3"
      ]
     },
     "execution_count": 93,
     "metadata": {},
     "output_type": "execute_result"
    }
   ],
   "source": [
    "7//2"
   ]
  },
  {
   "cell_type": "code",
   "execution_count": 4,
   "metadata": {},
   "outputs": [],
   "source": [
    "stud_data=[('Piyush',78),('Nilam',62),('Anjali',98),('Nikhil',85)]\n",
    "#two dimensional list sorting in python\n",
    "#list within tuple sorting\n"
   ]
  },
  {
   "cell_type": "code",
   "execution_count": 14,
   "metadata": {},
   "outputs": [
    {
     "name": "stdout",
     "output_type": "stream",
     "text": [
      "[('Nilam', 62), ('Piyush', 78), ('Nikhil', 85), ('Anjali', 98)]\n",
      "[('Anjali', 98), ('Nikhil', 85), ('Piyush', 78), ('Nilam', 62)]\n"
     ]
    }
   ],
   "source": [
    "\n",
    "def sortSecond(val):\n",
    "    return val[1] \n",
    " \n",
    "# list1 to demonstrate the use of sorting \n",
    "# using second key \n",
    "list1 = [('Piyush',78),('Nilam',62),('Anjali',98),('Nikhil',85)]\n",
    " \n",
    "# sorts the array in ascending according to \n",
    "# second element\n",
    "list1.sort(key=sortSecond) \n",
    "print(list1)\n",
    " \n",
    "# sorts the array in descending according to\n",
    "# second element\n",
    "list1.sort(key=sortSecond,reverse=True)\n",
    "print(list1)"
   ]
  },
  {
   "cell_type": "code",
   "execution_count": 8,
   "metadata": {},
   "outputs": [
    {
     "name": "stdout",
     "output_type": "stream",
     "text": [
      "[('Nilam', 62), ('Piyush', 78), ('Nikhil', 85), ('Anjali', 98)]\n",
      "[('Anjali', 98), ('Nikhil', 85), ('Nilam', 62), ('Piyush', 78)]\n"
     ]
    }
   ],
   "source": [
    "stud_data.sort(key=lambda x:x[1])\n",
    "print(stud_data)\n",
    "stud_data.sort(key=lambda x:x[0])\n",
    "print(stud_data)"
   ]
  },
  {
   "cell_type": "code",
   "execution_count": 7,
   "metadata": {},
   "outputs": [
    {
     "data": {
      "text/plain": [
       "[('Anjali', 98), ('Nikhil', 85), ('Piyush', 78), ('Nilam', 62)]"
      ]
     },
     "execution_count": 7,
     "metadata": {},
     "output_type": "execute_result"
    }
   ],
   "source": [
    "sorted(stud_data,key=lambda x:x[1])\n",
    "sorted(stud_data,key=lambda x:x[1],reverse=True)"
   ]
  },
  {
   "cell_type": "code",
   "execution_count": null,
   "metadata": {},
   "outputs": [],
   "source": []
  },
  {
   "cell_type": "code",
   "execution_count": null,
   "metadata": {},
   "outputs": [],
   "source": []
  },
  {
   "cell_type": "code",
   "execution_count": null,
   "metadata": {},
   "outputs": [],
   "source": []
  },
  {
   "cell_type": "code",
   "execution_count": null,
   "metadata": {},
   "outputs": [],
   "source": []
  },
  {
   "cell_type": "code",
   "execution_count": null,
   "metadata": {},
   "outputs": [],
   "source": []
  }
 ],
 "metadata": {
  "kernelspec": {
   "display_name": "Python 3",
   "language": "python",
   "name": "python3"
  },
  "language_info": {
   "codemirror_mode": {
    "name": "ipython",
    "version": 3
   },
   "file_extension": ".py",
   "mimetype": "text/x-python",
   "name": "python",
   "nbconvert_exporter": "python",
   "pygments_lexer": "ipython3",
   "version": "3.12.3"
  }
 },
 "nbformat": 4,
 "nbformat_minor": 2
}
