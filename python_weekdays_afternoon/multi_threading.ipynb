{
 "cells": [
  {
   "cell_type": "code",
   "execution_count": 44,
   "metadata": {},
   "outputs": [
    {
     "name": "stdout",
     "output_type": "stream",
     "text": [
      "Bye\n",
      "Bye\n",
      "Bye\n",
      "Bye\n",
      "Bye\n",
      "hello\n",
      "hello\n",
      "hello\n",
      "hello\n",
      "hello\n"
     ]
    }
   ],
   "source": [
    "def fun1():\n",
    "    for i in range(1,6):\n",
    "        print('hello')\n",
    "def fun2():\n",
    "    for i in range(1,6):\n",
    "        print('Bye')\n",
    "fun2()   #function call fun2\n",
    "fun1()   #function call fun1"
   ]
  },
  {
   "cell_type": "code",
   "execution_count": 45,
   "metadata": {},
   "outputs": [],
   "source": [
    "#fun1 fun2 multithreading"
   ]
  },
  {
   "cell_type": "code",
   "execution_count": 46,
   "metadata": {},
   "outputs": [],
   "source": [
    "#watsapp mobile laptop\n",
    "#one application on differenct operating systems"
   ]
  },
  {
   "cell_type": "code",
   "execution_count": 47,
   "metadata": {},
   "outputs": [
    {
     "name": "stdout",
     "output_type": "stream",
     "text": [
      "Parent(main) thread name MainThread\n",
      "Parent(main) thread name MainThread\n",
      "Function based thread\n",
      "child thread number Thread-111 (fun1)\n",
      "Parent(main) thread name MainThread\n"
     ]
    }
   ],
   "source": [
    "from threading import *\n",
    "print('Parent(main) thread name',current_thread().name)\n",
    "def fun1():\n",
    "    print('Function based thread')\n",
    "    print('child thread number',current_thread().name)        #os generate current thread\n",
    "#convert function into thread\n",
    "print('Parent(main) thread name',current_thread().name)\n",
    "t1=Thread(target=fun1)      \n",
    "#thread execution\n",
    "t1.start()     \n",
    "print('Parent(main) thread name',current_thread().name)"
   ]
  },
  {
   "cell_type": "code",
   "execution_count": 48,
   "metadata": {},
   "outputs": [
    {
     "name": "stdout",
     "output_type": "stream",
     "text": [
      "This is class base thread\n"
     ]
    }
   ],
   "source": [
    "from threading import *\n",
    "class A:\n",
    "    def fun1(self):\n",
    "        print('This is class base thread')\n",
    "\n",
    "a1=A()#object creation\n",
    "#convert class method to thread\n",
    "t1=Thread(target=a1.fun1)\n",
    "t1.start()"
   ]
  },
  {
   "cell_type": "code",
   "execution_count": 69,
   "metadata": {},
   "outputs": [
    {
     "name": "stdout",
     "output_type": "stream",
     "text": [
      "Square of a number 1\n",
      "Square of a number 4\n",
      "Square of a number 9\n",
      "Square of a number 16\n",
      "Square of a number 25\n",
      "Cube of number is 1\n",
      "Cube of number is 8\n",
      "Cube of number is 27\n",
      "Cube of number is 64\n",
      "Cube of number is 125\n",
      "Total time execution is 10.009992837905884\n"
     ]
    }
   ],
   "source": [
    "import time\n",
    "#write a function ti display a square and cube of given list\n",
    "\n",
    "def square(x):\n",
    "    for i in range(1,x):\n",
    "        time.sleep(1)\n",
    "        print('Square of a number',i*i)\n",
    "def cube(x):\n",
    "    for i in range(1,x):\n",
    "        time.sleep(1)          #sleep for 1 second\n",
    "        print('Cube of number is',i*i*i)\n",
    "\n",
    "start_time=time.time() \n",
    "#print(start_time)  \n",
    "square(6)\n",
    "cube(6)\n",
    "stop_time=time.time()\n",
    "#print(stop_time)\n",
    "#print(time.time())\n",
    "print(\"Total time execution is\",(stop_time-start_time))"
   ]
  },
  {
   "cell_type": "code",
   "execution_count": 74,
   "metadata": {},
   "outputs": [
    {
     "name": "stdout",
     "output_type": "stream",
     "text": [
      "Square of a numberCube of number is 1\n",
      " 1\n",
      "Cube of number is 8\n",
      "Square of a number 4\n",
      "Cube of number is 27\n",
      "Square of a number 9\n",
      "Cube of number is 64\n",
      "Square of a number 16\n",
      "Cube of number is 125\n",
      "Square of a number 25\n",
      "Total time execution is 5.014714002609253\n"
     ]
    }
   ],
   "source": [
    "import time\n",
    "#write a function ti display a square and cube of given list\n",
    "\n",
    "def square(x):\n",
    "    for i in range(1,x):\n",
    "        time.sleep(1)\n",
    "        print('Square of a number',i*i)\n",
    "def cube(x):\n",
    "    for i in range(1,x):\n",
    "        time.sleep(1)          #sleep for 1 second\n",
    "        print('Cube of number is',i*i*i)\n",
    "\n",
    "start_time=time.time() \n",
    "t1=Thread(target=square,args=(6,))\n",
    "t2=Thread(target=cube,args=(6,))\n",
    "t1.start()\n",
    "t2.start()\n",
    "t1.join()           #to run code one by one 1 sec\n",
    "t2.join()\n",
    "\n",
    "stop_time=time.time()\n",
    "print(\"Total time execution is\",(stop_time-start_time))"
   ]
  },
  {
   "cell_type": "code",
   "execution_count": null,
   "metadata": {},
   "outputs": [],
   "source": []
  },
  {
   "cell_type": "code",
   "execution_count": null,
   "metadata": {},
   "outputs": [],
   "source": []
  },
  {
   "cell_type": "code",
   "execution_count": null,
   "metadata": {},
   "outputs": [],
   "source": []
  },
  {
   "cell_type": "code",
   "execution_count": null,
   "metadata": {},
   "outputs": [],
   "source": []
  },
  {
   "cell_type": "code",
   "execution_count": null,
   "metadata": {},
   "outputs": [],
   "source": []
  },
  {
   "cell_type": "code",
   "execution_count": null,
   "metadata": {},
   "outputs": [],
   "source": []
  },
  {
   "cell_type": "code",
   "execution_count": null,
   "metadata": {},
   "outputs": [],
   "source": []
  }
 ],
 "metadata": {
  "kernelspec": {
   "display_name": "Python 3",
   "language": "python",
   "name": "python3"
  },
  "language_info": {
   "codemirror_mode": {
    "name": "ipython",
    "version": 3
   },
   "file_extension": ".py",
   "mimetype": "text/x-python",
   "name": "python",
   "nbconvert_exporter": "python",
   "pygments_lexer": "ipython3",
   "version": "3.12.3"
  }
 },
 "nbformat": 4,
 "nbformat_minor": 2
}
