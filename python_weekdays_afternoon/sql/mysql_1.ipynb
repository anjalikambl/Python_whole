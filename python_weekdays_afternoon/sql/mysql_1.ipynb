{
 "cells": [
  {
   "cell_type": "code",
   "execution_count": 2,
   "metadata": {},
   "outputs": [],
   "source": [
    "#import a library\n",
    "import mysql.connector\n",
    "from mysql.connector import Error\n",
    "import pandas as pd"
   ]
  },
  {
   "cell_type": "code",
   "execution_count": 5,
   "metadata": {},
   "outputs": [
    {
     "name": "stdout",
     "output_type": "stream",
     "text": [
      "Mysql Database connection successful\n"
     ]
    }
   ],
   "source": [
    "def create_server_connection(host_name,user_name,user_password):\n",
    "    connection=None\n",
    "    try:\n",
    "        connection=mysql.connector.connect(host=host_name,\n",
    "                                           user=user_name,\n",
    "                                           password=user_password\n",
    "                                           )\n",
    "        print('Mysql Database connection successful')\n",
    "    except Error as err:\n",
    "        print(f\"'Error:'{err}'\")\n",
    "    return connection\n",
    "\n",
    "#put our MySQL Terminal password\n",
    "pw='Kamble@123'\n",
    "#database_name\n",
    "db_name='mysql_python'\n",
    "Connection=create_server_connection('localhost','root',pw)"
   ]
  },
  {
   "cell_type": "code",
   "execution_count": 7,
   "metadata": {},
   "outputs": [
    {
     "name": "stdout",
     "output_type": "stream",
     "text": [
      "Requirement already satisfied: mysql-connector-python in c:\\users\\asus\\appdata\\local\\programs\\python\\python312\\lib\\site-packages (8.4.0)\n",
      "Note: you may need to restart the kernel to use updated packages.\n"
     ]
    }
   ],
   "source": [
    "#pip install mysql-connector-python"
   ]
  },
  {
   "cell_type": "code",
   "execution_count": 12,
   "metadata": {},
   "outputs": [
    {
     "name": "stdout",
     "output_type": "stream",
     "text": [
      "Error:1007 (HY000): Can't create database 'mysql_python'; database exists\n"
     ]
    }
   ],
   "source": [
    "#create mysql_python\n",
    "#create database mysql_python;\n",
    "def create_database(Connection,query):\n",
    "    cursor=Connection.cursor()\n",
    "    try:\n",
    "        cursor.execute(query)\n",
    "        print('Database create successfully')\n",
    "    except Error as err:\n",
    "        print(f'Error:{err}')\n",
    "create_database_query=\"Create database mysql_python\"\n",
    "create_database(Connection,create_database_query)\n",
    "    "
   ]
  },
  {
   "cell_type": "code",
   "execution_count": 13,
   "metadata": {},
   "outputs": [],
   "source": [
    "#connect to database\n",
    "#use mysql_python;\n",
    "def create_db_connection(host_name,user_name,user_password,db_name):\n",
    "    Connection=None\n",
    "    try:\n",
    "        Connection=mysql.connector.connect(\n",
    "           host=host_name,\n",
    "           user=user_name,\n",
    "           passwd=user_password,\n",
    "           database=db_name\n",
    "            \n",
    "        )\n",
    "        print('Mysql database connection successful')\n",
    "    except Error as err:\n",
    "        print(f\"Error:{err}\")\n",
    "    return Connection"
   ]
  },
  {
   "cell_type": "code",
   "execution_count": 17,
   "metadata": {},
   "outputs": [],
   "source": [
    "#Execute sql queries\n",
    "def execute_query(Connection,query):\n",
    "    cursor=Connection.cursor()\n",
    "    try:\n",
    "        cursor.execute(query)\n",
    "        Connection.commit()\n",
    "        print('Query was successful')\n",
    "    except Error as err:\n",
    "        print(f\"Error:{err}\")\n",
    "    "
   ]
  },
  {
   "cell_type": "code",
   "execution_count": 19,
   "metadata": {},
   "outputs": [
    {
     "name": "stdout",
     "output_type": "stream",
     "text": [
      "Mysql database connection successful\n",
      "Query was successful\n"
     ]
    }
   ],
   "source": [
    "create_orders_table=\"\"\"\n",
    "create table orders(\n",
    "order_id int primary key,\n",
    "customer_name varchar(30) not null,\n",
    "product_name varchar(20) not null,\n",
    "date_ordered date,\n",
    "quantity int,\n",
    "unit_price float,\n",
    "phone_number varchar(20));\"\"\"\n",
    "\n",
    "#connect to the database\n",
    "Connection=create_db_connection(\"localhost\",\"root\",pw,db_name)\n",
    "execute_query(Connection,create_orders_table)\n"
   ]
  },
  {
   "cell_type": "code",
   "execution_count": 21,
   "metadata": {},
   "outputs": [
    {
     "name": "stdout",
     "output_type": "stream",
     "text": [
      "Mysql database connection successful\n",
      "Query was successful\n"
     ]
    }
   ],
   "source": [
    "#insert data\n",
    "data_orders=\"\"\"\n",
    "insert into orders values (101,'Steve','Laptop','2018-06-12',2,800,'3425241235'),\n",
    "\n",
    "(102,'Jos','Laptop','2019-02-10',10,12,'3425241235'),\n",
    "(103,'Stacy','Books','2019-12-25',5,50,'3425241235'),\n",
    "(104,'Nancy','Trousers','2018-07-14',7,30,'3425241235'),\n",
    "(105,'Maria','T-shirts','2019-05-30',6,48,'3425241235'),\n",
    "(106,'Danny','Smart TV','2018-08-20',10,300,'3425241235')\n",
    "\"\"\"\n",
    "Connection=create_db_connection(\"localhost\",\"root\",pw,db_name)\n",
    "execute_query(Connection,data_orders)"
   ]
  },
  {
   "cell_type": "code",
   "execution_count": 22,
   "metadata": {},
   "outputs": [],
   "source": [
    "def read_query(connection,query):\n",
    "    cursor=connection.cursor()\n",
    "    result=None\n",
    "    try:\n",
    "        cursor.execute(query)\n",
    "        result=cursor.fetchall()\n",
    "        return result\n",
    "    except Error as err:\n",
    "        print(f\"Error:{err}\")\n"
   ]
  },
  {
   "cell_type": "code",
   "execution_count": 24,
   "metadata": {},
   "outputs": [
    {
     "name": "stdout",
     "output_type": "stream",
     "text": [
      "Mysql database connection successful\n",
      "(101, 'Steve', 'Laptop', datetime.date(2018, 6, 12), 2, 800.0, '3425241235')\n",
      "(102, 'Jos', 'Laptop', datetime.date(2019, 2, 10), 10, 12.0, '3425241235')\n",
      "(103, 'Stacy', 'Books', datetime.date(2019, 12, 25), 5, 50.0, '3425241235')\n",
      "(104, 'Nancy', 'Trousers', datetime.date(2018, 7, 14), 7, 30.0, '3425241235')\n",
      "(105, 'Maria', 'T-shirts', datetime.date(2019, 5, 30), 6, 48.0, '3425241235')\n",
      "(106, 'Danny', 'Smart TV', datetime.date(2018, 8, 20), 10, 300.0, '3425241235')\n"
     ]
    }
   ],
   "source": [
    "#Using the select statement\n",
    "q1=\"\"\" Select*from orders\"\"\"\n",
    "Connection=create_db_connection(\"localhost\",\"root\",pw,db_name)\n",
    "results=read_query(Connection,q1)\n",
    "for result in results:\n",
    "    print(result)"
   ]
  },
  {
   "cell_type": "code",
   "execution_count": 27,
   "metadata": {},
   "outputs": [
    {
     "name": "stdout",
     "output_type": "stream",
     "text": [
      "Mysql database connection successful\n",
      "('Steve', '3425241235')\n",
      "('Jos', '3425241235')\n",
      "('Stacy', '3425241235')\n",
      "('Nancy', '3425241235')\n",
      "('Maria', '3425241235')\n",
      "('Danny', '3425241235')\n"
     ]
    }
   ],
   "source": [
    "#Using the select statement\n",
    "q2=\"\"\" Select customer_name,phone_number from orders\"\"\"\n",
    "Connection=create_db_connection(\"localhost\",\"root\",pw,db_name)\n",
    "results=read_query(Connection,q2)\n",
    "for result in results:\n",
    "    print(result)"
   ]
  },
  {
   "cell_type": "code",
   "execution_count": 29,
   "metadata": {},
   "outputs": [
    {
     "name": "stdout",
     "output_type": "stream",
     "text": [
      "Mysql database connection successful\n",
      "(2018,)\n",
      "(2019,)\n",
      "(2019,)\n",
      "(2018,)\n",
      "(2019,)\n",
      "(2018,)\n"
     ]
    }
   ],
   "source": [
    "q3=\"\"\"\n",
    "select year(date_ordered) from orders;\"\"\"\n",
    "\n",
    "Connection=create_db_connection(\"localhost\",\"root\",pw,db_name)\n",
    "results=read_query(Connection,q3)\n",
    "for result in results:\n",
    "    print(result)"
   ]
  },
  {
   "cell_type": "code",
   "execution_count": 31,
   "metadata": {},
   "outputs": [
    {
     "name": "stdout",
     "output_type": "stream",
     "text": [
      "Mysql database connection successful\n",
      "(2018,)\n",
      "(2019,)\n"
     ]
    }
   ],
   "source": [
    "q4=\"\"\"\n",
    "select distinct year(date_ordered) from orders;\"\"\"\n",
    "\n",
    "Connection=create_db_connection(\"localhost\",\"root\",pw,db_name)\n",
    "results=read_query(Connection,q4)\n",
    "for result in results:\n",
    "    print(result)"
   ]
  },
  {
   "cell_type": "code",
   "execution_count": 36,
   "metadata": {},
   "outputs": [
    {
     "name": "stdout",
     "output_type": "stream",
     "text": [
      "(102, 'Jos', 'Laptop', datetime.date(2019, 2, 10), 10, 12.0, '3425241235')\n",
      "(103, 'Stacy', 'Books', datetime.date(2019, 12, 25), 5, 50.0, '3425241235')\n",
      "(105, 'Maria', 'T-shirts', datetime.date(2019, 5, 30), 6, 48.0, '3425241235')\n"
     ]
    }
   ],
   "source": [
    "q5=\"select * from orders where date_ordered>'2018-12-31' \"\n",
    "results=read_query(Connection,q5)\n",
    "for result in results:\n",
    "    print(result)"
   ]
  },
  {
   "cell_type": "code",
   "execution_count": 41,
   "metadata": {},
   "outputs": [
    {
     "name": "stdout",
     "output_type": "stream",
     "text": [
      "(101, 'Steve', 'Laptop', datetime.date(2018, 6, 12), 2, 800.0, '3425241235')\n",
      "(106, 'Danny', 'Smart TV', datetime.date(2018, 8, 20), 10, 300.0, '3425241235')\n",
      "(103, 'Stacy', 'Books', datetime.date(2019, 12, 25), 5, 50.0, '3425241235')\n",
      "(105, 'Maria', 'T-shirts', datetime.date(2019, 5, 30), 6, 48.0, '3425241235')\n",
      "(104, 'Nancy', 'Trousers', datetime.date(2018, 7, 14), 7, 30.0, '3425241235')\n",
      "(102, 'Jos', 'Laptop', datetime.date(2019, 2, 10), 10, 12.0, '3425241235')\n"
     ]
    }
   ],
   "source": [
    "q7=\"\"\"select * from orders order by unit_price desc;\"\"\" #descending order\n",
    "results=read_query(Connection,q7)\n",
    "for result in results:\n",
    "    print(result)"
   ]
  },
  {
   "cell_type": "code",
   "execution_count": 43,
   "metadata": {},
   "outputs": [
    {
     "data": {
      "text/html": [
       "<div>\n",
       "<style scoped>\n",
       "    .dataframe tbody tr th:only-of-type {\n",
       "        vertical-align: middle;\n",
       "    }\n",
       "\n",
       "    .dataframe tbody tr th {\n",
       "        vertical-align: top;\n",
       "    }\n",
       "\n",
       "    .dataframe thead th {\n",
       "        text-align: right;\n",
       "    }\n",
       "</style>\n",
       "<table border=\"1\" class=\"dataframe\">\n",
       "  <thead>\n",
       "    <tr style=\"text-align: right;\">\n",
       "      <th></th>\n",
       "      <th>order_id</th>\n",
       "      <th>customer_name</th>\n",
       "      <th>product_name</th>\n",
       "      <th>date_ordered</th>\n",
       "      <th>quantity</th>\n",
       "      <th>unit_price</th>\n",
       "      <th>phone_number</th>\n",
       "    </tr>\n",
       "  </thead>\n",
       "  <tbody>\n",
       "    <tr>\n",
       "      <th>0</th>\n",
       "      <td>101</td>\n",
       "      <td>Steve</td>\n",
       "      <td>Laptop</td>\n",
       "      <td>2018-06-12</td>\n",
       "      <td>2</td>\n",
       "      <td>800.0</td>\n",
       "      <td>3425241235</td>\n",
       "    </tr>\n",
       "    <tr>\n",
       "      <th>1</th>\n",
       "      <td>106</td>\n",
       "      <td>Danny</td>\n",
       "      <td>Smart TV</td>\n",
       "      <td>2018-08-20</td>\n",
       "      <td>10</td>\n",
       "      <td>300.0</td>\n",
       "      <td>3425241235</td>\n",
       "    </tr>\n",
       "    <tr>\n",
       "      <th>2</th>\n",
       "      <td>103</td>\n",
       "      <td>Stacy</td>\n",
       "      <td>Books</td>\n",
       "      <td>2019-12-25</td>\n",
       "      <td>5</td>\n",
       "      <td>50.0</td>\n",
       "      <td>3425241235</td>\n",
       "    </tr>\n",
       "    <tr>\n",
       "      <th>3</th>\n",
       "      <td>105</td>\n",
       "      <td>Maria</td>\n",
       "      <td>T-shirts</td>\n",
       "      <td>2019-05-30</td>\n",
       "      <td>6</td>\n",
       "      <td>48.0</td>\n",
       "      <td>3425241235</td>\n",
       "    </tr>\n",
       "    <tr>\n",
       "      <th>4</th>\n",
       "      <td>104</td>\n",
       "      <td>Nancy</td>\n",
       "      <td>Trousers</td>\n",
       "      <td>2018-07-14</td>\n",
       "      <td>7</td>\n",
       "      <td>30.0</td>\n",
       "      <td>3425241235</td>\n",
       "    </tr>\n",
       "    <tr>\n",
       "      <th>5</th>\n",
       "      <td>102</td>\n",
       "      <td>Jos</td>\n",
       "      <td>Laptop</td>\n",
       "      <td>2019-02-10</td>\n",
       "      <td>10</td>\n",
       "      <td>12.0</td>\n",
       "      <td>3425241235</td>\n",
       "    </tr>\n",
       "  </tbody>\n",
       "</table>\n",
       "</div>"
      ],
      "text/plain": [
       "   order_id customer_name product_name date_ordered  quantity  unit_price  \\\n",
       "0       101         Steve       Laptop   2018-06-12         2       800.0   \n",
       "1       106         Danny     Smart TV   2018-08-20        10       300.0   \n",
       "2       103         Stacy        Books   2019-12-25         5        50.0   \n",
       "3       105         Maria     T-shirts   2019-05-30         6        48.0   \n",
       "4       104         Nancy     Trousers   2018-07-14         7        30.0   \n",
       "5       102           Jos       Laptop   2019-02-10        10        12.0   \n",
       "\n",
       "  phone_number  \n",
       "0   3425241235  \n",
       "1   3425241235  \n",
       "2   3425241235  \n",
       "3   3425241235  \n",
       "4   3425241235  \n",
       "5   3425241235  "
      ]
     },
     "execution_count": 43,
     "metadata": {},
     "output_type": "execute_result"
    }
   ],
   "source": [
    "from_db=[]\n",
    "for result in results:\n",
    "    result=list(result)\n",
    "    from_db.append(result)\n",
    "columns=[\"order_id\",\"customer_name\",\"product_name\",\"date_ordered\",\"quantity\",\n",
    "         \"unit_price\",\"phone_number\"]\n",
    "df=pd.DataFrame(from_db,columns=columns)\n",
    "df"
   ]
  },
  {
   "cell_type": "code",
   "execution_count": 50,
   "metadata": {},
   "outputs": [
    {
     "name": "stdout",
     "output_type": "stream",
     "text": [
      "Mysql database connection successful\n",
      "Query was successful\n"
     ]
    }
   ],
   "source": [
    "#update command\n",
    "update=\"\"\"\n",
    "update orders\n",
    "set unit_price=45\n",
    "where order_id=103\"\"\"\n",
    "connection=create_db_connection('localhost','root',pw,db_name)\n",
    "results=execute_query(connection,update)\n",
    "results"
   ]
  },
  {
   "cell_type": "code",
   "execution_count": 51,
   "metadata": {},
   "outputs": [
    {
     "name": "stdout",
     "output_type": "stream",
     "text": [
      "Mysql database connection successful\n",
      "(103, 'Stacy', 'Books', datetime.date(2019, 12, 25), 5, 45.0, '3425241235')\n"
     ]
    }
   ],
   "source": [
    "q8=\"\"\"select * from orders where order_id=103\"\"\"\n",
    "connection=create_db_connection('localhost','root',pw,db_name)\n",
    "results=read_query(connection,q8)\n",
    "for result in results:\n",
    "    print(result)"
   ]
  },
  {
   "cell_type": "code",
   "execution_count": 53,
   "metadata": {},
   "outputs": [
    {
     "name": "stdout",
     "output_type": "stream",
     "text": [
      "Mysql database connection successful\n",
      "Query was successful\n"
     ]
    }
   ],
   "source": [
    "#delete command\n",
    "delete_order=\"\"\"delete from orders where order_id=105\"\"\"\n",
    "connection=create_db_connection('localhost','root',pw,db_name)\n",
    "results=execute_query(connection,delete_order)\n"
   ]
  },
  {
   "cell_type": "code",
   "execution_count": 54,
   "metadata": {},
   "outputs": [
    {
     "name": "stdout",
     "output_type": "stream",
     "text": [
      "Mysql database connection successful\n",
      "(101, 'Steve', 'Laptop', datetime.date(2018, 6, 12), 2, 800.0, '3425241235')\n",
      "(102, 'Jos', 'Laptop', datetime.date(2019, 2, 10), 10, 12.0, '3425241235')\n",
      "(103, 'Stacy', 'Books', datetime.date(2019, 12, 25), 5, 45.0, '3425241235')\n",
      "(104, 'Nancy', 'Trousers', datetime.date(2018, 7, 14), 7, 30.0, '3425241235')\n",
      "(106, 'Danny', 'Smart TV', datetime.date(2018, 8, 20), 10, 300.0, '3425241235')\n"
     ]
    }
   ],
   "source": [
    "q9=\"select*from orders;\"\n",
    "connection=create_db_connection('localhost','root',pw,db_name)\n",
    "results=read_query(connection,q9)\n",
    "for result in results:\n",
    "    print(result)"
   ]
  },
  {
   "cell_type": "code",
   "execution_count": null,
   "metadata": {},
   "outputs": [],
   "source": [
    "# mysql.connector.connect(host,user,pw)                                    # connect server\n",
    "# cursor=connector.cursor()   curser.execute(query)                        # create database    \n",
    "# mysql.connector.connect(host,user,pw,db_name)                            # use database\n",
    "# curser=connection.curser()  curser.execute(query) connection.commit()    # select columns     execute query  \n",
    "# curser=connection.curser()  curser.execute(query) curser.fetchall()      # read_query"
   ]
  }
 ],
 "metadata": {
  "kernelspec": {
   "display_name": "Python 3",
   "language": "python",
   "name": "python3"
  },
  "language_info": {
   "codemirror_mode": {
    "name": "ipython",
    "version": 3
   },
   "file_extension": ".py",
   "mimetype": "text/x-python",
   "name": "python",
   "nbconvert_exporter": "python",
   "pygments_lexer": "ipython3",
   "version": "3.12.3"
  }
 },
 "nbformat": 4,
 "nbformat_minor": 2
}
