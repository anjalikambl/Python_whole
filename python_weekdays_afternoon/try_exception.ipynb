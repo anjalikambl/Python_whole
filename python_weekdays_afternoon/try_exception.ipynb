{
 "cells": [
  {
   "cell_type": "code",
   "execution_count": 1,
   "metadata": {},
   "outputs": [
    {
     "ename": "ZeroDivisionError",
     "evalue": "division by zero",
     "output_type": "error",
     "traceback": [
      "\u001b[1;31m---------------------------------------------------------------------------\u001b[0m",
      "\u001b[1;31mZeroDivisionError\u001b[0m                         Traceback (most recent call last)",
      "Cell \u001b[1;32mIn[1], line 3\u001b[0m\n\u001b[0;32m      1\u001b[0m a\u001b[38;5;241m=\u001b[39m\u001b[38;5;241m10\u001b[39m\n\u001b[0;32m      2\u001b[0m b\u001b[38;5;241m=\u001b[39m\u001b[38;5;241m0\u001b[39m\n\u001b[1;32m----> 3\u001b[0m \u001b[38;5;28mprint\u001b[39m(\u001b[43ma\u001b[49m\u001b[38;5;241;43m/\u001b[39;49m\u001b[43mb\u001b[49m)\n\u001b[0;32m      4\u001b[0m \u001b[38;5;28mprint\u001b[39m(\u001b[38;5;124m'\u001b[39m\u001b[38;5;124mbye\u001b[39m\u001b[38;5;124m'\u001b[39m)\n",
      "\u001b[1;31mZeroDivisionError\u001b[0m: division by zero"
     ]
    }
   ],
   "source": [
    "a=10\n",
    "b=0\n",
    "print(a/b)\n",
    "print('bye')"
   ]
  },
  {
   "cell_type": "code",
   "execution_count": 3,
   "metadata": {},
   "outputs": [
    {
     "name": "stdout",
     "output_type": "stream",
     "text": [
      "Please enter non-zero value\n",
      "Bye\n"
     ]
    }
   ],
   "source": [
    "try:\n",
    "    a=10\n",
    "    b=0\n",
    "    print(a/b)\n",
    "except:\n",
    "    print('Please enter non-zero value')\n",
    "print('Bye')"
   ]
  },
  {
   "cell_type": "code",
   "execution_count": 4,
   "metadata": {},
   "outputs": [
    {
     "name": "stdout",
     "output_type": "stream",
     "text": [
      "5.0\n",
      "Bye\n"
     ]
    }
   ],
   "source": [
    "try:\n",
    "    a=10\n",
    "    b=2\n",
    "    print(a/b)\n",
    "except:\n",
    "    print('Please enter non-zero value')\n",
    "print('Bye')"
   ]
  },
  {
   "cell_type": "code",
   "execution_count": 5,
   "metadata": {},
   "outputs": [
    {
     "name": "stdout",
     "output_type": "stream",
     "text": [
      "division by zero\n",
      "Bye\n"
     ]
    }
   ],
   "source": [
    "\n",
    "try:\n",
    "    a=10\n",
    "    b=0\n",
    "    print(a/b)\n",
    "except ZeroDivisionError as ze:\n",
    "    print(ze)\n",
    "print('Bye')"
   ]
  },
  {
   "cell_type": "code",
   "execution_count": 10,
   "metadata": {},
   "outputs": [],
   "source": [
    "import sys       #system library"
   ]
  },
  {
   "cell_type": "code",
   "execution_count": 14,
   "metadata": {},
   "outputs": [
    {
     "name": "stdout",
     "output_type": "stream",
     "text": [
      "division by zero\n",
      "Bye\n"
     ]
    }
   ],
   "source": [
    "try:\n",
    "    a=10\n",
    "    b=0\n",
    "    print(a/b)\n",
    "except:            \n",
    "    print(sys.exc_info()[1])            #if we dont know the output\n",
    "print('Bye')"
   ]
  },
  {
   "cell_type": "code",
   "execution_count": 18,
   "metadata": {},
   "outputs": [
    {
     "name": "stdout",
     "output_type": "stream",
     "text": [
      "list index out of range\n",
      "Bye\n"
     ]
    }
   ],
   "source": [
    "try:\n",
    "    x=[10,20,30,40,50,60]\n",
    "    \n",
    "    print(x[8])\n",
    "except :\n",
    "    print(sys.exc_info()[1])\n",
    "print('Bye')"
   ]
  },
  {
   "cell_type": "code",
   "execution_count": 22,
   "metadata": {},
   "outputs": [
    {
     "name": "stdout",
     "output_type": "stream",
     "text": [
      "[Errno 2] No such file or directory: 'f6.txt'\n"
     ]
    }
   ],
   "source": [
    "try:\n",
    "    obj=open('f6.txt','r')\n",
    "    print(obj.read())\n",
    "except:\n",
    "    print(sys.exc_info()[1])"
   ]
  },
  {
   "cell_type": "code",
   "execution_count": 3,
   "metadata": {},
   "outputs": [
    {
     "name": "stdout",
     "output_type": "stream",
     "text": [
      "Mobile number must be 10 digits only\n"
     ]
    }
   ],
   "source": [
    "try:\n",
    "    mobile_no=int(input('Enter the mobile number'))\n",
    "    assert len(str(mobile_no))==10\n",
    "    \n",
    "except:\n",
    "    print('Mobile number must be 10 digits only')\n"
   ]
  },
  {
   "cell_type": "code",
   "execution_count": 11,
   "metadata": {},
   "outputs": [
    {
     "name": "stdout",
     "output_type": "stream",
     "text": [
      "Congrats!!! You are eligible for driving licence\n"
     ]
    }
   ],
   "source": [
    "try:\n",
    "    age=int(input('Enter the age'))\n",
    "    assert age>=18\n",
    "    print('Congrats!!! You are eligible for driving licence')\n",
    "except:\n",
    "    print('Age criteria must be greater than or equal to 18')\n"
   ]
  },
  {
   "cell_type": "code",
   "execution_count": 19,
   "metadata": {},
   "outputs": [
    {
     "name": "stdout",
     "output_type": "stream",
     "text": [
      "Welcome to user anjali\n"
     ]
    }
   ],
   "source": [
    "try:\n",
    "    user_name=input('Enter the user_name')\n",
    "    assert user_name.isalpha()\n",
    "    print('Welcome to user',user_name)\n",
    "except:\n",
    "    print('Please enter valid user name that contains only alphabets')\n"
   ]
  },
  {
   "cell_type": "code",
   "execution_count": 25,
   "metadata": {},
   "outputs": [
    {
     "name": "stdout",
     "output_type": "stream",
     "text": [
      "Result is 40.0\n",
      "Result is 20.0\n",
      "Exception error is division by zero\n",
      "Result is 6.666666666666667\n",
      "Exception error is unsupported operand type(s) for /: 'int' and 'str'\n"
     ]
    }
   ],
   "source": [
    "#multiple exception handling\n",
    "\n",
    "import sys\n",
    "x=[10,20,0,60,'a']\n",
    "number=int(input('Enter the number'))\n",
    "for i in x:\n",
    "    try:\n",
    "            result=number/i\n",
    "            print('Result is',result)\n",
    "    except:\n",
    "        print('Exception error is',sys.exc_info()[1])    "
   ]
  },
  {
   "cell_type": "code",
   "execution_count": 28,
   "metadata": {},
   "outputs": [
    {
     "name": "stdout",
     "output_type": "stream",
     "text": [
      "55.5\n",
      "27.75\n",
      "division by zero\n",
      "unsupported operand type(s) for /: 'int' and 'str'\n",
      "9.25\n"
     ]
    }
   ],
   "source": [
    "import sys\n",
    "x=[10,20,0,'s',60]\n",
    "n=int(input())\n",
    "for i in x:\n",
    "    try:\n",
    "        result=n/i\n",
    "        print(result)\n",
    "    except:\n",
    "        print(sys.exc_info()[1])  "
   ]
  },
  {
   "cell_type": "code",
   "execution_count": 3,
   "metadata": {},
   "outputs": [
    {
     "name": "stdout",
     "output_type": "stream",
     "text": [
      "Please enter greater value\n",
      "Please enter greater value\n",
      "Please enter greater value\n",
      "Please enter greater value\n",
      "Congrats!!! You guessed correct number\n"
     ]
    }
   ],
   "source": [
    "#user defined exceptions\n",
    "#guess number\n",
    "class Error(Exception):\n",
    "    pass\n",
    "class SmallError(Error):\n",
    "    '''If user enter smaller value then return excetption message'''\n",
    "    pass\n",
    "class LargeError(Error):\n",
    "    '''If user enter larger value then return excetption message'''\n",
    "    pass\n",
    "\n",
    "import random\n",
    "\n",
    "number=random.randint(1,10)\n",
    "t=True\n",
    "while t:\n",
    "    try:\n",
    "        user_number=int(input('Enter the number'))\n",
    "        if(user_number<number):\n",
    "            raise SmallError\n",
    "        elif (user_number>number):\n",
    "            raise LargeError\n",
    "        else:\n",
    "            print('Congrats!!! You guessed correct number')\n",
    "            t=False\n",
    "\n",
    "    except SmallError:\n",
    "        print('Please enter greater value')\n",
    "    except LargeError:\n",
    "        print('Please enter small value')\n",
    "\n"
   ]
  },
  {
   "cell_type": "code",
   "execution_count": 5,
   "metadata": {},
   "outputs": [
    {
     "name": "stdout",
     "output_type": "stream",
     "text": [
      "Please enter greater value\n",
      "Please enter greater value\n",
      "Please enter greater value\n",
      "Please enter greater value\n",
      "Please enter greater value\n",
      "Please enter greater value\n",
      "Congrats!!! You guessed correct number\n"
     ]
    }
   ],
   "source": [
    "\n",
    "#user defined exceptions\n",
    "#guess number\n",
    "class Error(Exception):\n",
    "    pass\n",
    "class SmallError(Error):\n",
    "    '''If user enter smaller value then return excetption message'''\n",
    "    pass\n",
    "class LargeError(Error):\n",
    "    '''If user enter larger value then return excetption message'''\n",
    "    pass\n",
    "\n",
    "import random\n",
    "\n",
    "number=random.randint(1,10)\n",
    "\n",
    "while True:\n",
    "    try:\n",
    "        user_number=int(input('Enter the number'))\n",
    "        if(user_number<number):\n",
    "            raise SmallError\n",
    "        elif (user_number>number):\n",
    "            raise LargeError\n",
    "        break\n",
    "    except SmallError:\n",
    "        print('Please enter greater value')\n",
    "    except LargeError:\n",
    "        print('Please enter small value')\n",
    "print('Congrats!!! You guessed correct number')\n"
   ]
  },
  {
   "cell_type": "code",
   "execution_count": 7,
   "metadata": {},
   "outputs": [
    {
     "name": "stdout",
     "output_type": "stream",
     "text": [
      "Help on class Exception in module builtins:\n",
      "\n",
      "class Exception(BaseException)\n",
      " |  Common base class for all non-exit exceptions.\n",
      " |\n",
      " |  Method resolution order:\n",
      " |      Exception\n",
      " |      BaseException\n",
      " |      object\n",
      " |\n",
      " |  Built-in subclasses:\n",
      " |      ArithmeticError\n",
      " |      AssertionError\n",
      " |      AttributeError\n",
      " |      BufferError\n",
      " |      ... and 16 other subclasses\n",
      " |\n",
      " |  Methods defined here:\n",
      " |\n",
      " |  __init__(self, /, *args, **kwargs)\n",
      " |      Initialize self.  See help(type(self)) for accurate signature.\n",
      " |\n",
      " |  ----------------------------------------------------------------------\n",
      " |  Static methods defined here:\n",
      " |\n",
      " |  __new__(*args, **kwargs)\n",
      " |      Create and return a new object.  See help(type) for accurate signature.\n",
      " |\n",
      " |  ----------------------------------------------------------------------\n",
      " |  Methods inherited from BaseException:\n",
      " |\n",
      " |  __delattr__(self, name, /)\n",
      " |      Implement delattr(self, name).\n",
      " |\n",
      " |  __getattribute__(self, name, /)\n",
      " |      Return getattr(self, name).\n",
      " |\n",
      " |  __reduce__(...)\n",
      " |      Helper for pickle.\n",
      " |\n",
      " |  __repr__(self, /)\n",
      " |      Return repr(self).\n",
      " |\n",
      " |  __setattr__(self, name, value, /)\n",
      " |      Implement setattr(self, name, value).\n",
      " |\n",
      " |  __setstate__(...)\n",
      " |\n",
      " |  __str__(self, /)\n",
      " |      Return str(self).\n",
      " |\n",
      " |  add_note(...)\n",
      " |      Exception.add_note(note) --\n",
      " |      add a note to the exception\n",
      " |\n",
      " |  with_traceback(...)\n",
      " |      Exception.with_traceback(tb) --\n",
      " |      set self.__traceback__ to tb and return self.\n",
      " |\n",
      " |  ----------------------------------------------------------------------\n",
      " |  Data descriptors inherited from BaseException:\n",
      " |\n",
      " |  __cause__\n",
      " |      exception cause\n",
      " |\n",
      " |  __context__\n",
      " |      exception context\n",
      " |\n",
      " |  __dict__\n",
      " |\n",
      " |  __suppress_context__\n",
      " |\n",
      " |  __traceback__\n",
      " |\n",
      " |  args\n",
      "\n",
      "Help on class BaseException in module builtins:\n",
      "\n",
      "class BaseException(object)\n",
      " |  Common base class for all exceptions\n",
      " |\n",
      " |  Built-in subclasses:\n",
      " |      BaseExceptionGroup\n",
      " |      Exception\n",
      " |      GeneratorExit\n",
      " |      KeyboardInterrupt\n",
      " |      ... and 1 other subclasses\n",
      " |\n",
      " |  Methods defined here:\n",
      " |\n",
      " |  __delattr__(self, name, /)\n",
      " |      Implement delattr(self, name).\n",
      " |\n",
      " |  __getattribute__(self, name, /)\n",
      " |      Return getattr(self, name).\n",
      " |\n",
      " |  __init__(self, /, *args, **kwargs)\n",
      " |      Initialize self.  See help(type(self)) for accurate signature.\n",
      " |\n",
      " |  __reduce__(...)\n",
      " |      Helper for pickle.\n",
      " |\n",
      " |  __repr__(self, /)\n",
      " |      Return repr(self).\n",
      " |\n",
      " |  __setattr__(self, name, value, /)\n",
      " |      Implement setattr(self, name, value).\n",
      " |\n",
      " |  __setstate__(...)\n",
      " |\n",
      " |  __str__(self, /)\n",
      " |      Return str(self).\n",
      " |\n",
      " |  add_note(...)\n",
      " |      Exception.add_note(note) --\n",
      " |      add a note to the exception\n",
      " |\n",
      " |  with_traceback(...)\n",
      " |      Exception.with_traceback(tb) --\n",
      " |      set self.__traceback__ to tb and return self.\n",
      " |\n",
      " |  ----------------------------------------------------------------------\n",
      " |  Static methods defined here:\n",
      " |\n",
      " |  __new__(*args, **kwargs)\n",
      " |      Create and return a new object.  See help(type) for accurate signature.\n",
      " |\n",
      " |  ----------------------------------------------------------------------\n",
      " |  Data descriptors defined here:\n",
      " |\n",
      " |  __cause__\n",
      " |      exception cause\n",
      " |\n",
      " |  __context__\n",
      " |      exception context\n",
      " |\n",
      " |  __dict__\n",
      " |\n",
      " |  __suppress_context__\n",
      " |\n",
      " |  __traceback__\n",
      " |\n",
      " |  args\n",
      "\n"
     ]
    }
   ],
   "source": [
    "help(Exception)\n",
    "help(BaseException)"
   ]
  },
  {
   "cell_type": "code",
   "execution_count": null,
   "metadata": {},
   "outputs": [],
   "source": []
  },
  {
   "cell_type": "code",
   "execution_count": null,
   "metadata": {},
   "outputs": [],
   "source": []
  },
  {
   "cell_type": "code",
   "execution_count": null,
   "metadata": {},
   "outputs": [],
   "source": []
  }
 ],
 "metadata": {
  "kernelspec": {
   "display_name": "Python 3",
   "language": "python",
   "name": "python3"
  },
  "language_info": {
   "codemirror_mode": {
    "name": "ipython",
    "version": 3
   },
   "file_extension": ".py",
   "mimetype": "text/x-python",
   "name": "python",
   "nbconvert_exporter": "python",
   "pygments_lexer": "ipython3",
   "version": "3.12.3"
  }
 },
 "nbformat": 4,
 "nbformat_minor": 2
}
