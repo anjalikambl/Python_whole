{
 "cells": [
  {
   "cell_type": "code",
   "execution_count": 2,
   "metadata": {},
   "outputs": [
    {
     "name": "stdout",
     "output_type": "stream",
     "text": [
      "Happy days\n"
     ]
    }
   ],
   "source": [
    "#function withoud=t parameter\n",
    "def sample():\n",
    "    print(\"Happy days\")\n",
    "sample()"
   ]
  },
  {
   "cell_type": "code",
   "execution_count": 3,
   "metadata": {},
   "outputs": [
    {
     "name": "stdout",
     "output_type": "stream",
     "text": [
      "x=100\n",
      "Happy Days\n",
      "x=Python\n",
      "Happy Days\n",
      "x=[10, 20, 30, 40, 50]\n",
      "Happy Days\n",
      "x=(20, 30, 40)\n",
      "Happy Days\n",
      "x={10, 20, 30}\n",
      "Happy Days\n"
     ]
    }
   ],
   "source": [
    "#function with parameter(constant value)\n",
    "def sample(x):\n",
    "    print(f\"x={x}\")\n",
    "    print(\"Happy Days\")\n",
    "sample(100)\n",
    "sample('Python')\n",
    "sample([10,20,30,40,50])\n",
    "sample((20,30,40))\n",
    "sample({10,20,30})"
   ]
  },
  {
   "cell_type": "code",
   "execution_count": 5,
   "metadata": {},
   "outputs": [
    {
     "name": "stdout",
     "output_type": "stream",
     "text": [
      "Addition 300\n",
      "Addition 340\n"
     ]
    }
   ],
   "source": [
    "#function definition with parameter=>formal parameter\n",
    "def show(x,y):\n",
    "    print('Addition',x+y)\n",
    "show(100,200)\n",
    "a=120\n",
    "b=220\n",
    "show(a,b)"
   ]
  },
  {
   "cell_type": "code",
   "execution_count": 7,
   "metadata": {},
   "outputs": [
    {
     "name": "stdout",
     "output_type": "stream",
     "text": [
      "Mobile samsung price is 20000\n",
      "Mobile oppo price is 20000\n",
      "Mobile 1plus price is 20000\n",
      "Mobile apple price is 100000\n"
     ]
    }
   ],
   "source": [
    "def monday(mobile_name='1plus',price=20000):\n",
    "    print(f\"Mobile {mobile_name} price is {price}\")\n",
    "monday('samsung',20000)\n",
    "monday('oppo')\n",
    "monday()\n",
    "monday('apple',100000)"
   ]
  },
  {
   "cell_type": "code",
   "execution_count": 9,
   "metadata": {},
   "outputs": [
    {
     "name": "stdout",
     "output_type": "stream",
     "text": [
      "Items names are ('laptop', 'mouns', 'tablet', 'digital writing pad')\n",
      "I want digital writing pad\n"
     ]
    }
   ],
   "source": [
    "#unknown parameter\n",
    "def simple(*items):\n",
    "    print('Items names are',items)\n",
    "    print(f\"I want {items[-1]}\")\n",
    "simple('laptop','mouns','tablet','digital writing pad')"
   ]
  },
  {
   "cell_type": "code",
   "execution_count": 10,
   "metadata": {},
   "outputs": [
    {
     "name": "stdout",
     "output_type": "stream",
     "text": [
      "Value of x is 200\n",
      "value of y is 40\n",
      "Value of x is 100\n",
      "value of y is 20\n",
      "Value of x is 50\n",
      "value of y is 20\n",
      "Value of x is 800\n",
      "value of y is 20\n"
     ]
    }
   ],
   "source": [
    "def test(x=100,y=20):  #formal and actual parameter\n",
    "    print('Value of x is',x)\n",
    "    print('value of y is',y)\n",
    "test(x=200,y=40)\n",
    "test()\n",
    "test(50)\n",
    "test(800)"
   ]
  },
  {
   "cell_type": "code",
   "execution_count": 12,
   "metadata": {},
   "outputs": [
    {
     "name": "stdout",
     "output_type": "stream",
     "text": [
      "Whats app members are {'Nikhil': 15623523, 'piyush': 495239590}\n"
     ]
    }
   ],
   "source": [
    "#keyword arguments (convert in dictionary)\n",
    "def whats_group(**name):\n",
    "    print('Whats app members are',name)\n",
    "whats_group(Nikhil=15623523,piyush=495239590)"
   ]
  },
  {
   "cell_type": "code",
   "execution_count": 13,
   "metadata": {},
   "outputs": [
    {
     "name": "stdout",
     "output_type": "stream",
     "text": [
      "inside function\n",
      "value of x=100 and y=100\n",
      "outside function\n"
     ]
    }
   ],
   "source": [
    "#variable types:=>local variable which are defined inside a function(local=client side store)\n",
    "def show():\n",
    "    x=100\n",
    "    y=200\n",
    "    print('inside function')\n",
    "    print(f'value of x={x} and y={x}')\n",
    "show()\n",
    "print('outside function')"
   ]
  },
  {
   "cell_type": "code",
   "execution_count": 1,
   "metadata": {},
   "outputs": [
    {
     "name": "stdout",
     "output_type": "stream",
     "text": [
      "value of x is 222\n",
      "value of x is 222\n"
     ]
    }
   ],
   "source": [
    "#variable types=>global variable which are defined inside a function (global=server side store)\n",
    "x=222\n",
    "def show():\n",
    "    print('value of x is',x)\n",
    "show()\n",
    "print('value of x is',x)"
   ]
  },
  {
   "cell_type": "code",
   "execution_count": 18,
   "metadata": {},
   "outputs": [
    {
     "name": "stdout",
     "output_type": "stream",
     "text": [
      "balance amount 240000\n"
     ]
    }
   ],
   "source": [
    "#black application=>credit ()\n",
    "balance_amount=200000 #gloabal variable\n",
    "def credit(amount):\n",
    "    global balance_amount\n",
    "    balance_amount+=amount\n",
    "    print('balance amount',balance_amount)\n",
    "credit(40000)"
   ]
  },
  {
   "cell_type": "code",
   "execution_count": 19,
   "metadata": {},
   "outputs": [
    {
     "name": "stdout",
     "output_type": "stream",
     "text": [
      "balance amount 240000\n"
     ]
    },
    {
     "data": {
      "text/plain": [
       "(240000, 40000)"
      ]
     },
     "execution_count": 19,
     "metadata": {},
     "output_type": "execute_result"
    }
   ],
   "source": [
    "#bank application=>credit\n",
    "#black application=>credit ()\n",
    "balance_amount=200000 #gloabal variable\n",
    "def credit(amount):\n",
    "    global balance_amount\n",
    "    balance_amount+=amount\n",
    "    print('balance amount',balance_amount)\n",
    "    return balance_amount,amount\n",
    "credit(40000)"
   ]
  },
  {
   "cell_type": "code",
   "execution_count": 3,
   "metadata": {},
   "outputs": [],
   "source": [
    "def rect(l,b):\n",
    "    area=l*b\n",
    "    return area\n",
    "rect(10,5)\n",
    "def circle(a):\n",
    "    area=22/7*a*a\n",
    "    return area\n",
    "def traingle(a,b):\n",
    "    area=0.5*a*b\n",
    "    return area\n",
    "def sq(a):\n",
    "    return a*a\n"
   ]
  },
  {
   "cell_type": "code",
   "execution_count": 2,
   "metadata": {},
   "outputs": [
    {
     "data": {
      "text/plain": [
       "(27, 33)"
      ]
     },
     "execution_count": 2,
     "metadata": {},
     "output_type": "execute_result"
    }
   ],
   "source": [
    "def show(x,y):\n",
    "    a=x\n",
    "    b=y\n",
    "    return a,b\n",
    "show(27,33)"
   ]
  },
  {
   "cell_type": "code",
   "execution_count": 5,
   "metadata": {},
   "outputs": [
    {
     "name": "stdout",
     "output_type": "stream",
     "text": [
      "x=33 y=22 or z=11\n"
     ]
    }
   ],
   "source": [
    "def sample(x,y,z):\n",
    "    print(f\"x={x} y={y} or z={z}\")\n",
    "sample(33,22,11)"
   ]
  },
  {
   "cell_type": "code",
   "execution_count": 8,
   "metadata": {},
   "outputs": [
    {
     "name": "stdout",
     "output_type": "stream",
     "text": [
      "x=22 y=33 or z=11\n"
     ]
    }
   ],
   "source": [
    "def sample(y,x,z):\n",
    "    print(f\"x={x} y={y} or z={z}\")\n",
    "sample(x=22,y=33,z=11)          #keyword variable"
   ]
  },
  {
   "cell_type": "code",
   "execution_count": 3,
   "metadata": {},
   "outputs": [
    {
     "name": "stdout",
     "output_type": "stream",
     "text": [
      "200\n"
     ]
    },
    {
     "data": {
      "text/plain": [
       "500"
      ]
     },
     "execution_count": 3,
     "metadata": {},
     "output_type": "execute_result"
    }
   ],
   "source": [
    "def sample(x,y=20):\n",
    "    return x*y\n",
    "print(sample(10))\n",
    "sample(10,50)"
   ]
  },
  {
   "cell_type": "code",
   "execution_count": 7,
   "metadata": {},
   "outputs": [
    {
     "name": "stdout",
     "output_type": "stream",
     "text": [
      "100\n"
     ]
    },
    {
     "data": {
      "text/plain": [
       "1000"
      ]
     },
     "execution_count": 7,
     "metadata": {},
     "output_type": "execute_result"
    }
   ],
   "source": [
    "def sample(x,y=2):\n",
    "    return pow(x,y)\n",
    "print(sample(10))\n",
    "sample(10,3)"
   ]
  },
  {
   "cell_type": "code",
   "execution_count": 6,
   "metadata": {},
   "outputs": [
    {
     "name": "stdout",
     "output_type": "stream",
     "text": [
      "Previos balance amount 151591\n",
      "Current balance amount is balance amount 156591\n"
     ]
    }
   ],
   "source": [
    "import bank_server\n",
    "\n",
    "print('Previos balance amount',bank_server.balance_amount)\n",
    "amt=int(input('Enter the amount'))\n",
    "bc=bank_server.credit(amt)\n",
    "print('Current balance amount is balance amount',bc)\n",
    "\n",
    "#it is server so it worked"
   ]
  },
  {
   "cell_type": "code",
   "execution_count": 5,
   "metadata": {},
   "outputs": [
    {
     "name": "stdout",
     "output_type": "stream",
     "text": [
      "Happy holi\n",
      "Happy diwali\n",
      "Happy Dasara\n"
     ]
    }
   ],
   "source": [
    "#function overloading\n",
    "from multipledispatch import dispatch\n",
    "@dispatch()                                        #decorator one function and functionality of another function\n",
    "def sample():\n",
    "    print('Happy holi')                             #function with same name if here funcion overloading occurs so we \n",
    "@dispatch(int)                                      #   use decorators to run all functions with same name\n",
    "def sample(x):\n",
    "    print('Happy diwali')\n",
    "@dispatch(float)   \n",
    "def sample(x):\n",
    "    print('Happy Dasara')\n",
    "\n",
    "sample()\n",
    "sample(100)\n",
    "sample(277.5)"
   ]
  },
  {
   "cell_type": "code",
   "execution_count": 16,
   "metadata": {},
   "outputs": [
    {
     "name": "stdout",
     "output_type": "stream",
     "text": [
      "20\n"
     ]
    }
   ],
   "source": [
    "x=40\n",
    "x=20\n",
    "print(x)"
   ]
  },
  {
   "cell_type": "code",
   "execution_count": 19,
   "metadata": {},
   "outputs": [
    {
     "name": "stdout",
     "output_type": "stream",
     "text": [
      "Collecting multipledispatch\n",
      "  Downloading multipledispatch-1.0.0-py3-none-any.whl.metadata (3.8 kB)\n",
      "Downloading multipledispatch-1.0.0-py3-none-any.whl (12 kB)\n",
      "Installing collected packages: multipledispatch\n",
      "Successfully installed multipledispatch-1.0.0\n",
      "Note: you may need to restart the kernel to use updated packages.\n"
     ]
    }
   ],
   "source": []
  },
  {
   "cell_type": "code",
   "execution_count": null,
   "metadata": {},
   "outputs": [],
   "source": [
    "#from multipledispatch import dispatch"
   ]
  }
 ],
 "metadata": {
  "kernelspec": {
   "display_name": "Python 3 (ipykernel)",
   "language": "python",
   "name": "python3"
  },
  "language_info": {
   "codemirror_mode": {
    "name": "ipython",
    "version": 3
   },
   "file_extension": ".py",
   "mimetype": "text/x-python",
   "name": "python",
   "nbconvert_exporter": "python",
   "pygments_lexer": "ipython3",
   "version": "3.12.3"
  }
 },
 "nbformat": 4,
 "nbformat_minor": 2
}
