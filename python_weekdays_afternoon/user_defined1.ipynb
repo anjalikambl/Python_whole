{
 "cells": [
  {
   "cell_type": "code",
   "execution_count": 1,
   "metadata": {},
   "outputs": [
    {
     "name": "stdout",
     "output_type": "stream",
     "text": [
      "Happy days\n"
     ]
    }
   ],
   "source": [
    "#function without parameter\n",
    "def sample():\n",
    "    print('Happy days')\n",
    "sample()"
   ]
  },
  {
   "cell_type": "code",
   "execution_count": 7,
   "metadata": {},
   "outputs": [
    {
     "name": "stdout",
     "output_type": "stream",
     "text": [
      "x=100\n",
      "Happy days\n",
      "x=python\n",
      "Happy days\n",
      "x=[10, 20, 30, 40]\n",
      "Happy days\n",
      "x=(10, 20, 30)\n",
      "Happy days\n",
      "x={1, 2, 3}\n",
      "Happy days\n"
     ]
    }
   ],
   "source": [
    "#function with parameter\n",
    "def sample(x):\n",
    "    print(f'x={x}')\n",
    "    print('Happy days')\n",
    "sample(100)                       #function call\n",
    "sample('python')                  #reusability  function call\n",
    "sample([10,20,30,40])             #function call\n",
    "sample((10,20,30))                #function call\n",
    "sample({1,2,3})                   #function call"
   ]
  },
  {
   "cell_type": "code",
   "execution_count": 10,
   "metadata": {},
   "outputs": [
    {
     "name": "stdout",
     "output_type": "stream",
     "text": [
      "Addition of two numbers 7\n",
      "Addition of two numbers 340\n"
     ]
    }
   ],
   "source": [
    "#function definition with parameter =>formal parameter\n",
    "def show(x,y):                          #formal parameter\n",
    "    print('Addition of two numbers',x+y)\n",
    "show(3,4)\n",
    "a=120;b=220\n",
    "show(a,b)                  #function call with parameter=>actual parameter"
   ]
  },
  {
   "cell_type": "code",
   "execution_count": 17,
   "metadata": {},
   "outputs": [
    {
     "name": "stdout",
     "output_type": "stream",
     "text": [
      "Mobile: Samsung price is 20000\n",
      "Mobile: Realme price is 40000\n",
      "Mobile: oppo price is 40000\n",
      "Mobile: 1plus price is 40000\n",
      "Mobile: Apple price is 100000\n"
     ]
    }
   ],
   "source": [
    "def monday(mobile_name='1plus',price=40000):            #default parameter\n",
    "    print(f'Mobile: {mobile_name} price is {price}')\n",
    "monday('Samsung',20000)\n",
    "monday('Realme')\n",
    "monday('oppo')\n",
    "monday()\n",
    "monday('Apple',100000)"
   ]
  },
  {
   "cell_type": "code",
   "execution_count": 21,
   "metadata": {},
   "outputs": [
    {
     "name": "stdout",
     "output_type": "stream",
     "text": [
      "Items names are ('laptop', 'sack')\n",
      "I want sack\n"
     ]
    }
   ],
   "source": [
    "#unknown parameter\n",
    "def simple(*items):\n",
    "    print('Items names are',items)\n",
    "    print(f'I want {items[-1]}')\n",
    "simple('laptop','sack','tablet','digital writing pad')\n",
    "\n",
    " \n"
   ]
  },
  {
   "cell_type": "code",
   "execution_count": 29,
   "metadata": {},
   "outputs": [
    {
     "name": "stdout",
     "output_type": "stream",
     "text": [
      "Value of x is 200\n",
      "Value of y is 40\n",
      "Value of x is 100\n",
      "Value of y is 20\n",
      "Value of x is 50\n",
      "Value of y is 20\n",
      "Value of x is 100\n",
      "Value of y is 800\n"
     ]
    }
   ],
   "source": [
    "def test(x=100,y=20):\n",
    "    print('Value of x is',x)\n",
    "    print('Value of y is',y)\n",
    "test(x=200,y=40)           #actual parameter and default parameter should be same\n",
    "test()\n",
    "test(50)\n",
    "test(y=800)"
   ]
  },
  {
   "cell_type": "code",
   "execution_count": 30,
   "metadata": {},
   "outputs": [
    {
     "name": "stdout",
     "output_type": "stream",
     "text": [
      "Value of x is 100\n",
      "Value of y is 400\n"
     ]
    }
   ],
   "source": [
    "a=100\n",
    "b=400\n",
    "test(a,b)"
   ]
  },
  {
   "cell_type": "code",
   "execution_count": 37,
   "metadata": {},
   "outputs": [
    {
     "name": "stdout",
     "output_type": "stream",
     "text": [
      "'What's members are {'Nikhil': 143252542, 'piyush': 45353}\n"
     ]
    }
   ],
   "source": [
    "#keyword arguments\n",
    "def whats_group(**name):\n",
    "    print(\"'What's members are\",name)\n",
    "whats_group(Nikhil=143252542,piyush=45353)"
   ]
  },
  {
   "cell_type": "code",
   "execution_count": 45,
   "metadata": {},
   "outputs": [
    {
     "name": "stdout",
     "output_type": "stream",
     "text": [
      "Inside a function\n",
      "fValue of x=100 and y=200\n"
     ]
    }
   ],
   "source": [
    "#variables type:local variable whic are defined outside a function\n",
    "def show():\n",
    "    x=100\n",
    "    y=200\n",
    "    print('Inside a function')\n",
    "    print(f'fValue of x={x} and y={y}')\n",
    "show()\n",
    "#print('Outside a function')\n",
    "#print(f'fValue of x={x} and y={y}')"
   ]
  },
  {
   "cell_type": "code",
   "execution_count": 50,
   "metadata": {},
   "outputs": [
    {
     "name": "stdout",
     "output_type": "stream",
     "text": [
      "Inside a function\n",
      "Value of x=200\n",
      "value of x is 222\n"
     ]
    }
   ],
   "source": [
    "#variables type:local variable whic are defined outside a function\n",
    "x=222\n",
    "def show():\n",
    "    x=200\n",
    "    print('Inside a function')\n",
    "    print(f'Value of x={x}')\n",
    "show()\n",
    "print(f'value of x is',x)"
   ]
  },
  {
   "cell_type": "code",
   "execution_count": 55,
   "metadata": {},
   "outputs": [
    {
     "name": "stdout",
     "output_type": "stream",
     "text": [
      "balance amount is 24000\n"
     ]
    }
   ],
   "source": [
    "#bank application=>credit()\n",
    "balance_amount=20000  #gloabal variable\n",
    "def credit(amount):\n",
    "    global balance_amount\n",
    "    balance_amount+=amount\n",
    "    print('balance amount is',balance_amount)\n",
    "credit(4000) #function call"
   ]
  },
  {
   "cell_type": "code",
   "execution_count": 60,
   "metadata": {},
   "outputs": [
    {
     "name": "stdout",
     "output_type": "stream",
     "text": [
      "Your account has been credited 4000 My current balance is24000\n"
     ]
    }
   ],
   "source": [
    "#bank application=>credit()\n",
    "balance_amount=20000  #gloabal variable\n",
    "def credit(amount):\n",
    "    global balance_amount\n",
    "    balance_amount+=amount\n",
    "    return balance_amount,amount\n",
    "bc,amt=credit(4000) #function call\n",
    "print(f'Your account has been credited {amt} My current balance is{bc}')\n",
    "#we can return multiple values and also we can do expression "
   ]
  },
  {
   "cell_type": "code",
   "execution_count": null,
   "metadata": {},
   "outputs": [],
   "source": [
    "#Write a function to calculate area of rectangle,circle,triangle,square"
   ]
  },
  {
   "cell_type": "code",
   "execution_count": null,
   "metadata": {},
   "outputs": [],
   "source": []
  },
  {
   "cell_type": "code",
   "execution_count": null,
   "metadata": {},
   "outputs": [],
   "source": []
  }
 ],
 "metadata": {
  "kernelspec": {
   "display_name": "Python 3",
   "language": "python",
   "name": "python3"
  },
  "language_info": {
   "codemirror_mode": {
    "name": "ipython",
    "version": 3
   },
   "file_extension": ".py",
   "mimetype": "text/x-python",
   "name": "python",
   "nbconvert_exporter": "python",
   "pygments_lexer": "ipython3",
   "version": "3.12.3"
  }
 },
 "nbformat": 4,
 "nbformat_minor": 2
}
