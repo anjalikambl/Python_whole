{
 "cells": [
  {
   "cell_type": "code",
   "execution_count": 8,
   "metadata": {},
   "outputs": [
    {
     "name": "stdout",
     "output_type": "stream",
     "text": [
      "Sum of 10 number 55\n"
     ]
    }
   ],
   "source": [
    "#to display sum of numbers from 1 to 10\n",
    "i=1\n",
    "sum=0\n",
    "while(i<=10):\n",
    "    sum+=i\n",
    "    i+=1\n",
    "print('Sum of 10 number',sum)"
   ]
  },
  {
   "cell_type": "code",
   "execution_count": 6,
   "metadata": {},
   "outputs": [
    {
     "name": "stdout",
     "output_type": "stream",
     "text": [
      "Entered number is  5896\n",
      "Sum of digits of a given number 23\n"
     ]
    }
   ],
   "source": [
    "#to display the sum of digits of a given number\n",
    "n=int(input('Enter the number'))\n",
    "print('Entered number is ',n)\n",
    "sum_of_digits=0\n",
    "while(n>0):\n",
    "    rem=n%10\n",
    "    sum_of_digits+=rem\n",
    "    n//=10\n",
    "print('Sum of digits of a given number',sum_of_digits)   "
   ]
  },
  {
   "cell_type": "code",
   "execution_count": 24,
   "metadata": {},
   "outputs": [
    {
     "name": "stdout",
     "output_type": "stream",
     "text": [
      "Entered number is  153\n",
      "Sum of digits of a given number is 153\n",
      "Given number 153 is Armstrong number\n"
     ]
    }
   ],
   "source": [
    "#Armstrong number or not\n",
    "n=int(input('Enter the number'))\n",
    "print('Entered number is ',n)\n",
    "temp=n\n",
    "l=len(str(temp))\n",
    "sum_of_digits=0\n",
    "while(n>0):\n",
    "    rem=n%10\n",
    "    sum_of_digits+=rem**l\n",
    "    n//=10\n",
    "print('Sum of digits of a given number is',sum_of_digits)   \n",
    "if(sum_of_digits==temp):\n",
    "    print(f'Given number {temp} is Armstrong number')   \n",
    "else:\n",
    "    print(f'Given number {temp} is not Armstrong number') "
   ]
  },
  {
   "cell_type": "code",
   "execution_count": 23,
   "metadata": {},
   "outputs": [
    {
     "name": "stdout",
     "output_type": "stream",
     "text": [
      "10\n",
      "9\n",
      "8\n",
      "7\n",
      "6\n",
      "5\n",
      "4\n",
      "3\n",
      "2\n",
      "1\n",
      "Else executed\n"
     ]
    }
   ],
   "source": [
    "i=10\n",
    "while(i>0):\n",
    "    print(i)\n",
    "    i-=1\n",
    "else: \n",
    "    print('Else executed')"
   ]
  },
  {
   "cell_type": "code",
   "execution_count": 25,
   "metadata": {},
   "outputs": [
    {
     "name": "stdout",
     "output_type": "stream",
     "text": [
      "outer loop 1\n",
      "1\n",
      "2\n",
      "3\n",
      "outer loop 2\n",
      "1\n",
      "2\n",
      "3\n"
     ]
    }
   ],
   "source": [
    "i=1\n",
    "while(i<=2):               # 1,2\n",
    "    print('outer loop',i)\n",
    "    j=1\n",
    "    while(j<=3):            #1,2,3 \n",
    "        print(j)            #1,2,3\n",
    "        j+=1\n",
    "    i+=1                      #2,3"
   ]
  },
  {
   "cell_type": "code",
   "execution_count": 1,
   "metadata": {},
   "outputs": [
    {
     "name": "stdout",
     "output_type": "stream",
     "text": [
      "bye\n"
     ]
    }
   ],
   "source": [
    "i=10\n",
    "\n",
    "while False:\n",
    "    print('hello')\n",
    "print('bye')"
   ]
  },
  {
   "cell_type": "code",
   "execution_count": null,
   "metadata": {},
   "outputs": [],
   "source": [
    "#i=10\n",
    "\n",
    "#while True:\n",
    "#    print('hello')\n",
    "#print('bye')"
   ]
  },
  {
   "cell_type": "code",
   "execution_count": 3,
   "metadata": {},
   "outputs": [
    {
     "name": "stdout",
     "output_type": "stream",
     "text": [
      "Exit from the while loop\n"
     ]
    }
   ],
   "source": [
    "while []:\n",
    "    print(\"hello....\")\n",
    "print('Exit from the while loop')"
   ]
  },
  {
   "cell_type": "code",
   "execution_count": 7,
   "metadata": {},
   "outputs": [],
   "source": [
    "# variable value,variabl is true always in while loop infinite loop "
   ]
  },
  {
   "cell_type": "code",
   "execution_count": 6,
   "metadata": {},
   "outputs": [],
   "source": [
    "while 0:\n",
    "    print('anjali')"
   ]
  },
  {
   "cell_type": "code",
   "execution_count": 9,
   "metadata": {},
   "outputs": [
    {
     "name": "stdout",
     "output_type": "stream",
     "text": [
      "hip hip hurray\n",
      "bye\n",
      "Happy Days\n"
     ]
    }
   ],
   "source": [
    "i=15\n",
    "while(i<=20):                              #while and if var value always true\n",
    "    print('hip hip hurray')\n",
    "    if ('Hello'):\n",
    "        print('bye')\n",
    "        break\n",
    "print('Happy Days')"
   ]
  },
  {
   "cell_type": "code",
   "execution_count": 12,
   "metadata": {},
   "outputs": [
    {
     "name": "stdout",
     "output_type": "stream",
     "text": [
      "Welcome\n",
      "50\n",
      "Welcome\n",
      "50\n",
      "Welcome\n",
      "50\n",
      "Welcome\n",
      "50\n",
      "Welcome\n",
      "50\n"
     ]
    }
   ],
   "source": [
    "for i in '12345':  #string is iterative\n",
    "    print('Welcome')\n",
    "    pass     #null value\n",
    "    print(eval('20+30'))\n"
   ]
  },
  {
   "cell_type": "code",
   "execution_count": 2,
   "metadata": {},
   "outputs": [
    {
     "ename": "ZeroDivisionError",
     "evalue": "division by zero",
     "output_type": "error",
     "traceback": [
      "\u001b[1;31m---------------------------------------------------------------------------\u001b[0m",
      "\u001b[1;31mZeroDivisionError\u001b[0m                         Traceback (most recent call last)",
      "Cell \u001b[1;32mIn[2], line 3\u001b[0m\n\u001b[0;32m      1\u001b[0m a\u001b[38;5;241m=\u001b[39m\u001b[38;5;241m34\u001b[39m\n\u001b[0;32m      2\u001b[0m b\u001b[38;5;241m=\u001b[39m\u001b[38;5;241m0\u001b[39m\n\u001b[1;32m----> 3\u001b[0m \u001b[38;5;28;01massert\u001b[39;00m \u001b[43ma\u001b[49m\u001b[38;5;241;43m/\u001b[39;49m\u001b[43mb\u001b[49m , \u001b[38;5;124m'\u001b[39m\u001b[38;5;124mb variable value should be non zero\u001b[39m\u001b[38;5;124m'\u001b[39m    \u001b[38;5;66;03m#control statement\u001b[39;00m\n",
      "\u001b[1;31mZeroDivisionError\u001b[0m: division by zero"
     ]
    }
   ],
   "source": [
    "a=34\n",
    "b=0\n",
    "assert a/b , 'b variable value should be non zero'    #control statement\n"
   ]
  },
  {
   "cell_type": "code",
   "execution_count": 19,
   "metadata": {},
   "outputs": [
    {
     "name": "stdout",
     "output_type": "stream",
     "text": [
      "3.4\n"
     ]
    }
   ],
   "source": [
    "a=34\n",
    "b=10\n",
    "assert b>0\n",
    "print(a/b)"
   ]
  },
  {
   "cell_type": "code",
   "execution_count": null,
   "metadata": {},
   "outputs": [],
   "source": [
    "\n",
    "#try exception assert"
   ]
  },
  {
   "cell_type": "code",
   "execution_count": null,
   "metadata": {},
   "outputs": [],
   "source": []
  },
  {
   "cell_type": "code",
   "execution_count": null,
   "metadata": {},
   "outputs": [],
   "source": []
  }
 ],
 "metadata": {
  "kernelspec": {
   "display_name": "Python 3",
   "language": "python",
   "name": "python3"
  },
  "language_info": {
   "codemirror_mode": {
    "name": "ipython",
    "version": 3
   },
   "file_extension": ".py",
   "mimetype": "text/x-python",
   "name": "python",
   "nbconvert_exporter": "python",
   "pygments_lexer": "ipython3",
   "version": "3.12.3"
  }
 },
 "nbformat": 4,
 "nbformat_minor": 2
}
